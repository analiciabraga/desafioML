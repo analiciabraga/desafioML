{
 "cells": [
  {
   "cell_type": "markdown",
   "id": "c3ecd6be",
   "metadata": {},
   "source": [
    "# Prevendo a nota final dos alunos da Escola Todos Unidos"
   ]
  },
  {
   "cell_type": "code",
   "execution_count": 1,
   "id": "4df5b4bb",
   "metadata": {},
   "outputs": [],
   "source": [
    "import pandas as pd\n",
    "import numpy as np\n",
    "\n",
    "from sklearn.model_selection import cross_val_score\n",
    "from sklearn.tree import DecisionTreeRegressor\n",
    "\n",
    "import matplotlib.pyplot as plt\n",
    "from matplotlib.font_manager import FontProperties\n",
    "\n",
    "from sklearn.model_selection import train_test_split\n",
    "\n",
    "from graphviz import render"
   ]
  },
  {
   "cell_type": "code",
   "execution_count": 2,
   "id": "575a878c",
   "metadata": {},
   "outputs": [
    {
     "data": {
      "text/plain": [
       "(395, 33)"
      ]
     },
     "execution_count": 2,
     "metadata": {},
     "output_type": "execute_result"
    }
   ],
   "source": [
    "df_notas = pd.read_csv('student-mat.csv')\n",
    "df_notas.shape"
   ]
  },
  {
   "cell_type": "code",
   "execution_count": null,
   "id": "632bbed5",
   "metadata": {},
   "outputs": [],
   "source": [
    "df_notas.head(2)"
   ]
  },
  {
   "cell_type": "code",
   "execution_count": null,
   "id": "86368dde",
   "metadata": {},
   "outputs": [],
   "source": [
    "#Verificação de dados faltantes"
   ]
  },
  {
   "cell_type": "code",
   "execution_count": null,
   "id": "47fe9222",
   "metadata": {},
   "outputs": [],
   "source": [
    "def missing_values_table(df):\n",
    "        mis_val = df.isnull().sum() # conta a quantidade de missing\n",
    "        mis_val_percent = 100 * df.isnull().sum() / len(df) # calcula a porcentagem\n",
    "        mis_val_table = pd.concat([mis_val, mis_val_percent], axis=1) # cria uma tabela\n",
    "        mis_val_table_ren_columns = mis_val_table.rename(\n",
    "        columns = {0 : 'Valores faltantes', 1 : '% do total'}) # renomeia as colunas\n",
    "        mis_val_table_ren_columns = mis_val_table_ren_columns[\n",
    "            mis_val_table_ren_columns.iloc[:,1] != 0].sort_values(\n",
    "        '% do total', ascending=False).round(1) # ordena os valores\n",
    "        print (\"Você selecionou um dataframe que tem \" + str(df.shape[1]) + \" colunas.\\n\"      \n",
    "            \"E há \" + str(mis_val_table_ren_columns.shape[0]) +\n",
    "              \" colunas com valores faltantes\")\n",
    "        return mis_val_table_ren_columns"
   ]
  },
  {
   "cell_type": "code",
   "execution_count": null,
   "id": "606675aa",
   "metadata": {},
   "outputs": [],
   "source": [
    "missing_df = missing_values_table(df_notas)\n",
    "missing_df.tail()"
   ]
  },
  {
   "cell_type": "markdown",
   "id": "d0a0dc13",
   "metadata": {},
   "source": [
    "## Preparação da planilha"
   ]
  },
  {
   "cell_type": "markdown",
   "id": "ccc05f20",
   "metadata": {},
   "source": [
    "### TRATANDO DADOS CATEGÓRICOS: Transformar variáveis categóricas em numéricas"
   ]
  },
  {
   "cell_type": "code",
   "execution_count": 3,
   "id": "31880cf8",
   "metadata": {},
   "outputs": [],
   "source": [
    "categoricas = ['school',\\\n",
    "               'sex',\\\n",
    "              'address',\\\n",
    "              'famsize',\\\n",
    "               'Pstatus',\\\n",
    "               'Mjob',\\\n",
    "               'Fjob',\\\n",
    "               'reason',\\\n",
    "               'guardian',\\\n",
    "               'schoolsup',\\\n",
    "               'famsup',\\\n",
    "               'paid',\\\n",
    "               'activities',\\\n",
    "               'nursery',\\\n",
    "               'higher',\\\n",
    "               'internet',\\\n",
    "               'romantic',\n",
    "                ]"
   ]
  },
  {
   "cell_type": "code",
   "execution_count": 4,
   "id": "68b3faa5",
   "metadata": {},
   "outputs": [],
   "source": [
    "from sklearn.preprocessing import LabelEncoder"
   ]
  },
  {
   "cell_type": "code",
   "execution_count": null,
   "id": "37847db8",
   "metadata": {},
   "outputs": [],
   "source": [
    "from sklearn.preprocessing import OrdinalEncoder"
   ]
  },
  {
   "cell_type": "code",
   "execution_count": null,
   "id": "200cda27",
   "metadata": {},
   "outputs": [],
   "source": [
    "categoricas[2]"
   ]
  },
  {
   "cell_type": "code",
   "execution_count": 5,
   "id": "a2afa367",
   "metadata": {},
   "outputs": [
    {
     "data": {
      "text/html": [
       "<div>\n",
       "<style scoped>\n",
       "    .dataframe tbody tr th:only-of-type {\n",
       "        vertical-align: middle;\n",
       "    }\n",
       "\n",
       "    .dataframe tbody tr th {\n",
       "        vertical-align: top;\n",
       "    }\n",
       "\n",
       "    .dataframe thead th {\n",
       "        text-align: right;\n",
       "    }\n",
       "</style>\n",
       "<table border=\"1\" class=\"dataframe\">\n",
       "  <thead>\n",
       "    <tr style=\"text-align: right;\">\n",
       "      <th></th>\n",
       "      <th>school</th>\n",
       "      <th>sex</th>\n",
       "      <th>address</th>\n",
       "      <th>famsize</th>\n",
       "      <th>Pstatus</th>\n",
       "      <th>Mjob</th>\n",
       "      <th>Fjob</th>\n",
       "      <th>reason</th>\n",
       "      <th>guardian</th>\n",
       "      <th>schoolsup</th>\n",
       "      <th>famsup</th>\n",
       "      <th>paid</th>\n",
       "      <th>activities</th>\n",
       "      <th>nursery</th>\n",
       "      <th>higher</th>\n",
       "      <th>internet</th>\n",
       "      <th>romantic</th>\n",
       "    </tr>\n",
       "  </thead>\n",
       "  <tbody>\n",
       "    <tr>\n",
       "      <th>0</th>\n",
       "      <td>0</td>\n",
       "      <td>0</td>\n",
       "      <td>1</td>\n",
       "      <td>0</td>\n",
       "      <td>0</td>\n",
       "      <td>0</td>\n",
       "      <td>4</td>\n",
       "      <td>0</td>\n",
       "      <td>1</td>\n",
       "      <td>1</td>\n",
       "      <td>0</td>\n",
       "      <td>0</td>\n",
       "      <td>0</td>\n",
       "      <td>1</td>\n",
       "      <td>1</td>\n",
       "      <td>0</td>\n",
       "      <td>0</td>\n",
       "    </tr>\n",
       "    <tr>\n",
       "      <th>1</th>\n",
       "      <td>0</td>\n",
       "      <td>0</td>\n",
       "      <td>1</td>\n",
       "      <td>0</td>\n",
       "      <td>1</td>\n",
       "      <td>0</td>\n",
       "      <td>2</td>\n",
       "      <td>0</td>\n",
       "      <td>0</td>\n",
       "      <td>0</td>\n",
       "      <td>1</td>\n",
       "      <td>0</td>\n",
       "      <td>0</td>\n",
       "      <td>0</td>\n",
       "      <td>1</td>\n",
       "      <td>1</td>\n",
       "      <td>0</td>\n",
       "    </tr>\n",
       "    <tr>\n",
       "      <th>2</th>\n",
       "      <td>0</td>\n",
       "      <td>0</td>\n",
       "      <td>1</td>\n",
       "      <td>1</td>\n",
       "      <td>1</td>\n",
       "      <td>0</td>\n",
       "      <td>2</td>\n",
       "      <td>2</td>\n",
       "      <td>1</td>\n",
       "      <td>1</td>\n",
       "      <td>0</td>\n",
       "      <td>1</td>\n",
       "      <td>0</td>\n",
       "      <td>1</td>\n",
       "      <td>1</td>\n",
       "      <td>1</td>\n",
       "      <td>0</td>\n",
       "    </tr>\n",
       "    <tr>\n",
       "      <th>3</th>\n",
       "      <td>0</td>\n",
       "      <td>0</td>\n",
       "      <td>1</td>\n",
       "      <td>0</td>\n",
       "      <td>1</td>\n",
       "      <td>1</td>\n",
       "      <td>3</td>\n",
       "      <td>1</td>\n",
       "      <td>1</td>\n",
       "      <td>0</td>\n",
       "      <td>1</td>\n",
       "      <td>1</td>\n",
       "      <td>1</td>\n",
       "      <td>1</td>\n",
       "      <td>1</td>\n",
       "      <td>1</td>\n",
       "      <td>1</td>\n",
       "    </tr>\n",
       "    <tr>\n",
       "      <th>4</th>\n",
       "      <td>0</td>\n",
       "      <td>0</td>\n",
       "      <td>1</td>\n",
       "      <td>0</td>\n",
       "      <td>1</td>\n",
       "      <td>2</td>\n",
       "      <td>2</td>\n",
       "      <td>1</td>\n",
       "      <td>0</td>\n",
       "      <td>0</td>\n",
       "      <td>1</td>\n",
       "      <td>1</td>\n",
       "      <td>0</td>\n",
       "      <td>1</td>\n",
       "      <td>1</td>\n",
       "      <td>0</td>\n",
       "      <td>0</td>\n",
       "    </tr>\n",
       "  </tbody>\n",
       "</table>\n",
       "</div>"
      ],
      "text/plain": [
       "   school  sex  address  famsize  Pstatus  Mjob  Fjob  reason  guardian  \\\n",
       "0       0    0        1        0        0     0     4       0         1   \n",
       "1       0    0        1        0        1     0     2       0         0   \n",
       "2       0    0        1        1        1     0     2       2         1   \n",
       "3       0    0        1        0        1     1     3       1         1   \n",
       "4       0    0        1        0        1     2     2       1         0   \n",
       "\n",
       "   schoolsup  famsup  paid  activities  nursery  higher  internet  romantic  \n",
       "0          1       0     0           0        1       1         0         0  \n",
       "1          0       1     0           0        0       1         1         0  \n",
       "2          1       0     1           0        1       1         1         0  \n",
       "3          0       1     1           1        1       1         1         1  \n",
       "4          0       1     1           0        1       1         0         0  "
      ]
     },
     "execution_count": 5,
     "metadata": {},
     "output_type": "execute_result"
    }
   ],
   "source": [
    "le = LabelEncoder()\n",
    "# apply le on categorical feature columns\n",
    "df_notas[categoricas] = df_notas[categoricas].apply(lambda col: le.fit_transform(col))\n",
    "df_notas[categoricas].head( )"
   ]
  },
  {
   "cell_type": "code",
   "execution_count": null,
   "id": "d842ef15",
   "metadata": {},
   "outputs": [],
   "source": [
    "oe = OrdinalEncoder()\n",
    "categorical = df_notas[categoricas]\n",
    "oe.fit(categorical)\n",
    "numerical = oe.transform(categorical)\n",
    "\n",
    "for n, feat in enumerate(categoricas):\n",
    "    df_notas[feat] = numerical[:, n]"
   ]
  },
  {
   "cell_type": "code",
   "execution_count": null,
   "id": "59b96ae9",
   "metadata": {},
   "outputs": [],
   "source": [
    "df_notas.head()"
   ]
  },
  {
   "cell_type": "markdown",
   "id": "b5983cc2",
   "metadata": {},
   "source": [
    "### Normalização dos dados"
   ]
  },
  {
   "cell_type": "code",
   "execution_count": 6,
   "id": "b3a50346",
   "metadata": {},
   "outputs": [],
   "source": [
    "from sklearn.preprocessing import StandardScaler"
   ]
  },
  {
   "cell_type": "code",
   "execution_count": 7,
   "id": "c87c7efa",
   "metadata": {},
   "outputs": [],
   "source": [
    "escala = StandardScaler().fit(df_notas)\n",
    "df_notasN = escala.transform(df_notas)\n",
    "df_notas = pd.DataFrame(StandardScaler().fit_transform(df_notasN), columns=df_notas.columns, index=df_notas.index)"
   ]
  },
  {
   "cell_type": "code",
   "execution_count": 8,
   "id": "4213554f",
   "metadata": {},
   "outputs": [
    {
     "data": {
      "text/html": [
       "<div>\n",
       "<style scoped>\n",
       "    .dataframe tbody tr th:only-of-type {\n",
       "        vertical-align: middle;\n",
       "    }\n",
       "\n",
       "    .dataframe tbody tr th {\n",
       "        vertical-align: top;\n",
       "    }\n",
       "\n",
       "    .dataframe thead th {\n",
       "        text-align: right;\n",
       "    }\n",
       "</style>\n",
       "<table border=\"1\" class=\"dataframe\">\n",
       "  <thead>\n",
       "    <tr style=\"text-align: right;\">\n",
       "      <th></th>\n",
       "      <th>school</th>\n",
       "      <th>sex</th>\n",
       "      <th>age</th>\n",
       "      <th>address</th>\n",
       "      <th>famsize</th>\n",
       "      <th>Pstatus</th>\n",
       "      <th>Medu</th>\n",
       "      <th>Fedu</th>\n",
       "      <th>Mjob</th>\n",
       "      <th>Fjob</th>\n",
       "      <th>...</th>\n",
       "      <th>famrel</th>\n",
       "      <th>freetime</th>\n",
       "      <th>goout</th>\n",
       "      <th>Dalc</th>\n",
       "      <th>Walc</th>\n",
       "      <th>health</th>\n",
       "      <th>absences</th>\n",
       "      <th>G1</th>\n",
       "      <th>G2</th>\n",
       "      <th>G3</th>\n",
       "    </tr>\n",
       "  </thead>\n",
       "  <tbody>\n",
       "    <tr>\n",
       "      <th>0</th>\n",
       "      <td>-0.36305</td>\n",
       "      <td>-0.948176</td>\n",
       "      <td>1.023046</td>\n",
       "      <td>0.535392</td>\n",
       "      <td>-0.636941</td>\n",
       "      <td>-2.938392</td>\n",
       "      <td>1.143856</td>\n",
       "      <td>1.360371</td>\n",
       "      <td>-1.769793</td>\n",
       "      <td>1.993149</td>\n",
       "      <td>...</td>\n",
       "      <td>0.062194</td>\n",
       "      <td>-0.236010</td>\n",
       "      <td>0.801479</td>\n",
       "      <td>-0.540699</td>\n",
       "      <td>-1.003789</td>\n",
       "      <td>-0.399289</td>\n",
       "      <td>0.036424</td>\n",
       "      <td>-1.782467</td>\n",
       "      <td>-1.254791</td>\n",
       "      <td>-0.964934</td>\n",
       "    </tr>\n",
       "    <tr>\n",
       "      <th>1</th>\n",
       "      <td>-0.36305</td>\n",
       "      <td>-0.948176</td>\n",
       "      <td>0.238380</td>\n",
       "      <td>0.535392</td>\n",
       "      <td>-0.636941</td>\n",
       "      <td>0.340322</td>\n",
       "      <td>-1.600009</td>\n",
       "      <td>-1.399970</td>\n",
       "      <td>-1.769793</td>\n",
       "      <td>-0.325831</td>\n",
       "      <td>...</td>\n",
       "      <td>1.178860</td>\n",
       "      <td>-0.236010</td>\n",
       "      <td>-0.097908</td>\n",
       "      <td>-0.540699</td>\n",
       "      <td>-1.003789</td>\n",
       "      <td>-0.399289</td>\n",
       "      <td>-0.213796</td>\n",
       "      <td>-1.782467</td>\n",
       "      <td>-1.520979</td>\n",
       "      <td>-0.964934</td>\n",
       "    </tr>\n",
       "    <tr>\n",
       "      <th>2</th>\n",
       "      <td>-0.36305</td>\n",
       "      <td>-0.948176</td>\n",
       "      <td>-1.330954</td>\n",
       "      <td>0.535392</td>\n",
       "      <td>1.570004</td>\n",
       "      <td>0.340322</td>\n",
       "      <td>-1.600009</td>\n",
       "      <td>-1.399970</td>\n",
       "      <td>-1.769793</td>\n",
       "      <td>-0.325831</td>\n",
       "      <td>...</td>\n",
       "      <td>0.062194</td>\n",
       "      <td>-0.236010</td>\n",
       "      <td>-0.997295</td>\n",
       "      <td>0.583385</td>\n",
       "      <td>0.551100</td>\n",
       "      <td>-0.399289</td>\n",
       "      <td>0.536865</td>\n",
       "      <td>-1.179147</td>\n",
       "      <td>-0.722415</td>\n",
       "      <td>-0.090739</td>\n",
       "    </tr>\n",
       "    <tr>\n",
       "      <th>3</th>\n",
       "      <td>-0.36305</td>\n",
       "      <td>-0.948176</td>\n",
       "      <td>-1.330954</td>\n",
       "      <td>0.535392</td>\n",
       "      <td>-0.636941</td>\n",
       "      <td>0.340322</td>\n",
       "      <td>1.143856</td>\n",
       "      <td>-0.479857</td>\n",
       "      <td>-0.954077</td>\n",
       "      <td>0.833659</td>\n",
       "      <td>...</td>\n",
       "      <td>-1.054472</td>\n",
       "      <td>-1.238419</td>\n",
       "      <td>-0.997295</td>\n",
       "      <td>-0.540699</td>\n",
       "      <td>-1.003789</td>\n",
       "      <td>1.041070</td>\n",
       "      <td>-0.464016</td>\n",
       "      <td>1.234133</td>\n",
       "      <td>0.874715</td>\n",
       "      <td>1.002004</td>\n",
       "    </tr>\n",
       "    <tr>\n",
       "      <th>4</th>\n",
       "      <td>-0.36305</td>\n",
       "      <td>-0.948176</td>\n",
       "      <td>-0.546287</td>\n",
       "      <td>0.535392</td>\n",
       "      <td>-0.636941</td>\n",
       "      <td>0.340322</td>\n",
       "      <td>0.229234</td>\n",
       "      <td>0.440257</td>\n",
       "      <td>-0.138362</td>\n",
       "      <td>-0.325831</td>\n",
       "      <td>...</td>\n",
       "      <td>0.062194</td>\n",
       "      <td>-0.236010</td>\n",
       "      <td>-0.997295</td>\n",
       "      <td>-0.540699</td>\n",
       "      <td>-0.226345</td>\n",
       "      <td>1.041070</td>\n",
       "      <td>-0.213796</td>\n",
       "      <td>-1.480807</td>\n",
       "      <td>-0.190038</td>\n",
       "      <td>-0.090739</td>\n",
       "    </tr>\n",
       "  </tbody>\n",
       "</table>\n",
       "<p>5 rows × 33 columns</p>\n",
       "</div>"
      ],
      "text/plain": [
       "    school       sex       age   address   famsize   Pstatus      Medu  \\\n",
       "0 -0.36305 -0.948176  1.023046  0.535392 -0.636941 -2.938392  1.143856   \n",
       "1 -0.36305 -0.948176  0.238380  0.535392 -0.636941  0.340322 -1.600009   \n",
       "2 -0.36305 -0.948176 -1.330954  0.535392  1.570004  0.340322 -1.600009   \n",
       "3 -0.36305 -0.948176 -1.330954  0.535392 -0.636941  0.340322  1.143856   \n",
       "4 -0.36305 -0.948176 -0.546287  0.535392 -0.636941  0.340322  0.229234   \n",
       "\n",
       "       Fedu      Mjob      Fjob  ...    famrel  freetime     goout      Dalc  \\\n",
       "0  1.360371 -1.769793  1.993149  ...  0.062194 -0.236010  0.801479 -0.540699   \n",
       "1 -1.399970 -1.769793 -0.325831  ...  1.178860 -0.236010 -0.097908 -0.540699   \n",
       "2 -1.399970 -1.769793 -0.325831  ...  0.062194 -0.236010 -0.997295  0.583385   \n",
       "3 -0.479857 -0.954077  0.833659  ... -1.054472 -1.238419 -0.997295 -0.540699   \n",
       "4  0.440257 -0.138362 -0.325831  ...  0.062194 -0.236010 -0.997295 -0.540699   \n",
       "\n",
       "       Walc    health  absences        G1        G2        G3  \n",
       "0 -1.003789 -0.399289  0.036424 -1.782467 -1.254791 -0.964934  \n",
       "1 -1.003789 -0.399289 -0.213796 -1.782467 -1.520979 -0.964934  \n",
       "2  0.551100 -0.399289  0.536865 -1.179147 -0.722415 -0.090739  \n",
       "3 -1.003789  1.041070 -0.464016  1.234133  0.874715  1.002004  \n",
       "4 -0.226345  1.041070 -0.213796 -1.480807 -0.190038 -0.090739  \n",
       "\n",
       "[5 rows x 33 columns]"
      ]
     },
     "execution_count": 8,
     "metadata": {},
     "output_type": "execute_result"
    }
   ],
   "source": [
    "df_notas.head()"
   ]
  },
  {
   "cell_type": "code",
   "execution_count": null,
   "id": "3511f0b2",
   "metadata": {},
   "outputs": [],
   "source": [
    "from sklearn.preprocessing import Normalizer"
   ]
  },
  {
   "cell_type": "code",
   "execution_count": null,
   "id": "cba344e0",
   "metadata": {},
   "outputs": [],
   "source": [
    "escala = Normalizer().fit(df_notas)\n",
    "df_notasN = escala.transform(df_notas)\n",
    "df_notas = pd.DataFrame(Normalizer().fit_transform(df_notasN), columns=df_notas.columns, index=df_notas.index)"
   ]
  },
  {
   "cell_type": "code",
   "execution_count": null,
   "id": "20c004db",
   "metadata": {},
   "outputs": [],
   "source": [
    "df_notas.head()"
   ]
  },
  {
   "cell_type": "markdown",
   "id": "ed97a329",
   "metadata": {},
   "source": [
    "### Construindo gráficos de demonstração de importância das variáveis"
   ]
  },
  {
   "cell_type": "code",
   "execution_count": 9,
   "id": "e73640c4",
   "metadata": {},
   "outputs": [],
   "source": [
    "X = df_notas.drop('G3', axis=1)\n",
    "y = df_notas['G3']"
   ]
  },
  {
   "cell_type": "code",
   "execution_count": null,
   "id": "f80c8405",
   "metadata": {},
   "outputs": [],
   "source": [
    "print(X.shape)\n",
    "print(y.shape)"
   ]
  },
  {
   "cell_type": "code",
   "execution_count": 21,
   "id": "de5329b9",
   "metadata": {},
   "outputs": [
    {
     "data": {
      "text/html": [
       "<div>\n",
       "<style scoped>\n",
       "    .dataframe tbody tr th:only-of-type {\n",
       "        vertical-align: middle;\n",
       "    }\n",
       "\n",
       "    .dataframe tbody tr th {\n",
       "        vertical-align: top;\n",
       "    }\n",
       "\n",
       "    .dataframe thead th {\n",
       "        text-align: right;\n",
       "    }\n",
       "</style>\n",
       "<table border=\"1\" class=\"dataframe\">\n",
       "  <thead>\n",
       "    <tr style=\"text-align: right;\">\n",
       "      <th></th>\n",
       "      <th>school</th>\n",
       "      <th>sex</th>\n",
       "      <th>age</th>\n",
       "      <th>address</th>\n",
       "      <th>famsize</th>\n",
       "      <th>Pstatus</th>\n",
       "      <th>Medu</th>\n",
       "      <th>Fedu</th>\n",
       "      <th>Mjob</th>\n",
       "      <th>Fjob</th>\n",
       "      <th>...</th>\n",
       "      <th>romantic</th>\n",
       "      <th>famrel</th>\n",
       "      <th>freetime</th>\n",
       "      <th>goout</th>\n",
       "      <th>Dalc</th>\n",
       "      <th>Walc</th>\n",
       "      <th>health</th>\n",
       "      <th>absences</th>\n",
       "      <th>G1</th>\n",
       "      <th>G2</th>\n",
       "    </tr>\n",
       "  </thead>\n",
       "  <tbody>\n",
       "    <tr>\n",
       "      <th>0</th>\n",
       "      <td>-0.363050</td>\n",
       "      <td>-0.948176</td>\n",
       "      <td>1.023046</td>\n",
       "      <td>0.535392</td>\n",
       "      <td>-0.636941</td>\n",
       "      <td>-2.938392</td>\n",
       "      <td>1.143856</td>\n",
       "      <td>1.360371</td>\n",
       "      <td>-1.769793</td>\n",
       "      <td>1.993149</td>\n",
       "      <td>...</td>\n",
       "      <td>-0.708450</td>\n",
       "      <td>0.062194</td>\n",
       "      <td>-0.236010</td>\n",
       "      <td>0.801479</td>\n",
       "      <td>-0.540699</td>\n",
       "      <td>-1.003789</td>\n",
       "      <td>-0.399289</td>\n",
       "      <td>0.036424</td>\n",
       "      <td>-1.782467</td>\n",
       "      <td>-1.254791</td>\n",
       "    </tr>\n",
       "    <tr>\n",
       "      <th>1</th>\n",
       "      <td>-0.363050</td>\n",
       "      <td>-0.948176</td>\n",
       "      <td>0.238380</td>\n",
       "      <td>0.535392</td>\n",
       "      <td>-0.636941</td>\n",
       "      <td>0.340322</td>\n",
       "      <td>-1.600009</td>\n",
       "      <td>-1.399970</td>\n",
       "      <td>-1.769793</td>\n",
       "      <td>-0.325831</td>\n",
       "      <td>...</td>\n",
       "      <td>-0.708450</td>\n",
       "      <td>1.178860</td>\n",
       "      <td>-0.236010</td>\n",
       "      <td>-0.097908</td>\n",
       "      <td>-0.540699</td>\n",
       "      <td>-1.003789</td>\n",
       "      <td>-0.399289</td>\n",
       "      <td>-0.213796</td>\n",
       "      <td>-1.782467</td>\n",
       "      <td>-1.520979</td>\n",
       "    </tr>\n",
       "    <tr>\n",
       "      <th>2</th>\n",
       "      <td>-0.363050</td>\n",
       "      <td>-0.948176</td>\n",
       "      <td>-1.330954</td>\n",
       "      <td>0.535392</td>\n",
       "      <td>1.570004</td>\n",
       "      <td>0.340322</td>\n",
       "      <td>-1.600009</td>\n",
       "      <td>-1.399970</td>\n",
       "      <td>-1.769793</td>\n",
       "      <td>-0.325831</td>\n",
       "      <td>...</td>\n",
       "      <td>-0.708450</td>\n",
       "      <td>0.062194</td>\n",
       "      <td>-0.236010</td>\n",
       "      <td>-0.997295</td>\n",
       "      <td>0.583385</td>\n",
       "      <td>0.551100</td>\n",
       "      <td>-0.399289</td>\n",
       "      <td>0.536865</td>\n",
       "      <td>-1.179147</td>\n",
       "      <td>-0.722415</td>\n",
       "    </tr>\n",
       "    <tr>\n",
       "      <th>3</th>\n",
       "      <td>-0.363050</td>\n",
       "      <td>-0.948176</td>\n",
       "      <td>-1.330954</td>\n",
       "      <td>0.535392</td>\n",
       "      <td>-0.636941</td>\n",
       "      <td>0.340322</td>\n",
       "      <td>1.143856</td>\n",
       "      <td>-0.479857</td>\n",
       "      <td>-0.954077</td>\n",
       "      <td>0.833659</td>\n",
       "      <td>...</td>\n",
       "      <td>1.411533</td>\n",
       "      <td>-1.054472</td>\n",
       "      <td>-1.238419</td>\n",
       "      <td>-0.997295</td>\n",
       "      <td>-0.540699</td>\n",
       "      <td>-1.003789</td>\n",
       "      <td>1.041070</td>\n",
       "      <td>-0.464016</td>\n",
       "      <td>1.234133</td>\n",
       "      <td>0.874715</td>\n",
       "    </tr>\n",
       "    <tr>\n",
       "      <th>4</th>\n",
       "      <td>-0.363050</td>\n",
       "      <td>-0.948176</td>\n",
       "      <td>-0.546287</td>\n",
       "      <td>0.535392</td>\n",
       "      <td>-0.636941</td>\n",
       "      <td>0.340322</td>\n",
       "      <td>0.229234</td>\n",
       "      <td>0.440257</td>\n",
       "      <td>-0.138362</td>\n",
       "      <td>-0.325831</td>\n",
       "      <td>...</td>\n",
       "      <td>-0.708450</td>\n",
       "      <td>0.062194</td>\n",
       "      <td>-0.236010</td>\n",
       "      <td>-0.997295</td>\n",
       "      <td>-0.540699</td>\n",
       "      <td>-0.226345</td>\n",
       "      <td>1.041070</td>\n",
       "      <td>-0.213796</td>\n",
       "      <td>-1.480807</td>\n",
       "      <td>-0.190038</td>\n",
       "    </tr>\n",
       "    <tr>\n",
       "      <th>...</th>\n",
       "      <td>...</td>\n",
       "      <td>...</td>\n",
       "      <td>...</td>\n",
       "      <td>...</td>\n",
       "      <td>...</td>\n",
       "      <td>...</td>\n",
       "      <td>...</td>\n",
       "      <td>...</td>\n",
       "      <td>...</td>\n",
       "      <td>...</td>\n",
       "      <td>...</td>\n",
       "      <td>...</td>\n",
       "      <td>...</td>\n",
       "      <td>...</td>\n",
       "      <td>...</td>\n",
       "      <td>...</td>\n",
       "      <td>...</td>\n",
       "      <td>...</td>\n",
       "      <td>...</td>\n",
       "      <td>...</td>\n",
       "      <td>...</td>\n",
       "    </tr>\n",
       "    <tr>\n",
       "      <th>390</th>\n",
       "      <td>2.754443</td>\n",
       "      <td>1.054656</td>\n",
       "      <td>2.592380</td>\n",
       "      <td>0.535392</td>\n",
       "      <td>1.570004</td>\n",
       "      <td>-2.938392</td>\n",
       "      <td>-0.685387</td>\n",
       "      <td>-0.479857</td>\n",
       "      <td>0.677354</td>\n",
       "      <td>0.833659</td>\n",
       "      <td>...</td>\n",
       "      <td>-0.708450</td>\n",
       "      <td>1.178860</td>\n",
       "      <td>1.768808</td>\n",
       "      <td>0.801479</td>\n",
       "      <td>2.831553</td>\n",
       "      <td>2.105989</td>\n",
       "      <td>0.320890</td>\n",
       "      <td>0.661975</td>\n",
       "      <td>-0.575827</td>\n",
       "      <td>-0.456226</td>\n",
       "    </tr>\n",
       "    <tr>\n",
       "      <th>391</th>\n",
       "      <td>2.754443</td>\n",
       "      <td>1.054656</td>\n",
       "      <td>0.238380</td>\n",
       "      <td>0.535392</td>\n",
       "      <td>1.570004</td>\n",
       "      <td>0.340322</td>\n",
       "      <td>0.229234</td>\n",
       "      <td>-1.399970</td>\n",
       "      <td>0.677354</td>\n",
       "      <td>0.833659</td>\n",
       "      <td>...</td>\n",
       "      <td>-0.708450</td>\n",
       "      <td>-2.171138</td>\n",
       "      <td>0.766399</td>\n",
       "      <td>1.700867</td>\n",
       "      <td>1.707469</td>\n",
       "      <td>1.328545</td>\n",
       "      <td>-1.119469</td>\n",
       "      <td>-0.338906</td>\n",
       "      <td>0.932473</td>\n",
       "      <td>1.407091</td>\n",
       "    </tr>\n",
       "    <tr>\n",
       "      <th>392</th>\n",
       "      <td>2.754443</td>\n",
       "      <td>1.054656</td>\n",
       "      <td>3.377047</td>\n",
       "      <td>-1.867789</td>\n",
       "      <td>-0.636941</td>\n",
       "      <td>0.340322</td>\n",
       "      <td>-1.600009</td>\n",
       "      <td>-1.399970</td>\n",
       "      <td>-0.138362</td>\n",
       "      <td>-0.325831</td>\n",
       "      <td>...</td>\n",
       "      <td>-0.708450</td>\n",
       "      <td>1.178860</td>\n",
       "      <td>1.768808</td>\n",
       "      <td>-0.097908</td>\n",
       "      <td>1.707469</td>\n",
       "      <td>0.551100</td>\n",
       "      <td>-0.399289</td>\n",
       "      <td>-0.338906</td>\n",
       "      <td>-0.274167</td>\n",
       "      <td>-0.722415</td>\n",
       "    </tr>\n",
       "    <tr>\n",
       "      <th>393</th>\n",
       "      <td>2.754443</td>\n",
       "      <td>1.054656</td>\n",
       "      <td>1.023046</td>\n",
       "      <td>-1.867789</td>\n",
       "      <td>1.570004</td>\n",
       "      <td>0.340322</td>\n",
       "      <td>0.229234</td>\n",
       "      <td>-0.479857</td>\n",
       "      <td>0.677354</td>\n",
       "      <td>-0.325831</td>\n",
       "      <td>...</td>\n",
       "      <td>-0.708450</td>\n",
       "      <td>0.062194</td>\n",
       "      <td>0.766399</td>\n",
       "      <td>-1.896683</td>\n",
       "      <td>1.707469</td>\n",
       "      <td>1.328545</td>\n",
       "      <td>1.041070</td>\n",
       "      <td>-0.714236</td>\n",
       "      <td>0.027493</td>\n",
       "      <td>0.342338</td>\n",
       "    </tr>\n",
       "    <tr>\n",
       "      <th>394</th>\n",
       "      <td>2.754443</td>\n",
       "      <td>1.054656</td>\n",
       "      <td>1.807713</td>\n",
       "      <td>0.535392</td>\n",
       "      <td>1.570004</td>\n",
       "      <td>0.340322</td>\n",
       "      <td>-1.600009</td>\n",
       "      <td>-1.399970</td>\n",
       "      <td>-0.138362</td>\n",
       "      <td>-2.644812</td>\n",
       "      <td>...</td>\n",
       "      <td>-0.708450</td>\n",
       "      <td>-1.054472</td>\n",
       "      <td>-1.238419</td>\n",
       "      <td>-0.097908</td>\n",
       "      <td>1.707469</td>\n",
       "      <td>0.551100</td>\n",
       "      <td>1.041070</td>\n",
       "      <td>-0.088686</td>\n",
       "      <td>-0.877487</td>\n",
       "      <td>-0.456226</td>\n",
       "    </tr>\n",
       "  </tbody>\n",
       "</table>\n",
       "<p>395 rows × 32 columns</p>\n",
       "</div>"
      ],
      "text/plain": [
       "       school       sex       age   address   famsize   Pstatus      Medu  \\\n",
       "0   -0.363050 -0.948176  1.023046  0.535392 -0.636941 -2.938392  1.143856   \n",
       "1   -0.363050 -0.948176  0.238380  0.535392 -0.636941  0.340322 -1.600009   \n",
       "2   -0.363050 -0.948176 -1.330954  0.535392  1.570004  0.340322 -1.600009   \n",
       "3   -0.363050 -0.948176 -1.330954  0.535392 -0.636941  0.340322  1.143856   \n",
       "4   -0.363050 -0.948176 -0.546287  0.535392 -0.636941  0.340322  0.229234   \n",
       "..        ...       ...       ...       ...       ...       ...       ...   \n",
       "390  2.754443  1.054656  2.592380  0.535392  1.570004 -2.938392 -0.685387   \n",
       "391  2.754443  1.054656  0.238380  0.535392  1.570004  0.340322  0.229234   \n",
       "392  2.754443  1.054656  3.377047 -1.867789 -0.636941  0.340322 -1.600009   \n",
       "393  2.754443  1.054656  1.023046 -1.867789  1.570004  0.340322  0.229234   \n",
       "394  2.754443  1.054656  1.807713  0.535392  1.570004  0.340322 -1.600009   \n",
       "\n",
       "         Fedu      Mjob      Fjob  ...  romantic    famrel  freetime  \\\n",
       "0    1.360371 -1.769793  1.993149  ... -0.708450  0.062194 -0.236010   \n",
       "1   -1.399970 -1.769793 -0.325831  ... -0.708450  1.178860 -0.236010   \n",
       "2   -1.399970 -1.769793 -0.325831  ... -0.708450  0.062194 -0.236010   \n",
       "3   -0.479857 -0.954077  0.833659  ...  1.411533 -1.054472 -1.238419   \n",
       "4    0.440257 -0.138362 -0.325831  ... -0.708450  0.062194 -0.236010   \n",
       "..        ...       ...       ...  ...       ...       ...       ...   \n",
       "390 -0.479857  0.677354  0.833659  ... -0.708450  1.178860  1.768808   \n",
       "391 -1.399970  0.677354  0.833659  ... -0.708450 -2.171138  0.766399   \n",
       "392 -1.399970 -0.138362 -0.325831  ... -0.708450  1.178860  1.768808   \n",
       "393 -0.479857  0.677354 -0.325831  ... -0.708450  0.062194  0.766399   \n",
       "394 -1.399970 -0.138362 -2.644812  ... -0.708450 -1.054472 -1.238419   \n",
       "\n",
       "        goout      Dalc      Walc    health  absences        G1        G2  \n",
       "0    0.801479 -0.540699 -1.003789 -0.399289  0.036424 -1.782467 -1.254791  \n",
       "1   -0.097908 -0.540699 -1.003789 -0.399289 -0.213796 -1.782467 -1.520979  \n",
       "2   -0.997295  0.583385  0.551100 -0.399289  0.536865 -1.179147 -0.722415  \n",
       "3   -0.997295 -0.540699 -1.003789  1.041070 -0.464016  1.234133  0.874715  \n",
       "4   -0.997295 -0.540699 -0.226345  1.041070 -0.213796 -1.480807 -0.190038  \n",
       "..        ...       ...       ...       ...       ...       ...       ...  \n",
       "390  0.801479  2.831553  2.105989  0.320890  0.661975 -0.575827 -0.456226  \n",
       "391  1.700867  1.707469  1.328545 -1.119469 -0.338906  0.932473  1.407091  \n",
       "392 -0.097908  1.707469  0.551100 -0.399289 -0.338906 -0.274167 -0.722415  \n",
       "393 -1.896683  1.707469  1.328545  1.041070 -0.714236  0.027493  0.342338  \n",
       "394 -0.097908  1.707469  0.551100  1.041070 -0.088686 -0.877487 -0.456226  \n",
       "\n",
       "[395 rows x 32 columns]"
      ]
     },
     "execution_count": 21,
     "metadata": {},
     "output_type": "execute_result"
    }
   ],
   "source": [
    "X"
   ]
  },
  {
   "cell_type": "code",
   "execution_count": null,
   "id": "c1295a2a",
   "metadata": {},
   "outputs": [],
   "source": [
    "y"
   ]
  },
  {
   "cell_type": "code",
   "execution_count": null,
   "id": "b337066d",
   "metadata": {},
   "outputs": [],
   "source": [
    "X.columns"
   ]
  },
  {
   "cell_type": "markdown",
   "id": "3b313a9e",
   "metadata": {},
   "source": [
    "## Dados preparados para escolha do tipo de algoritmo"
   ]
  },
  {
   "cell_type": "markdown",
   "id": "77155585",
   "metadata": {},
   "source": [
    "### Teste com RandomForestClassifier"
   ]
  },
  {
   "cell_type": "code",
   "execution_count": null,
   "id": "2a39d675",
   "metadata": {},
   "outputs": [],
   "source": [
    "from sklearn.ensemble import RandomForestClassifier"
   ]
  },
  {
   "cell_type": "code",
   "execution_count": null,
   "id": "789dc71a",
   "metadata": {},
   "outputs": [],
   "source": [
    "var_imp_RFC = RandomForestClassifier(n_estimators=5)\n",
    "var_imp_RFC.fit(X, y)"
   ]
  },
  {
   "cell_type": "code",
   "execution_count": null,
   "id": "9cabf8db",
   "metadata": {},
   "outputs": [],
   "source": [
    "print(var_imp_RFC.feature_importances_)"
   ]
  },
  {
   "cell_type": "code",
   "execution_count": null,
   "id": "db68e23f",
   "metadata": {},
   "outputs": [],
   "source": [
    "RFC_teste = var_imp_RFC.feature_importances_\n",
    "\n",
    "# enumerar a ordem de importância da variável neste teste\n",
    "for i,v in enumerate(RFC_teste):\n",
    "    print('Feature: %0d, Score: %.5f' % (i,v))"
   ]
  },
  {
   "cell_type": "code",
   "execution_count": null,
   "id": "e353cfd1",
   "metadata": {},
   "outputs": [],
   "source": [
    "features_n = X.columns"
   ]
  },
  {
   "cell_type": "code",
   "execution_count": null,
   "id": "2aca9a6a",
   "metadata": {},
   "outputs": [],
   "source": [
    "# plot feature importance\n",
    "plt.bar([x for x in range(len(RFC_teste))], RFC_teste)\n",
    "plt.xticks([x for x in range(len(RFC_teste))], features_n, rotation='vertical')\n",
    "plt.show()"
   ]
  },
  {
   "cell_type": "code",
   "execution_count": null,
   "id": "f14f1cf0",
   "metadata": {},
   "outputs": [],
   "source": [
    "#Conclusões até o momento: as variáveis mais significativas são G2 e G1 (obviamente), absences, Walc,\n",
    "# Mjob, health, goout, Fedu, age"
   ]
  },
  {
   "cell_type": "markdown",
   "id": "a8242fb6",
   "metadata": {},
   "source": [
    "### Teste com DecisionRegressionTree"
   ]
  },
  {
   "cell_type": "code",
   "execution_count": null,
   "id": "0cbd87dd",
   "metadata": {},
   "outputs": [],
   "source": [
    "# Fit regression model\n",
    "regr_1 = DecisionTreeRegressor()\n",
    "regr_1.fit(X, y)\n",
    "# Predict\n",
    "y_pred = regr_1.predict(X)"
   ]
  },
  {
   "cell_type": "code",
   "execution_count": null,
   "id": "e7697643",
   "metadata": {},
   "outputs": [],
   "source": [
    "from sklearn.metrics import r2_score # quanto mais proximo de 1 melhor o modelo\n",
    "print(r2_score(y, regr_1.predict(X)))"
   ]
  },
  {
   "cell_type": "code",
   "execution_count": null,
   "id": "0bcb0eda",
   "metadata": {},
   "outputs": [],
   "source": [
    "from sklearn.metrics import mean_absolute_error  # desvio médio entre observado e predito.\n",
    "mean_absolute_error(y, y_pred)"
   ]
  },
  {
   "cell_type": "code",
   "execution_count": null,
   "id": "ce1ab34e",
   "metadata": {},
   "outputs": [],
   "source": [
    "# Fit regression model\n",
    "regr_1 = DecisionTreeRegressor()\n",
    "regr_1.fit(X, y)\n",
    "# Predict\n",
    "y_pred = regr_1.predict(X)"
   ]
  },
  {
   "cell_type": "code",
   "execution_count": null,
   "id": "e4ae104b",
   "metadata": {},
   "outputs": [],
   "source": [
    "mean_absolute_error(y, y_pred)"
   ]
  },
  {
   "cell_type": "code",
   "execution_count": null,
   "id": "e8e0ce2c",
   "metadata": {},
   "outputs": [],
   "source": [
    "DTR_teste = regr_1.feature_importances_\n",
    "\n",
    "# summarize feature importance\n",
    "for i,v in enumerate(DTR_teste):\n",
    "    print('Feature: %0d, Score: %.5f' % (i,v))"
   ]
  },
  {
   "cell_type": "code",
   "execution_count": null,
   "id": "716d903c",
   "metadata": {},
   "outputs": [],
   "source": [
    "features_n = X.columns"
   ]
  },
  {
   "cell_type": "code",
   "execution_count": null,
   "id": "955dde8e",
   "metadata": {},
   "outputs": [],
   "source": [
    "# plot feature importance\n",
    "plt.bar([x for x in range(len(DTR_teste))], DTR_teste)\n",
    "plt.xticks([x for x in range(len(DTR_teste))], features_n, rotation='vertical')\n",
    "plt.show()"
   ]
  },
  {
   "cell_type": "code",
   "execution_count": null,
   "id": "50e839f1",
   "metadata": {},
   "outputs": [],
   "source": [
    "X_train, X_test, y_train, y_test = train_test_split(\n",
    "    X, y, test_size=0.20, random_state=42)"
   ]
  },
  {
   "cell_type": "code",
   "execution_count": null,
   "id": "4e674eef",
   "metadata": {},
   "outputs": [],
   "source": [
    "X_test.shape"
   ]
  },
  {
   "cell_type": "code",
   "execution_count": null,
   "id": "a53139f7",
   "metadata": {},
   "outputs": [],
   "source": [
    "X_train.shape"
   ]
  },
  {
   "cell_type": "code",
   "execution_count": null,
   "id": "0c9f8355",
   "metadata": {},
   "outputs": [],
   "source": [
    "# Fit regression model\n",
    "regr_1 = DecisionTreeRegressor(max_depth=4)\n",
    "regr_1.fit(X_train, y_train)\n",
    "\n",
    "# Predict\n",
    "y_pred = regr_1.predict(X_test)"
   ]
  },
  {
   "cell_type": "code",
   "execution_count": null,
   "id": "bb23a8e1",
   "metadata": {},
   "outputs": [],
   "source": [
    "mean_absolute_error(y_test, y_pred)"
   ]
  },
  {
   "cell_type": "code",
   "execution_count": null,
   "id": "6e81bd14",
   "metadata": {},
   "outputs": [],
   "source": [
    "from sklearn.tree import export_graphviz  \n",
    "  \n",
    "# export the decision tree to a tree.dot file \n",
    "# for visualizing the plot easily anywhere \n",
    "export_graphviz(regr_1, out_file ='tree.dot')  \n",
    "\n",
    "render('dot', 'png', 'tree.dot')  "
   ]
  },
  {
   "cell_type": "code",
   "execution_count": null,
   "id": "dc8d76bc",
   "metadata": {},
   "outputs": [],
   "source": [
    "from sklearn import tree\n",
    "\n",
    "# plot tree\n",
    "plt.figure(figsize=(12,12))  # set plot size (denoted in inches)\n",
    "tree.plot_tree(regr_1, fontsize=8)\n",
    "plt.show()\n"
   ]
  },
  {
   "cell_type": "code",
   "execution_count": null,
   "id": "cdde0045",
   "metadata": {},
   "outputs": [],
   "source": [
    "X"
   ]
  },
  {
   "cell_type": "code",
   "execution_count": null,
   "id": "fb80f4bc",
   "metadata": {},
   "outputs": [],
   "source": [
    "#Conclusões até agora: aparentemente o DecisionTreeRegression não foi o melhor método"
   ]
  },
  {
   "cell_type": "code",
   "execution_count": null,
   "id": "891d8b85",
   "metadata": {},
   "outputs": [],
   "source": [
    "# Fit regression model\n",
    "regr_1 = DecisionTreeRegressor(max_depth=4)\n",
    "regr_1.fit(X, y)\n",
    "\n"
   ]
  },
  {
   "cell_type": "code",
   "execution_count": null,
   "id": "2a088d9b",
   "metadata": {},
   "outputs": [],
   "source": [
    "DTR_teste = regr_1.feature_importances_\n",
    "\n",
    "# summarize feature importance\n",
    "for i,v in enumerate(DTR_teste):\n",
    "    print('Feature: %0d, Score: %.5f' % (i,v))"
   ]
  },
  {
   "cell_type": "code",
   "execution_count": null,
   "id": "1c8a32b3",
   "metadata": {},
   "outputs": [],
   "source": [
    "features_n = X.columns"
   ]
  },
  {
   "cell_type": "code",
   "execution_count": null,
   "id": "e60e4952",
   "metadata": {},
   "outputs": [],
   "source": [
    "# plot feature importance\n",
    "plt.bar([x for x in range(len(DTR_teste))], DTR_teste)\n",
    "plt.xticks([x for x in range(len(DTR_teste))], features_n, rotation='vertical')\n",
    "plt.show()"
   ]
  },
  {
   "cell_type": "code",
   "execution_count": null,
   "id": "a2f5b417",
   "metadata": {},
   "outputs": [],
   "source": [
    "df_notas.iloc[:,31].value_counts()"
   ]
  },
  {
   "cell_type": "code",
   "execution_count": null,
   "id": "0d0f6ed3",
   "metadata": {},
   "outputs": [],
   "source": [
    "df_notas2 = df_notas[(df_notas.iloc[:,31] == 10) & (df_notas.iloc[:,29] == 0) ]"
   ]
  },
  {
   "cell_type": "code",
   "execution_count": null,
   "id": "e6a39157",
   "metadata": {},
   "outputs": [],
   "source": [
    "df_notas2 = df_notas2.drop(['G2', 'absences'], axis=1)"
   ]
  },
  {
   "cell_type": "code",
   "execution_count": null,
   "id": "9f382cfd",
   "metadata": {},
   "outputs": [],
   "source": [
    "X = df_notas2.drop('G3', axis=1)\n",
    "y = df_notas2['G3']"
   ]
  },
  {
   "cell_type": "code",
   "execution_count": null,
   "id": "390b68ec",
   "metadata": {},
   "outputs": [],
   "source": [
    "X_train, X_test, y_train, y_test = train_test_split(\n",
    "    X, y, test_size=0.20, random_state=42)"
   ]
  },
  {
   "cell_type": "code",
   "execution_count": null,
   "id": "b1c195cb",
   "metadata": {},
   "outputs": [],
   "source": [
    "# Fit regression model\n",
    "regr_1 = DecisionTreeRegressor(max_depth=4)\n",
    "regr_1.fit(X_train, y_train)\n",
    "\n",
    "# Predict\n",
    "y_pred = regr_1.predict(X_test)"
   ]
  },
  {
   "cell_type": "code",
   "execution_count": null,
   "id": "6dafef64",
   "metadata": {},
   "outputs": [],
   "source": [
    "mean_absolute_error(y_test, y_pred)"
   ]
  },
  {
   "cell_type": "code",
   "execution_count": null,
   "id": "b4b71707",
   "metadata": {},
   "outputs": [],
   "source": [
    "features_n = X.columns"
   ]
  },
  {
   "cell_type": "code",
   "execution_count": null,
   "id": "52d28b19",
   "metadata": {},
   "outputs": [],
   "source": [
    "DTR_teste = regr_1.feature_importances_\n",
    "\n",
    "# summarize feature importance\n",
    "for i,v in enumerate(DTR_teste):\n",
    "    print('Feature: %0d, Score: %.5f' % (i,v))"
   ]
  },
  {
   "cell_type": "code",
   "execution_count": null,
   "id": "04bc9111",
   "metadata": {},
   "outputs": [],
   "source": [
    "# plot feature importance\n",
    "plt.bar([x for x in range(len(DTR_teste))], DTR_teste)\n",
    "plt.xticks([x for x in range(len(DTR_teste))], features_n, rotation='vertical')\n",
    "plt.show()"
   ]
  },
  {
   "cell_type": "code",
   "execution_count": null,
   "id": "6deae7e6",
   "metadata": {},
   "outputs": [],
   "source": [
    "#Conclusões até aqui: não funcionou bem esse método ou estou fazendo algo muito errado"
   ]
  },
  {
   "cell_type": "markdown",
   "id": "223913f6",
   "metadata": {},
   "source": [
    "### Teste com Recursive Feature Elimination RFE"
   ]
  },
  {
   "cell_type": "code",
   "execution_count": null,
   "id": "848715bc",
   "metadata": {},
   "outputs": [],
   "source": [
    "#Uso do RandomForestRegressor"
   ]
  },
  {
   "cell_type": "code",
   "execution_count": 11,
   "id": "94668587",
   "metadata": {},
   "outputs": [],
   "source": [
    "from sklearn.feature_selection import RFE\n",
    "from sklearn.ensemble import RandomForestRegressor\n",
    "from operator import itemgetter"
   ]
  },
  {
   "cell_type": "code",
   "execution_count": null,
   "id": "99eece96",
   "metadata": {},
   "outputs": [],
   "source": [
    "#X = df_notas.drop('G3', axis=1)\n",
    "#y = df_notas['G3']\n",
    "features = X.columns\n",
    "X_train       = df_notas[features]\n",
    "y_train       = y\n",
    "final_X_test  = df_notas[features]"
   ]
  },
  {
   "cell_type": "code",
   "execution_count": null,
   "id": "54736a0e",
   "metadata": {},
   "outputs": [],
   "source": [
    "regressor = RandomForestRegressor(n_estimators=100, max_depth=10)"
   ]
  },
  {
   "cell_type": "code",
   "execution_count": null,
   "id": "a71667f9",
   "metadata": {},
   "outputs": [],
   "source": [
    "#rfe_notas = RFE(RFE_teste)\n",
    "# here we want only one final feature, we do this to produce a ranking\n",
    "n_features_to_select = 1\n",
    "rfe = RFE(regressor, n_features_to_select)\n",
    "rfe.fit(X_train, y_train)"
   ]
  },
  {
   "cell_type": "code",
   "execution_count": null,
   "id": "0cd17c02",
   "metadata": {},
   "outputs": [],
   "source": [
    "for x, y in (sorted(zip(rfe.ranking_ , features), key=itemgetter(0))):\n",
    "    print(x, y)"
   ]
  },
  {
   "cell_type": "code",
   "execution_count": null,
   "id": "94daaed8",
   "metadata": {},
   "outputs": [],
   "source": [
    "n_features_to_select = 10\n",
    "rfe = RFE(regressor, n_features_to_select)\n",
    "rfe.fit(X_train, y_train)"
   ]
  },
  {
   "cell_type": "code",
   "execution_count": null,
   "id": "4f52a171",
   "metadata": {},
   "outputs": [],
   "source": [
    "predictions = rfe.predict(final_X_test)"
   ]
  },
  {
   "cell_type": "code",
   "execution_count": null,
   "id": "9b207304",
   "metadata": {},
   "outputs": [],
   "source": [
    "predictions"
   ]
  },
  {
   "cell_type": "code",
   "execution_count": null,
   "id": "3f9b6632",
   "metadata": {},
   "outputs": [],
   "source": [
    "#RFE_fit = rfe_notas.fit(X, y)"
   ]
  },
  {
   "cell_type": "code",
   "execution_count": null,
   "id": "e9635531",
   "metadata": {},
   "outputs": [],
   "source": [
    "#Conclusões até agora: esse tipo não funciona direito ou eu não estou sabendo usar =/"
   ]
  },
  {
   "cell_type": "markdown",
   "id": "046a4eb8",
   "metadata": {},
   "source": [
    "### Regressão Linear"
   ]
  },
  {
   "cell_type": "code",
   "execution_count": null,
   "id": "f3b85012",
   "metadata": {},
   "outputs": [],
   "source": [
    "from sklearn.svm import LinearSVC\n",
    "from sklearn.feature_selection import RFE"
   ]
  },
  {
   "cell_type": "code",
   "execution_count": null,
   "id": "9026df77",
   "metadata": {},
   "outputs": [],
   "source": [
    "data = df_notas\n",
    "X = data.data\n",
    "y = data.target"
   ]
  },
  {
   "cell_type": "code",
   "execution_count": null,
   "id": "18a79803",
   "metadata": {},
   "outputs": [],
   "source": [
    "model = LinearSVC()\n",
    "rfe = RFE(model, step=1).fit(X, y)"
   ]
  },
  {
   "cell_type": "markdown",
   "id": "58a1167e",
   "metadata": {},
   "source": [
    "### Decision Tree Regressor"
   ]
  },
  {
   "cell_type": "code",
   "execution_count": 12,
   "id": "d6cce4f1",
   "metadata": {},
   "outputs": [
    {
     "data": {
      "text/plain": [
       "DecisionTreeRegressor(random_state=0)"
      ]
     },
     "execution_count": 12,
     "metadata": {},
     "output_type": "execute_result"
    }
   ],
   "source": [
    "from sklearn.tree import DecisionTreeRegressor\n",
    "from sklearn.model_selection import train_test_split\n",
    "\n",
    "regressor2= DecisionTreeRegressor(random_state = 0)\n",
    "\n",
    "#Variável teste\n",
    "X_train, X_test, y_train, y_test = train_test_split(X, y, test_size=0.3, random_state=42)\n",
    "\n",
    "#fit tregressor with X and y data\n",
    "regressor2.fit(X_train, y_train)"
   ]
  },
  {
   "cell_type": "code",
   "execution_count": 13,
   "id": "9a5d48b5",
   "metadata": {},
   "outputs": [],
   "source": [
    "y_pred = regressor2.predict(X_test)"
   ]
  },
  {
   "cell_type": "code",
   "execution_count": 14,
   "id": "8b1f744c",
   "metadata": {},
   "outputs": [],
   "source": [
    "#qualidade do modelo\n",
    "from sklearn.model_selection import cross_val_score\n",
    "\n",
    "score = regressor2.score(X_test, y_test)"
   ]
  },
  {
   "cell_type": "code",
   "execution_count": 15,
   "id": "c30f1f3f",
   "metadata": {},
   "outputs": [
    {
     "data": {
      "text/plain": [
       "0.8012130245945877"
      ]
     },
     "execution_count": 15,
     "metadata": {},
     "output_type": "execute_result"
    }
   ],
   "source": [
    "score"
   ]
  },
  {
   "cell_type": "code",
   "execution_count": 16,
   "id": "f475df49",
   "metadata": {},
   "outputs": [
    {
     "name": "stdout",
     "output_type": "stream",
     "text": [
      "Mean Absolute Error: 0.2534430060965329\n",
      "Mean Squared Error: 0.2087145637551259\n",
      "Root Mean Squared Error: 0.45685289071551893\n"
     ]
    }
   ],
   "source": [
    "from sklearn import metrics\n",
    "print('Mean Absolute Error:', metrics.mean_absolute_error(y_test, y_pred)) #próx de 0, melhor\n",
    "print('Mean Squared Error:', metrics.mean_squared_error(y_test, y_pred))\n",
    "print('Root Mean Squared Error:', np.sqrt(metrics.mean_squared_error(y_test, y_pred))) #medida de dispersão"
   ]
  },
  {
   "cell_type": "markdown",
   "id": "df9beff0",
   "metadata": {},
   "source": [
    "### Depois de aplicar o Yellowbrick"
   ]
  },
  {
   "cell_type": "code",
   "execution_count": 32,
   "id": "1df458a7",
   "metadata": {},
   "outputs": [],
   "source": [
    "df_notas3 = df_notas.drop(['school', 'sex', 'address', 'famsize', 'Pstatus', 'guardian', 'schoolsup', 'famsup', 'paid', \n",
    "                           'nursery', 'higher', 'internet', 'romantic', 'Dalc', 'G3'], axis=1)"
   ]
  },
  {
   "cell_type": "code",
   "execution_count": 34,
   "id": "254bab4a",
   "metadata": {},
   "outputs": [
    {
     "data": {
      "text/html": [
       "<div>\n",
       "<style scoped>\n",
       "    .dataframe tbody tr th:only-of-type {\n",
       "        vertical-align: middle;\n",
       "    }\n",
       "\n",
       "    .dataframe tbody tr th {\n",
       "        vertical-align: top;\n",
       "    }\n",
       "\n",
       "    .dataframe thead th {\n",
       "        text-align: right;\n",
       "    }\n",
       "</style>\n",
       "<table border=\"1\" class=\"dataframe\">\n",
       "  <thead>\n",
       "    <tr style=\"text-align: right;\">\n",
       "      <th></th>\n",
       "      <th>age</th>\n",
       "      <th>Medu</th>\n",
       "      <th>Fedu</th>\n",
       "      <th>Mjob</th>\n",
       "      <th>Fjob</th>\n",
       "      <th>reason</th>\n",
       "      <th>traveltime</th>\n",
       "      <th>studytime</th>\n",
       "      <th>failures</th>\n",
       "      <th>activities</th>\n",
       "      <th>famrel</th>\n",
       "      <th>freetime</th>\n",
       "      <th>goout</th>\n",
       "      <th>Walc</th>\n",
       "      <th>health</th>\n",
       "      <th>absences</th>\n",
       "      <th>G1</th>\n",
       "      <th>G2</th>\n",
       "    </tr>\n",
       "  </thead>\n",
       "  <tbody>\n",
       "    <tr>\n",
       "      <th>0</th>\n",
       "      <td>1.023046</td>\n",
       "      <td>1.143856</td>\n",
       "      <td>1.360371</td>\n",
       "      <td>-1.769793</td>\n",
       "      <td>1.993149</td>\n",
       "      <td>-1.040599</td>\n",
       "      <td>0.792251</td>\n",
       "      <td>-0.042286</td>\n",
       "      <td>-0.449944</td>\n",
       "      <td>-1.017881</td>\n",
       "      <td>0.062194</td>\n",
       "      <td>-0.236010</td>\n",
       "      <td>0.801479</td>\n",
       "      <td>-1.003789</td>\n",
       "      <td>-0.399289</td>\n",
       "      <td>0.036424</td>\n",
       "      <td>-1.782467</td>\n",
       "      <td>-1.254791</td>\n",
       "    </tr>\n",
       "    <tr>\n",
       "      <th>1</th>\n",
       "      <td>0.238380</td>\n",
       "      <td>-1.600009</td>\n",
       "      <td>-1.399970</td>\n",
       "      <td>-1.769793</td>\n",
       "      <td>-0.325831</td>\n",
       "      <td>-1.040599</td>\n",
       "      <td>-0.643249</td>\n",
       "      <td>-0.042286</td>\n",
       "      <td>-0.449944</td>\n",
       "      <td>-1.017881</td>\n",
       "      <td>1.178860</td>\n",
       "      <td>-0.236010</td>\n",
       "      <td>-0.097908</td>\n",
       "      <td>-1.003789</td>\n",
       "      <td>-0.399289</td>\n",
       "      <td>-0.213796</td>\n",
       "      <td>-1.782467</td>\n",
       "      <td>-1.520979</td>\n",
       "    </tr>\n",
       "    <tr>\n",
       "      <th>2</th>\n",
       "      <td>-1.330954</td>\n",
       "      <td>-1.600009</td>\n",
       "      <td>-1.399970</td>\n",
       "      <td>-1.769793</td>\n",
       "      <td>-0.325831</td>\n",
       "      <td>0.616806</td>\n",
       "      <td>-0.643249</td>\n",
       "      <td>-0.042286</td>\n",
       "      <td>3.589323</td>\n",
       "      <td>-1.017881</td>\n",
       "      <td>0.062194</td>\n",
       "      <td>-0.236010</td>\n",
       "      <td>-0.997295</td>\n",
       "      <td>0.551100</td>\n",
       "      <td>-0.399289</td>\n",
       "      <td>0.536865</td>\n",
       "      <td>-1.179147</td>\n",
       "      <td>-0.722415</td>\n",
       "    </tr>\n",
       "    <tr>\n",
       "      <th>3</th>\n",
       "      <td>-1.330954</td>\n",
       "      <td>1.143856</td>\n",
       "      <td>-0.479857</td>\n",
       "      <td>-0.954077</td>\n",
       "      <td>0.833659</td>\n",
       "      <td>-0.211896</td>\n",
       "      <td>-0.643249</td>\n",
       "      <td>1.150779</td>\n",
       "      <td>-0.449944</td>\n",
       "      <td>0.982433</td>\n",
       "      <td>-1.054472</td>\n",
       "      <td>-1.238419</td>\n",
       "      <td>-0.997295</td>\n",
       "      <td>-1.003789</td>\n",
       "      <td>1.041070</td>\n",
       "      <td>-0.464016</td>\n",
       "      <td>1.234133</td>\n",
       "      <td>0.874715</td>\n",
       "    </tr>\n",
       "    <tr>\n",
       "      <th>4</th>\n",
       "      <td>-0.546287</td>\n",
       "      <td>0.229234</td>\n",
       "      <td>0.440257</td>\n",
       "      <td>-0.138362</td>\n",
       "      <td>-0.325831</td>\n",
       "      <td>-0.211896</td>\n",
       "      <td>-0.643249</td>\n",
       "      <td>-0.042286</td>\n",
       "      <td>-0.449944</td>\n",
       "      <td>-1.017881</td>\n",
       "      <td>0.062194</td>\n",
       "      <td>-0.236010</td>\n",
       "      <td>-0.997295</td>\n",
       "      <td>-0.226345</td>\n",
       "      <td>1.041070</td>\n",
       "      <td>-0.213796</td>\n",
       "      <td>-1.480807</td>\n",
       "      <td>-0.190038</td>\n",
       "    </tr>\n",
       "  </tbody>\n",
       "</table>\n",
       "</div>"
      ],
      "text/plain": [
       "        age      Medu      Fedu      Mjob      Fjob    reason  traveltime  \\\n",
       "0  1.023046  1.143856  1.360371 -1.769793  1.993149 -1.040599    0.792251   \n",
       "1  0.238380 -1.600009 -1.399970 -1.769793 -0.325831 -1.040599   -0.643249   \n",
       "2 -1.330954 -1.600009 -1.399970 -1.769793 -0.325831  0.616806   -0.643249   \n",
       "3 -1.330954  1.143856 -0.479857 -0.954077  0.833659 -0.211896   -0.643249   \n",
       "4 -0.546287  0.229234  0.440257 -0.138362 -0.325831 -0.211896   -0.643249   \n",
       "\n",
       "   studytime  failures  activities    famrel  freetime     goout      Walc  \\\n",
       "0  -0.042286 -0.449944   -1.017881  0.062194 -0.236010  0.801479 -1.003789   \n",
       "1  -0.042286 -0.449944   -1.017881  1.178860 -0.236010 -0.097908 -1.003789   \n",
       "2  -0.042286  3.589323   -1.017881  0.062194 -0.236010 -0.997295  0.551100   \n",
       "3   1.150779 -0.449944    0.982433 -1.054472 -1.238419 -0.997295 -1.003789   \n",
       "4  -0.042286 -0.449944   -1.017881  0.062194 -0.236010 -0.997295 -0.226345   \n",
       "\n",
       "     health  absences        G1        G2  \n",
       "0 -0.399289  0.036424 -1.782467 -1.254791  \n",
       "1 -0.399289 -0.213796 -1.782467 -1.520979  \n",
       "2 -0.399289  0.536865 -1.179147 -0.722415  \n",
       "3  1.041070 -0.464016  1.234133  0.874715  \n",
       "4  1.041070 -0.213796 -1.480807 -0.190038  "
      ]
     },
     "execution_count": 34,
     "metadata": {},
     "output_type": "execute_result"
    }
   ],
   "source": [
    "df_notas3.head()"
   ]
  },
  {
   "cell_type": "code",
   "execution_count": 35,
   "id": "2182976c",
   "metadata": {},
   "outputs": [
    {
     "data": {
      "text/plain": [
       "DecisionTreeRegressor(random_state=0)"
      ]
     },
     "execution_count": 35,
     "metadata": {},
     "output_type": "execute_result"
    }
   ],
   "source": [
    "from sklearn.tree import DecisionTreeRegressor\n",
    "from sklearn.model_selection import train_test_split\n",
    "X = df_notas3\n",
    "y = df_notas['G3']\n",
    "regressor2= DecisionTreeRegressor(random_state = 0)\n",
    "\n",
    "#Variável teste\n",
    "X_train, X_test, y_train, y_test = train_test_split(X, y, test_size=0.3, random_state=42)\n",
    "\n",
    "#fit tregressor with X and y data\n",
    "regressor2.fit(X_train, y_train)"
   ]
  },
  {
   "cell_type": "code",
   "execution_count": 36,
   "id": "23b8bfcc",
   "metadata": {},
   "outputs": [],
   "source": [
    "y_pred = regressor2.predict(X_test)"
   ]
  },
  {
   "cell_type": "code",
   "execution_count": 37,
   "id": "2ea9b600",
   "metadata": {},
   "outputs": [],
   "source": [
    "#qualidade do modelo\n",
    "from sklearn.model_selection import cross_val_score\n",
    "\n",
    "score = regressor2.score(X_test, y_test)"
   ]
  },
  {
   "cell_type": "code",
   "execution_count": 38,
   "id": "ac1dc306",
   "metadata": {},
   "outputs": [
    {
     "data": {
      "text/plain": [
       "0.8077118295597645"
      ]
     },
     "execution_count": 38,
     "metadata": {},
     "output_type": "execute_result"
    }
   ],
   "source": [
    "score"
   ]
  },
  {
   "cell_type": "code",
   "execution_count": 39,
   "id": "c82c489c",
   "metadata": {},
   "outputs": [
    {
     "name": "stdout",
     "output_type": "stream",
     "text": [
      "Mean Absolute Error: 0.22956794030483046\n",
      "Mean Squared Error: 0.20189120301697755\n",
      "Root Mean Squared Error: 0.4493230497281188\n"
     ]
    }
   ],
   "source": [
    "from sklearn import metrics\n",
    "print('Mean Absolute Error:', metrics.mean_absolute_error(y_test, y_pred)) #próx de 0, melhor\n",
    "print('Mean Squared Error:', metrics.mean_squared_error(y_test, y_pred))\n",
    "print('Root Mean Squared Error:', np.sqrt(metrics.mean_squared_error(y_test, y_pred))) #medida de dispersão"
   ]
  },
  {
   "cell_type": "code",
   "execution_count": 43,
   "id": "231e94ab",
   "metadata": {},
   "outputs": [
    {
     "name": "stdout",
     "output_type": "stream",
     "text": [
      "(395, 18)\n",
      "(395,)\n"
     ]
    }
   ],
   "source": [
    "print(X.shape)\n",
    "print(y.shape)"
   ]
  },
  {
   "cell_type": "code",
   "execution_count": 45,
   "id": "a9b39955",
   "metadata": {},
   "outputs": [
    {
     "data": {
      "image/png": "[encoded data removed]",
      "text/plain": [
       "<Figure size 576x396 with 1 Axes>"
      ]
     },
     "metadata": {},
     "output_type": "display_data"
    }
   ],
   "source": [
    "features_n = X.columns\n",
    "regr_2 = DecisionTreeRegressor()\n",
    "regr_2.fit(X, y)\n",
    "DTR_teste = regr_2.feature_importances_\n",
    "# plot feature importance\n",
    "plt.bar([x for x in range(len(DTR_teste))], DTR_teste)\n",
    "plt.xticks([x for x in range(len(DTR_teste))], features_n, rotation='vertical')\n",
    "plt.show()"
   ]
  },
  {
   "cell_type": "markdown",
   "id": "aa329b97",
   "metadata": {},
   "source": [
    "## Gráficos Yellowbrick"
   ]
  },
  {
   "cell_type": "code",
   "execution_count": null,
   "id": "dc976d3c",
   "metadata": {},
   "outputs": [],
   "source": [
    "!pip install yellowbrick"
   ]
  },
  {
   "cell_type": "code",
   "execution_count": 22,
   "id": "5325e8d9",
   "metadata": {},
   "outputs": [
    {
     "data": {
      "image/png": "[encoded data removed]",
      "text/plain": [
       "<Figure size 576x396 with 1 Axes>"
      ]
     },
     "metadata": {},
     "output_type": "display_data"
    },
    {
     "data": {
      "text/plain": [
       "<AxesSubplot:title={'center':'RFECV for RandomForestRegressor'}, xlabel='Number of Features Selected', ylabel='Score'>"
      ]
     },
     "execution_count": 22,
     "metadata": {},
     "output_type": "execute_result"
    }
   ],
   "source": [
    "from yellowbrick.model_selection import RFECV\n",
    "from sklearn.model_selection import StratifiedKFold\n",
    "from sklearn.ensemble import RandomForestClassifier\n",
    "from sklearn.ensemble import RandomForestRegressor\n",
    "cv = StratifiedKFold(5)\n",
    "visualizer = RFECV(RandomForestRegressor(), cv=5, scoring='r2')\n",
    "visualizer.fit(X, y)\n",
    "visualizer.show()"
   ]
  },
  {
   "cell_type": "code",
   "execution_count": 23,
   "id": "452d93bf",
   "metadata": {},
   "outputs": [
    {
     "data": {
      "text/plain": [
       "Index(['age', 'Medu', 'Fedu', 'Mjob', 'Fjob', 'reason', 'traveltime',\n",
       "       'studytime', 'failures', 'activities', 'famrel', 'freetime', 'goout',\n",
       "       'Walc', 'health', 'absences', 'G1', 'G2'],\n",
       "      dtype='object')"
      ]
     },
     "execution_count": 23,
     "metadata": {},
     "output_type": "execute_result"
    }
   ],
   "source": [
    "X.loc[:, X.columns != 'IN_TREINEIRO'].columns[visualizer.support_] #pegar as colunas que ele retornou como importante"
   ]
  },
  {
   "cell_type": "code",
   "execution_count": 29,
   "id": "63f5cc9c",
   "metadata": {},
   "outputs": [
    {
     "ename": "IndexError",
     "evalue": "boolean index did not match indexed array along dimension 0; dimension is 0 but corresponding boolean dimension is 32",
     "output_type": "error",
     "traceback": [
      "\u001b[1;31m---------------------------------------------------------------------------\u001b[0m",
      "\u001b[1;31mIndexError\u001b[0m                                Traceback (most recent call last)",
      "\u001b[1;32m<ipython-input-29-5191bd72bec3>\u001b[0m in \u001b[0;36m<module>\u001b[1;34m\u001b[0m\n\u001b[1;32m----> 1\u001b[1;33m \u001b[0mX\u001b[0m\u001b[1;33m.\u001b[0m\u001b[0mloc\u001b[0m\u001b[1;33m[\u001b[0m\u001b[1;33m:\u001b[0m\u001b[1;33m,\u001b[0m \u001b[0mX\u001b[0m\u001b[1;33m.\u001b[0m\u001b[0mcolumns\u001b[0m \u001b[1;33m==\u001b[0m \u001b[1;34m'IN_TREINEIRO'\u001b[0m\u001b[1;33m]\u001b[0m\u001b[1;33m.\u001b[0m\u001b[0mcolumns\u001b[0m\u001b[1;33m[\u001b[0m\u001b[0mvisualizer\u001b[0m\u001b[1;33m.\u001b[0m\u001b[0msupport_\u001b[0m\u001b[1;33m]\u001b[0m\u001b[1;33m\u001b[0m\u001b[1;33m\u001b[0m\u001b[0m\n\u001b[0m",
      "\u001b[1;32mC:\\python\\anaconda\\envs\\ai-girls-ML\\lib\\site-packages\\pandas\\core\\indexes\\base.py\u001b[0m in \u001b[0;36m__getitem__\u001b[1;34m(self, key)\u001b[0m\n\u001b[0;32m   4305\u001b[0m             \u001b[0mkey\u001b[0m \u001b[1;33m=\u001b[0m \u001b[0mnp\u001b[0m\u001b[1;33m.\u001b[0m\u001b[0masarray\u001b[0m\u001b[1;33m(\u001b[0m\u001b[0mkey\u001b[0m\u001b[1;33m,\u001b[0m \u001b[0mdtype\u001b[0m\u001b[1;33m=\u001b[0m\u001b[0mbool\u001b[0m\u001b[1;33m)\u001b[0m\u001b[1;33m\u001b[0m\u001b[1;33m\u001b[0m\u001b[0m\n\u001b[0;32m   4306\u001b[0m \u001b[1;33m\u001b[0m\u001b[0m\n\u001b[1;32m-> 4307\u001b[1;33m         \u001b[0mresult\u001b[0m \u001b[1;33m=\u001b[0m \u001b[0mgetitem\u001b[0m\u001b[1;33m(\u001b[0m\u001b[0mkey\u001b[0m\u001b[1;33m)\u001b[0m\u001b[1;33m\u001b[0m\u001b[1;33m\u001b[0m\u001b[0m\n\u001b[0m\u001b[0;32m   4308\u001b[0m         \u001b[1;32mif\u001b[0m \u001b[1;32mnot\u001b[0m \u001b[0mis_scalar\u001b[0m\u001b[1;33m(\u001b[0m\u001b[0mresult\u001b[0m\u001b[1;33m)\u001b[0m\u001b[1;33m:\u001b[0m\u001b[1;33m\u001b[0m\u001b[1;33m\u001b[0m\u001b[0m\n\u001b[0;32m   4309\u001b[0m             \u001b[1;32mif\u001b[0m \u001b[0mnp\u001b[0m\u001b[1;33m.\u001b[0m\u001b[0mndim\u001b[0m\u001b[1;33m(\u001b[0m\u001b[0mresult\u001b[0m\u001b[1;33m)\u001b[0m \u001b[1;33m>\u001b[0m \u001b[1;36m1\u001b[0m\u001b[1;33m:\u001b[0m\u001b[1;33m\u001b[0m\u001b[1;33m\u001b[0m\u001b[0m\n",
      "\u001b[1;31mIndexError\u001b[0m: boolean index did not match indexed array along dimension 0; dimension is 0 but corresponding boolean dimension is 32"
     ]
    }
   ],
   "source": [
    "X.loc[:, X.columns == 'IN_TREINEIRO'].columns[visualizer.support_]"
   ]
  },
  {
   "cell_type": "code",
   "execution_count": 47,
   "id": "8deb5451",
   "metadata": {
    "scrolled": true
   },
   "outputs": [
    {
     "data": {
      "image/png": "[encoded data removed]",
      "text/plain": [
       "<Figure size 576x396 with 2 Axes>"
      ]
     },
     "metadata": {},
     "output_type": "display_data"
    },
    {
     "data": {
      "text/plain": [
       "<AxesSubplot:title={'center':'Residuals for RandomForestRegressor Model'}, xlabel='Predicted Value', ylabel='Residuals'>"
      ]
     },
     "execution_count": 47,
     "metadata": {},
     "output_type": "execute_result"
    }
   ],
   "source": [
    "# Teste com outras configurações\n",
    "from yellowbrick.regressor import ResidualsPlot\n",
    "#from sklearn.linear_model import LinearRegression\n",
    "from sklearn.model_selection import train_test_split\n",
    "\n",
    "# Create training and test sets\n",
    "X_train, X_test, y_train, y_test = train_test_split(\n",
    "    X, y, test_size=0.3\n",
    ")\n",
    "\n",
    "visualizer = ResidualsPlot(RandomForestRegressor())\n",
    "visualizer.fit(X_train, y_train)\n",
    "visualizer.score(X_test, y_test)\n",
    "visualizer.show()"
   ]
  },
  {
   "cell_type": "markdown",
   "id": "fcdd5037",
   "metadata": {},
   "source": [
    "## Recursive feature elimination with cross-validation"
   ]
  },
  {
   "cell_type": "code",
   "execution_count": 46,
   "id": "68356c5c",
   "metadata": {},
   "outputs": [
    {
     "ename": "ValueError",
     "evalue": "Unknown label type: 'continuous'",
     "output_type": "error",
     "traceback": [
      "\u001b[1;31m---------------------------------------------------------------------------\u001b[0m",
      "\u001b[1;31mValueError\u001b[0m                                Traceback (most recent call last)",
      "\u001b[1;32m<ipython-input-46-73dd0be22e6f>\u001b[0m in \u001b[0;36m<module>\u001b[1;34m\u001b[0m\n\u001b[0;32m     14\u001b[0m               \u001b[0mscoring\u001b[0m\u001b[1;33m=\u001b[0m\u001b[1;34m'accuracy'\u001b[0m\u001b[1;33m,\u001b[0m\u001b[1;33m\u001b[0m\u001b[1;33m\u001b[0m\u001b[0m\n\u001b[0;32m     15\u001b[0m               min_features_to_select=min_features_to_select)\n\u001b[1;32m---> 16\u001b[1;33m \u001b[0mrfecv\u001b[0m\u001b[1;33m.\u001b[0m\u001b[0mfit\u001b[0m\u001b[1;33m(\u001b[0m\u001b[0mX\u001b[0m\u001b[1;33m,\u001b[0m \u001b[0my\u001b[0m\u001b[1;33m)\u001b[0m\u001b[1;33m\u001b[0m\u001b[1;33m\u001b[0m\u001b[0m\n\u001b[0m\u001b[0;32m     17\u001b[0m \u001b[1;33m\u001b[0m\u001b[0m\n\u001b[0;32m     18\u001b[0m \u001b[0mprint\u001b[0m\u001b[1;33m(\u001b[0m\u001b[1;34m\"Optimal number of features : %d\"\u001b[0m \u001b[1;33m%\u001b[0m \u001b[0mrfecv\u001b[0m\u001b[1;33m.\u001b[0m\u001b[0mn_features_\u001b[0m\u001b[1;33m)\u001b[0m\u001b[1;33m\u001b[0m\u001b[1;33m\u001b[0m\u001b[0m\n",
      "\u001b[1;32mC:\\python\\anaconda\\envs\\ai-girls-ML\\lib\\site-packages\\sklearn\\feature_selection\\_rfe.py\u001b[0m in \u001b[0;36mfit\u001b[1;34m(self, X, y, groups)\u001b[0m\n\u001b[0;32m    603\u001b[0m             \u001b[0mfunc\u001b[0m \u001b[1;33m=\u001b[0m \u001b[0mdelayed\u001b[0m\u001b[1;33m(\u001b[0m\u001b[0m_rfe_single_fit\u001b[0m\u001b[1;33m)\u001b[0m\u001b[1;33m\u001b[0m\u001b[1;33m\u001b[0m\u001b[0m\n\u001b[0;32m    604\u001b[0m \u001b[1;33m\u001b[0m\u001b[0m\n\u001b[1;32m--> 605\u001b[1;33m         scores = parallel(\n\u001b[0m\u001b[0;32m    606\u001b[0m             \u001b[0mfunc\u001b[0m\u001b[1;33m(\u001b[0m\u001b[0mrfe\u001b[0m\u001b[1;33m,\u001b[0m \u001b[0mself\u001b[0m\u001b[1;33m.\u001b[0m\u001b[0mestimator\u001b[0m\u001b[1;33m,\u001b[0m \u001b[0mX\u001b[0m\u001b[1;33m,\u001b[0m \u001b[0my\u001b[0m\u001b[1;33m,\u001b[0m \u001b[0mtrain\u001b[0m\u001b[1;33m,\u001b[0m \u001b[0mtest\u001b[0m\u001b[1;33m,\u001b[0m \u001b[0mscorer\u001b[0m\u001b[1;33m)\u001b[0m\u001b[1;33m\u001b[0m\u001b[1;33m\u001b[0m\u001b[0m\n\u001b[0;32m    607\u001b[0m             for train, test in cv.split(X, y, groups))\n",
      "\u001b[1;32mC:\\python\\anaconda\\envs\\ai-girls-ML\\lib\\site-packages\\sklearn\\feature_selection\\_rfe.py\u001b[0m in \u001b[0;36m<genexpr>\u001b[1;34m(.0)\u001b[0m\n\u001b[0;32m    604\u001b[0m \u001b[1;33m\u001b[0m\u001b[0m\n\u001b[0;32m    605\u001b[0m         scores = parallel(\n\u001b[1;32m--> 606\u001b[1;33m             \u001b[0mfunc\u001b[0m\u001b[1;33m(\u001b[0m\u001b[0mrfe\u001b[0m\u001b[1;33m,\u001b[0m \u001b[0mself\u001b[0m\u001b[1;33m.\u001b[0m\u001b[0mestimator\u001b[0m\u001b[1;33m,\u001b[0m \u001b[0mX\u001b[0m\u001b[1;33m,\u001b[0m \u001b[0my\u001b[0m\u001b[1;33m,\u001b[0m \u001b[0mtrain\u001b[0m\u001b[1;33m,\u001b[0m \u001b[0mtest\u001b[0m\u001b[1;33m,\u001b[0m \u001b[0mscorer\u001b[0m\u001b[1;33m)\u001b[0m\u001b[1;33m\u001b[0m\u001b[1;33m\u001b[0m\u001b[0m\n\u001b[0m\u001b[0;32m    607\u001b[0m             for train, test in cv.split(X, y, groups))\n\u001b[0;32m    608\u001b[0m \u001b[1;33m\u001b[0m\u001b[0m\n",
      "\u001b[1;32mC:\\python\\anaconda\\envs\\ai-girls-ML\\lib\\site-packages\\sklearn\\feature_selection\\_rfe.py\u001b[0m in \u001b[0;36m_rfe_single_fit\u001b[1;34m(rfe, estimator, X, y, train, test, scorer)\u001b[0m\n\u001b[0;32m     35\u001b[0m     \u001b[0mX_train\u001b[0m\u001b[1;33m,\u001b[0m \u001b[0my_train\u001b[0m \u001b[1;33m=\u001b[0m \u001b[0m_safe_split\u001b[0m\u001b[1;33m(\u001b[0m\u001b[0mestimator\u001b[0m\u001b[1;33m,\u001b[0m \u001b[0mX\u001b[0m\u001b[1;33m,\u001b[0m \u001b[0my\u001b[0m\u001b[1;33m,\u001b[0m \u001b[0mtrain\u001b[0m\u001b[1;33m)\u001b[0m\u001b[1;33m\u001b[0m\u001b[1;33m\u001b[0m\u001b[0m\n\u001b[0;32m     36\u001b[0m     \u001b[0mX_test\u001b[0m\u001b[1;33m,\u001b[0m \u001b[0my_test\u001b[0m \u001b[1;33m=\u001b[0m \u001b[0m_safe_split\u001b[0m\u001b[1;33m(\u001b[0m\u001b[0mestimator\u001b[0m\u001b[1;33m,\u001b[0m \u001b[0mX\u001b[0m\u001b[1;33m,\u001b[0m \u001b[0my\u001b[0m\u001b[1;33m,\u001b[0m \u001b[0mtest\u001b[0m\u001b[1;33m,\u001b[0m \u001b[0mtrain\u001b[0m\u001b[1;33m)\u001b[0m\u001b[1;33m\u001b[0m\u001b[1;33m\u001b[0m\u001b[0m\n\u001b[1;32m---> 37\u001b[1;33m     return rfe._fit(\n\u001b[0m\u001b[0;32m     38\u001b[0m         \u001b[0mX_train\u001b[0m\u001b[1;33m,\u001b[0m \u001b[0my_train\u001b[0m\u001b[1;33m,\u001b[0m\u001b[1;33m\u001b[0m\u001b[1;33m\u001b[0m\u001b[0m\n\u001b[0;32m     39\u001b[0m         lambda estimator, features: _score(\n",
      "\u001b[1;32mC:\\python\\anaconda\\envs\\ai-girls-ML\\lib\\site-packages\\sklearn\\feature_selection\\_rfe.py\u001b[0m in \u001b[0;36m_fit\u001b[1;34m(self, X, y, step_score)\u001b[0m\n\u001b[0;32m    239\u001b[0m                 \u001b[0mprint\u001b[0m\u001b[1;33m(\u001b[0m\u001b[1;34m\"Fitting estimator with %d features.\"\u001b[0m \u001b[1;33m%\u001b[0m \u001b[0mnp\u001b[0m\u001b[1;33m.\u001b[0m\u001b[0msum\u001b[0m\u001b[1;33m(\u001b[0m\u001b[0msupport_\u001b[0m\u001b[1;33m)\u001b[0m\u001b[1;33m)\u001b[0m\u001b[1;33m\u001b[0m\u001b[1;33m\u001b[0m\u001b[0m\n\u001b[0;32m    240\u001b[0m \u001b[1;33m\u001b[0m\u001b[0m\n\u001b[1;32m--> 241\u001b[1;33m             \u001b[0mestimator\u001b[0m\u001b[1;33m.\u001b[0m\u001b[0mfit\u001b[0m\u001b[1;33m(\u001b[0m\u001b[0mX\u001b[0m\u001b[1;33m[\u001b[0m\u001b[1;33m:\u001b[0m\u001b[1;33m,\u001b[0m \u001b[0mfeatures\u001b[0m\u001b[1;33m]\u001b[0m\u001b[1;33m,\u001b[0m \u001b[0my\u001b[0m\u001b[1;33m)\u001b[0m\u001b[1;33m\u001b[0m\u001b[1;33m\u001b[0m\u001b[0m\n\u001b[0m\u001b[0;32m    242\u001b[0m \u001b[1;33m\u001b[0m\u001b[0m\n\u001b[0;32m    243\u001b[0m             \u001b[1;31m# Get importance and rank them\u001b[0m\u001b[1;33m\u001b[0m\u001b[1;33m\u001b[0m\u001b[1;33m\u001b[0m\u001b[0m\n",
      "\u001b[1;32mC:\\python\\anaconda\\envs\\ai-girls-ML\\lib\\site-packages\\sklearn\\svm\\_base.py\u001b[0m in \u001b[0;36mfit\u001b[1;34m(self, X, y, sample_weight)\u001b[0m\n\u001b[0;32m    171\u001b[0m                                        accept_large_sparse=False)\n\u001b[0;32m    172\u001b[0m \u001b[1;33m\u001b[0m\u001b[0m\n\u001b[1;32m--> 173\u001b[1;33m         \u001b[0my\u001b[0m \u001b[1;33m=\u001b[0m \u001b[0mself\u001b[0m\u001b[1;33m.\u001b[0m\u001b[0m_validate_targets\u001b[0m\u001b[1;33m(\u001b[0m\u001b[0my\u001b[0m\u001b[1;33m)\u001b[0m\u001b[1;33m\u001b[0m\u001b[1;33m\u001b[0m\u001b[0m\n\u001b[0m\u001b[0;32m    174\u001b[0m \u001b[1;33m\u001b[0m\u001b[0m\n\u001b[0;32m    175\u001b[0m         sample_weight = np.asarray([]\n",
      "\u001b[1;32mC:\\python\\anaconda\\envs\\ai-girls-ML\\lib\\site-packages\\sklearn\\svm\\_base.py\u001b[0m in \u001b[0;36m_validate_targets\u001b[1;34m(self, y)\u001b[0m\n\u001b[0;32m    551\u001b[0m     \u001b[1;32mdef\u001b[0m \u001b[0m_validate_targets\u001b[0m\u001b[1;33m(\u001b[0m\u001b[0mself\u001b[0m\u001b[1;33m,\u001b[0m \u001b[0my\u001b[0m\u001b[1;33m)\u001b[0m\u001b[1;33m:\u001b[0m\u001b[1;33m\u001b[0m\u001b[1;33m\u001b[0m\u001b[0m\n\u001b[0;32m    552\u001b[0m         \u001b[0my_\u001b[0m \u001b[1;33m=\u001b[0m \u001b[0mcolumn_or_1d\u001b[0m\u001b[1;33m(\u001b[0m\u001b[0my\u001b[0m\u001b[1;33m,\u001b[0m \u001b[0mwarn\u001b[0m\u001b[1;33m=\u001b[0m\u001b[1;32mTrue\u001b[0m\u001b[1;33m)\u001b[0m\u001b[1;33m\u001b[0m\u001b[1;33m\u001b[0m\u001b[0m\n\u001b[1;32m--> 553\u001b[1;33m         \u001b[0mcheck_classification_targets\u001b[0m\u001b[1;33m(\u001b[0m\u001b[0my\u001b[0m\u001b[1;33m)\u001b[0m\u001b[1;33m\u001b[0m\u001b[1;33m\u001b[0m\u001b[0m\n\u001b[0m\u001b[0;32m    554\u001b[0m         \u001b[0mcls\u001b[0m\u001b[1;33m,\u001b[0m \u001b[0my\u001b[0m \u001b[1;33m=\u001b[0m \u001b[0mnp\u001b[0m\u001b[1;33m.\u001b[0m\u001b[0munique\u001b[0m\u001b[1;33m(\u001b[0m\u001b[0my_\u001b[0m\u001b[1;33m,\u001b[0m \u001b[0mreturn_inverse\u001b[0m\u001b[1;33m=\u001b[0m\u001b[1;32mTrue\u001b[0m\u001b[1;33m)\u001b[0m\u001b[1;33m\u001b[0m\u001b[1;33m\u001b[0m\u001b[0m\n\u001b[0;32m    555\u001b[0m         self.class_weight_ = compute_class_weight(self.class_weight,\n",
      "\u001b[1;32mC:\\python\\anaconda\\envs\\ai-girls-ML\\lib\\site-packages\\sklearn\\utils\\multiclass.py\u001b[0m in \u001b[0;36mcheck_classification_targets\u001b[1;34m(y)\u001b[0m\n\u001b[0;32m    181\u001b[0m     if y_type not in ['binary', 'multiclass', 'multiclass-multioutput',\n\u001b[0;32m    182\u001b[0m                       'multilabel-indicator', 'multilabel-sequences']:\n\u001b[1;32m--> 183\u001b[1;33m         \u001b[1;32mraise\u001b[0m \u001b[0mValueError\u001b[0m\u001b[1;33m(\u001b[0m\u001b[1;34m\"Unknown label type: %r\"\u001b[0m \u001b[1;33m%\u001b[0m \u001b[0my_type\u001b[0m\u001b[1;33m)\u001b[0m\u001b[1;33m\u001b[0m\u001b[1;33m\u001b[0m\u001b[0m\n\u001b[0m\u001b[0;32m    184\u001b[0m \u001b[1;33m\u001b[0m\u001b[0m\n\u001b[0;32m    185\u001b[0m \u001b[1;33m\u001b[0m\u001b[0m\n",
      "\u001b[1;31mValueError\u001b[0m: Unknown label type: 'continuous'"
     ]
    }
   ],
   "source": [
    "from sklearn.svm import SVC\n",
    "from sklearn.model_selection import StratifiedKFold\n",
    "from sklearn.feature_selection import RFECV\n",
    "\n",
    "X = df_notas3\n",
    "y = df_notas['G3']\n",
    "# Create the RFE object and compute a cross-validated score.\n",
    "svc = SVC(kernel=\"linear\")\n",
    "# The \"accuracy\" scoring is proportional to the number of correct\n",
    "# classifications\n",
    "\n",
    "min_features_to_select = 1  # Minimum number of features to consider\n",
    "rfecv = RFECV(estimator=svc, step=1, cv=5,\n",
    "              scoring='accuracy',\n",
    "              min_features_to_select=min_features_to_select)\n",
    "rfecv.fit(X, y)\n",
    "\n",
    "print(\"Optimal number of features : %d\" % rfecv.n_features_)\n",
    "\n",
    "# Plot number of features VS. cross-validation scores\n",
    "plt.figure()\n",
    "plt.xlabel(\"Number of features selected\")\n",
    "plt.ylabel(\"Cross validation score (nb of correct classifications)\")\n",
    "plt.plot(range(min_features_to_select,\n",
    "               len(rfecv.grid_scores_) + min_features_to_select),\n",
    "         rfecv.grid_scores_)\n",
    "plt.show()"
   ]
  },
  {
   "cell_type": "markdown",
   "id": "bfce9ef2",
   "metadata": {},
   "source": [
    "### Recursive Feature Elimination"
   ]
  },
  {
   "cell_type": "code",
   "execution_count": null,
   "id": "00ea9dcd",
   "metadata": {},
   "outputs": [],
   "source": [
    "from sklearn.svm import SVC\n",
    "from sklearn.feature_selection import RFE\n",
    "\n",
    "# Create the RFE object and rank\n",
    "svc = SVC(kernel=\"linear\", C=1)\n",
    "rfe = RFE(estimator=svc, n_features_to_select=1, step=1)\n",
    "rfe.fit(X, y)\n",
    "ranking = rfe.ranking_.reshape()\n",
    "\n",
    "# Plot pixel ranking\n",
    "plt.matshow(ranking, cmap=plt.cm.Blues)\n",
    "plt.colorbar()\n",
    "plt.title(\"Ranking of Features with RFE\")\n",
    "plt.show()"
   ]
  }
 ],
 "metadata": {
  "kernelspec": {
   "display_name": "Python 3",
   "language": "python",
   "name": "python3"
  },
  "language_info": {
   "codemirror_mode": {
    "name": "ipython",
    "version": 3
   },
   "file_extension": ".py",
   "mimetype": "text/x-python",
   "name": "python",
   "nbconvert_exporter": "python",
   "pygments_lexer": "ipython3",
   "version": "3.8.8"
  }
 },
 "nbformat": 4,
 "nbformat_minor": 5
}
