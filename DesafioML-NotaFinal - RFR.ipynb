{
 "cells": [
  {
   "cell_type": "markdown",
   "metadata": {},
   "source": [
    "# Prevendo a nota final dos alunos da Escola Todos Unidos"
   ]
  },
  {
   "cell_type": "code",
   "execution_count": null,
   "metadata": {},
   "outputs": [],
   "source": [
    "pip install yellowbrick"
   ]
  },
  {
   "cell_type": "code",
   "execution_count": 1,
   "metadata": {},
   "outputs": [],
   "source": [
    "#Importações de bibliotecas\n",
    "import pandas as pd\n",
    "import numpy as np\n",
    "import matplotlib.pyplot as plt\n",
    "#Importação de funções das bibliotecas\n",
    "from matplotlib.font_manager import FontProperties\n",
    "from sklearn.preprocessing import LabelEncoder\n",
    "from sklearn.preprocessing import OrdinalEncoder\n",
    "from sklearn.preprocessing import StandardScaler\n",
    "from sklearn.preprocessing import Normalizer\n",
    "from sklearn.model_selection import cross_val_score\n",
    "from yellowbrick.model_selection import RFECV\n",
    "from sklearn.model_selection import StratifiedKFold\n",
    "from sklearn import metrics\n",
    "from sklearn.model_selection import train_test_split\n",
    "from sklearn.linear_model import ElasticNet\n",
    "from sklearn import preprocessing\n",
    "from sklearn.ensemble import RandomForestRegressor"
   ]
  },
  {
   "cell_type": "code",
   "execution_count": 2,
   "metadata": {},
   "outputs": [
    {
     "data": {
      "text/plain": [
       "(395, 33)"
      ]
     },
     "execution_count": 2,
     "metadata": {},
     "output_type": "execute_result"
    }
   ],
   "source": [
    "df_notas = pd.read_csv('student-mat.csv')\n",
    "df_notas.shape"
   ]
  },
  {
   "cell_type": "code",
   "execution_count": 3,
   "metadata": {},
   "outputs": [],
   "source": [
    "#Verificação de dados faltantes\n",
    "def missing_values_table(df):\n",
    "        mis_val = df.isnull().sum() # conta a quantidade de missing\n",
    "        mis_val_percent = 100 * df.isnull().sum() / len(df) # calcula a porcentagem\n",
    "        mis_val_table = pd.concat([mis_val, mis_val_percent], axis=1) # cria uma tabela\n",
    "        mis_val_table_ren_columns = mis_val_table.rename(\n",
    "        columns = {0 : 'Valores faltantes', 1 : '% do total'}) # renomeia as colunas\n",
    "        mis_val_table_ren_columns = mis_val_table_ren_columns[\n",
    "            mis_val_table_ren_columns.iloc[:,1] != 0].sort_values(\n",
    "        '% do total', ascending=False).round(1) # ordena os valores\n",
    "        print (\"Você selecionou um dataframe que tem \" + str(df.shape[1]) + \" colunas.\\n\"      \n",
    "            \"E há \" + str(mis_val_table_ren_columns.shape[0]) +\n",
    "              \" colunas com valores faltantes\")\n",
    "        return mis_val_table_ren_columns"
   ]
  },
  {
   "cell_type": "code",
   "execution_count": 4,
   "metadata": {},
   "outputs": [
    {
     "name": "stdout",
     "output_type": "stream",
     "text": [
      "Você selecionou um dataframe que tem 33 colunas.\n",
      "E há 0 colunas com valores faltantes\n"
     ]
    },
    {
     "data": {
      "text/html": [
       "<div>\n",
       "<style scoped>\n",
       "    .dataframe tbody tr th:only-of-type {\n",
       "        vertical-align: middle;\n",
       "    }\n",
       "\n",
       "    .dataframe tbody tr th {\n",
       "        vertical-align: top;\n",
       "    }\n",
       "\n",
       "    .dataframe thead th {\n",
       "        text-align: right;\n",
       "    }\n",
       "</style>\n",
       "<table border=\"1\" class=\"dataframe\">\n",
       "  <thead>\n",
       "    <tr style=\"text-align: right;\">\n",
       "      <th></th>\n",
       "      <th>Valores faltantes</th>\n",
       "      <th>% do total</th>\n",
       "    </tr>\n",
       "  </thead>\n",
       "  <tbody>\n",
       "  </tbody>\n",
       "</table>\n",
       "</div>"
      ],
      "text/plain": [
       "Empty DataFrame\n",
       "Columns: [Valores faltantes, % do total]\n",
       "Index: []"
      ]
     },
     "execution_count": 4,
     "metadata": {},
     "output_type": "execute_result"
    }
   ],
   "source": [
    "missing_df = missing_values_table(df_notas)\n",
    "missing_df.tail()"
   ]
  },
  {
   "cell_type": "markdown",
   "metadata": {},
   "source": [
    "## Preparação da planilha"
   ]
  },
  {
   "cell_type": "markdown",
   "metadata": {},
   "source": [
    "### TRATANDO DADOS CATEGÓRICOS: Transformar variáveis categóricas em numéricas\n",
    "Para análise comparativa das variáveis, precisamos que todas fiquem numéricas"
   ]
  },
  {
   "cell_type": "code",
   "execution_count": 5,
   "metadata": {},
   "outputs": [],
   "source": [
    "#categorias com strings\n",
    "categoricas = ['school',\\\n",
    "               'sex',\\\n",
    "              'address',\\\n",
    "              'famsize',\\\n",
    "               'Pstatus',\\\n",
    "               'Mjob',\\\n",
    "               'Fjob',\\\n",
    "               'reason',\\\n",
    "               'guardian',\\\n",
    "               'schoolsup',\\\n",
    "               'famsup',\\\n",
    "               'paid',\\\n",
    "               'activities',\\\n",
    "               'nursery',\\\n",
    "               'higher',\\\n",
    "               'internet',\\\n",
    "               'romantic',\n",
    "                ]"
   ]
  },
  {
   "cell_type": "code",
   "execution_count": 6,
   "metadata": {},
   "outputs": [
    {
     "data": {
      "text/html": [
       "<div>\n",
       "<style scoped>\n",
       "    .dataframe tbody tr th:only-of-type {\n",
       "        vertical-align: middle;\n",
       "    }\n",
       "\n",
       "    .dataframe tbody tr th {\n",
       "        vertical-align: top;\n",
       "    }\n",
       "\n",
       "    .dataframe thead th {\n",
       "        text-align: right;\n",
       "    }\n",
       "</style>\n",
       "<table border=\"1\" class=\"dataframe\">\n",
       "  <thead>\n",
       "    <tr style=\"text-align: right;\">\n",
       "      <th></th>\n",
       "      <th>school</th>\n",
       "      <th>sex</th>\n",
       "      <th>address</th>\n",
       "      <th>famsize</th>\n",
       "      <th>Pstatus</th>\n",
       "      <th>Mjob</th>\n",
       "      <th>Fjob</th>\n",
       "      <th>reason</th>\n",
       "      <th>guardian</th>\n",
       "      <th>schoolsup</th>\n",
       "      <th>famsup</th>\n",
       "      <th>paid</th>\n",
       "      <th>activities</th>\n",
       "      <th>nursery</th>\n",
       "      <th>higher</th>\n",
       "      <th>internet</th>\n",
       "      <th>romantic</th>\n",
       "    </tr>\n",
       "  </thead>\n",
       "  <tbody>\n",
       "    <tr>\n",
       "      <th>0</th>\n",
       "      <td>0</td>\n",
       "      <td>0</td>\n",
       "      <td>1</td>\n",
       "      <td>0</td>\n",
       "      <td>0</td>\n",
       "      <td>0</td>\n",
       "      <td>4</td>\n",
       "      <td>0</td>\n",
       "      <td>1</td>\n",
       "      <td>1</td>\n",
       "      <td>0</td>\n",
       "      <td>0</td>\n",
       "      <td>0</td>\n",
       "      <td>1</td>\n",
       "      <td>1</td>\n",
       "      <td>0</td>\n",
       "      <td>0</td>\n",
       "    </tr>\n",
       "    <tr>\n",
       "      <th>1</th>\n",
       "      <td>0</td>\n",
       "      <td>0</td>\n",
       "      <td>1</td>\n",
       "      <td>0</td>\n",
       "      <td>1</td>\n",
       "      <td>0</td>\n",
       "      <td>2</td>\n",
       "      <td>0</td>\n",
       "      <td>0</td>\n",
       "      <td>0</td>\n",
       "      <td>1</td>\n",
       "      <td>0</td>\n",
       "      <td>0</td>\n",
       "      <td>0</td>\n",
       "      <td>1</td>\n",
       "      <td>1</td>\n",
       "      <td>0</td>\n",
       "    </tr>\n",
       "    <tr>\n",
       "      <th>2</th>\n",
       "      <td>0</td>\n",
       "      <td>0</td>\n",
       "      <td>1</td>\n",
       "      <td>1</td>\n",
       "      <td>1</td>\n",
       "      <td>0</td>\n",
       "      <td>2</td>\n",
       "      <td>2</td>\n",
       "      <td>1</td>\n",
       "      <td>1</td>\n",
       "      <td>0</td>\n",
       "      <td>1</td>\n",
       "      <td>0</td>\n",
       "      <td>1</td>\n",
       "      <td>1</td>\n",
       "      <td>1</td>\n",
       "      <td>0</td>\n",
       "    </tr>\n",
       "    <tr>\n",
       "      <th>3</th>\n",
       "      <td>0</td>\n",
       "      <td>0</td>\n",
       "      <td>1</td>\n",
       "      <td>0</td>\n",
       "      <td>1</td>\n",
       "      <td>1</td>\n",
       "      <td>3</td>\n",
       "      <td>1</td>\n",
       "      <td>1</td>\n",
       "      <td>0</td>\n",
       "      <td>1</td>\n",
       "      <td>1</td>\n",
       "      <td>1</td>\n",
       "      <td>1</td>\n",
       "      <td>1</td>\n",
       "      <td>1</td>\n",
       "      <td>1</td>\n",
       "    </tr>\n",
       "    <tr>\n",
       "      <th>4</th>\n",
       "      <td>0</td>\n",
       "      <td>0</td>\n",
       "      <td>1</td>\n",
       "      <td>0</td>\n",
       "      <td>1</td>\n",
       "      <td>2</td>\n",
       "      <td>2</td>\n",
       "      <td>1</td>\n",
       "      <td>0</td>\n",
       "      <td>0</td>\n",
       "      <td>1</td>\n",
       "      <td>1</td>\n",
       "      <td>0</td>\n",
       "      <td>1</td>\n",
       "      <td>1</td>\n",
       "      <td>0</td>\n",
       "      <td>0</td>\n",
       "    </tr>\n",
       "  </tbody>\n",
       "</table>\n",
       "</div>"
      ],
      "text/plain": [
       "   school  sex  address  famsize  Pstatus  Mjob  Fjob  reason  guardian  \\\n",
       "0       0    0        1        0        0     0     4       0         1   \n",
       "1       0    0        1        0        1     0     2       0         0   \n",
       "2       0    0        1        1        1     0     2       2         1   \n",
       "3       0    0        1        0        1     1     3       1         1   \n",
       "4       0    0        1        0        1     2     2       1         0   \n",
       "\n",
       "   schoolsup  famsup  paid  activities  nursery  higher  internet  romantic  \n",
       "0          1       0     0           0        1       1         0         0  \n",
       "1          0       1     0           0        0       1         1         0  \n",
       "2          1       0     1           0        1       1         1         0  \n",
       "3          0       1     1           1        1       1         1         1  \n",
       "4          0       1     1           0        1       1         0         0  "
      ]
     },
     "execution_count": 6,
     "metadata": {},
     "output_type": "execute_result"
    }
   ],
   "source": [
    "# Escolher o melhor método (um ficará comentado)\n",
    "le = LabelEncoder()\n",
    "# apply le on categorical feature columns\n",
    "df_notas[categoricas] = df_notas[categoricas].apply(lambda col: le.fit_transform(col))\n",
    "df_notas[categoricas].head( )"
   ]
  },
  {
   "cell_type": "code",
   "execution_count": null,
   "metadata": {},
   "outputs": [],
   "source": [
    "#oe = OrdinalEncoder()\n",
    "#categorical = df_notas[categoricas]\n",
    "#oe.fit(categorical)\n",
    "#numerical = oe.transform(categorical)\n",
    "\n",
    "#for n, feat in enumerate(categoricas):\n",
    "#    df_notas[feat] = numerical[:, n]\n",
    "#df_notas.head( )"
   ]
  },
  {
   "cell_type": "code",
   "execution_count": 7,
   "metadata": {},
   "outputs": [],
   "source": [
    "# Configura a tabela\n",
    "X = df_notas.drop('G3', axis=1)\n",
    "y = df_notas['G3']\n",
    "\n",
    "#Divide as variáveis em treino e teste\n",
    "X_train, X_test, y_train, y_test = train_test_split(X, y, test_size=0.3, random_state=42)"
   ]
  },
  {
   "cell_type": "markdown",
   "metadata": {},
   "source": [
    "### Normalização dos dados\n",
    "A normalização dos dados coloca-os na mesma ordem de grandeza"
   ]
  },
  {
   "cell_type": "code",
   "execution_count": 8,
   "metadata": {},
   "outputs": [],
   "source": [
    "#Este processo PADRONIZA as variáveis\n",
    "std = preprocessing.StandardScaler()\n",
    "\n",
    "X_train_std = std.fit_transform(X_train)\n",
    "X_test_std = std.transform(X_test)\n",
    "y_train_std = std.fit_transform(y_train.values.reshape(-1,1))\n",
    "y_test_std = std.transform(y_test.values.reshape(-1,1))\n",
    "\n",
    "#df_notas = pd.DataFrame(StandardScaler().fit_transform(X_train_std), columns=X_train.columns, index=X_train.index)\n",
    "#X.head( )"
   ]
  },
  {
   "cell_type": "code",
   "execution_count": 9,
   "metadata": {},
   "outputs": [],
   "source": [
    "df_notasTRAIN = pd.DataFrame(StandardScaler().fit_transform(X_train_std), columns=X_train.columns, index=X_train.index)"
   ]
  },
  {
   "cell_type": "code",
   "execution_count": 10,
   "metadata": {},
   "outputs": [],
   "source": [
    "df_notasTEST = pd.DataFrame(StandardScaler().fit_transform(X_test_std), columns=X_test.columns, index=X_test.index)"
   ]
  },
  {
   "cell_type": "code",
   "execution_count": 11,
   "metadata": {},
   "outputs": [
    {
     "data": {
      "text/html": [
       "<div>\n",
       "<style scoped>\n",
       "    .dataframe tbody tr th:only-of-type {\n",
       "        vertical-align: middle;\n",
       "    }\n",
       "\n",
       "    .dataframe tbody tr th {\n",
       "        vertical-align: top;\n",
       "    }\n",
       "\n",
       "    .dataframe thead th {\n",
       "        text-align: right;\n",
       "    }\n",
       "</style>\n",
       "<table border=\"1\" class=\"dataframe\">\n",
       "  <thead>\n",
       "    <tr style=\"text-align: right;\">\n",
       "      <th></th>\n",
       "      <th>school</th>\n",
       "      <th>sex</th>\n",
       "      <th>age</th>\n",
       "      <th>address</th>\n",
       "      <th>famsize</th>\n",
       "      <th>Pstatus</th>\n",
       "      <th>Medu</th>\n",
       "      <th>Fedu</th>\n",
       "      <th>Mjob</th>\n",
       "      <th>Fjob</th>\n",
       "      <th>...</th>\n",
       "      <th>romantic</th>\n",
       "      <th>famrel</th>\n",
       "      <th>freetime</th>\n",
       "      <th>goout</th>\n",
       "      <th>Dalc</th>\n",
       "      <th>Walc</th>\n",
       "      <th>health</th>\n",
       "      <th>absences</th>\n",
       "      <th>G1</th>\n",
       "      <th>G2</th>\n",
       "    </tr>\n",
       "  </thead>\n",
       "  <tbody>\n",
       "    <tr>\n",
       "      <th>17</th>\n",
       "      <td>-0.32249</td>\n",
       "      <td>-0.916515</td>\n",
       "      <td>-0.560008</td>\n",
       "      <td>0.504525</td>\n",
       "      <td>-0.644503</td>\n",
       "      <td>0.329293</td>\n",
       "      <td>0.244103</td>\n",
       "      <td>0.459335</td>\n",
       "      <td>-0.137555</td>\n",
       "      <td>-0.236555</td>\n",
       "      <td>...</td>\n",
       "      <td>-0.724474</td>\n",
       "      <td>1.215287</td>\n",
       "      <td>-0.249043</td>\n",
       "      <td>-1.016419</td>\n",
       "      <td>-0.557247</td>\n",
       "      <td>-1.013096</td>\n",
       "      <td>0.322877</td>\n",
       "      <td>-0.221442</td>\n",
       "      <td>-0.944757</td>\n",
       "      <td>-0.202857</td>\n",
       "    </tr>\n",
       "    <tr>\n",
       "      <th>165</th>\n",
       "      <td>-0.32249</td>\n",
       "      <td>1.091089</td>\n",
       "      <td>-0.560008</td>\n",
       "      <td>0.504525</td>\n",
       "      <td>-0.644503</td>\n",
       "      <td>0.329293</td>\n",
       "      <td>0.244103</td>\n",
       "      <td>-0.479750</td>\n",
       "      <td>0.670213</td>\n",
       "      <td>0.889122</td>\n",
       "      <td>...</td>\n",
       "      <td>-0.724474</td>\n",
       "      <td>0.050637</td>\n",
       "      <td>1.714836</td>\n",
       "      <td>-1.016419</td>\n",
       "      <td>-0.557247</td>\n",
       "      <td>-1.013096</td>\n",
       "      <td>-1.080495</td>\n",
       "      <td>1.159755</td>\n",
       "      <td>0.308863</td>\n",
       "      <td>0.066319</td>\n",
       "    </tr>\n",
       "    <tr>\n",
       "      <th>24</th>\n",
       "      <td>-0.32249</td>\n",
       "      <td>-0.916515</td>\n",
       "      <td>-1.336703</td>\n",
       "      <td>-1.982062</td>\n",
       "      <td>-0.644503</td>\n",
       "      <td>0.329293</td>\n",
       "      <td>-0.691625</td>\n",
       "      <td>1.398420</td>\n",
       "      <td>0.670213</td>\n",
       "      <td>-1.362233</td>\n",
       "      <td>...</td>\n",
       "      <td>-0.724474</td>\n",
       "      <td>0.050637</td>\n",
       "      <td>-0.249043</td>\n",
       "      <td>-1.016419</td>\n",
       "      <td>-0.557247</td>\n",
       "      <td>-1.013096</td>\n",
       "      <td>1.024563</td>\n",
       "      <td>-0.451641</td>\n",
       "      <td>-0.317947</td>\n",
       "      <td>-0.472032</td>\n",
       "    </tr>\n",
       "    <tr>\n",
       "      <th>126</th>\n",
       "      <td>-0.32249</td>\n",
       "      <td>-0.916515</td>\n",
       "      <td>-1.336703</td>\n",
       "      <td>0.504525</td>\n",
       "      <td>1.551582</td>\n",
       "      <td>-3.036811</td>\n",
       "      <td>0.244103</td>\n",
       "      <td>1.398420</td>\n",
       "      <td>-0.137555</td>\n",
       "      <td>-0.236555</td>\n",
       "      <td>...</td>\n",
       "      <td>1.380313</td>\n",
       "      <td>1.215287</td>\n",
       "      <td>-0.249043</td>\n",
       "      <td>-1.016419</td>\n",
       "      <td>-0.557247</td>\n",
       "      <td>-1.013096</td>\n",
       "      <td>-1.782181</td>\n",
       "      <td>-0.681841</td>\n",
       "      <td>-1.258162</td>\n",
       "      <td>-0.202857</td>\n",
       "    </tr>\n",
       "    <tr>\n",
       "      <th>346</th>\n",
       "      <td>-0.32249</td>\n",
       "      <td>1.091089</td>\n",
       "      <td>0.993381</td>\n",
       "      <td>-1.982062</td>\n",
       "      <td>-0.644503</td>\n",
       "      <td>0.329293</td>\n",
       "      <td>1.179830</td>\n",
       "      <td>0.459335</td>\n",
       "      <td>1.477980</td>\n",
       "      <td>0.889122</td>\n",
       "      <td>...</td>\n",
       "      <td>1.380313</td>\n",
       "      <td>1.215287</td>\n",
       "      <td>-0.249043</td>\n",
       "      <td>-1.016419</td>\n",
       "      <td>-0.557247</td>\n",
       "      <td>-0.247029</td>\n",
       "      <td>0.322877</td>\n",
       "      <td>0.354057</td>\n",
       "      <td>1.562483</td>\n",
       "      <td>1.143019</td>\n",
       "    </tr>\n",
       "  </tbody>\n",
       "</table>\n",
       "<p>5 rows × 32 columns</p>\n",
       "</div>"
      ],
      "text/plain": [
       "      school       sex       age   address   famsize   Pstatus      Medu  \\\n",
       "17  -0.32249 -0.916515 -0.560008  0.504525 -0.644503  0.329293  0.244103   \n",
       "165 -0.32249  1.091089 -0.560008  0.504525 -0.644503  0.329293  0.244103   \n",
       "24  -0.32249 -0.916515 -1.336703 -1.982062 -0.644503  0.329293 -0.691625   \n",
       "126 -0.32249 -0.916515 -1.336703  0.504525  1.551582 -3.036811  0.244103   \n",
       "346 -0.32249  1.091089  0.993381 -1.982062 -0.644503  0.329293  1.179830   \n",
       "\n",
       "         Fedu      Mjob      Fjob  ...  romantic    famrel  freetime  \\\n",
       "17   0.459335 -0.137555 -0.236555  ... -0.724474  1.215287 -0.249043   \n",
       "165 -0.479750  0.670213  0.889122  ... -0.724474  0.050637  1.714836   \n",
       "24   1.398420  0.670213 -1.362233  ... -0.724474  0.050637 -0.249043   \n",
       "126  1.398420 -0.137555 -0.236555  ...  1.380313  1.215287 -0.249043   \n",
       "346  0.459335  1.477980  0.889122  ...  1.380313  1.215287 -0.249043   \n",
       "\n",
       "        goout      Dalc      Walc    health  absences        G1        G2  \n",
       "17  -1.016419 -0.557247 -1.013096  0.322877 -0.221442 -0.944757 -0.202857  \n",
       "165 -1.016419 -0.557247 -1.013096 -1.080495  1.159755  0.308863  0.066319  \n",
       "24  -1.016419 -0.557247 -1.013096  1.024563 -0.451641 -0.317947 -0.472032  \n",
       "126 -1.016419 -0.557247 -1.013096 -1.782181 -0.681841 -1.258162 -0.202857  \n",
       "346 -1.016419 -0.557247 -0.247029  0.322877  0.354057  1.562483  1.143019  \n",
       "\n",
       "[5 rows x 32 columns]"
      ]
     },
     "execution_count": 11,
     "metadata": {},
     "output_type": "execute_result"
    }
   ],
   "source": [
    "df_notasTRAIN.head()"
   ]
  },
  {
   "cell_type": "code",
   "execution_count": null,
   "metadata": {},
   "outputs": [],
   "source": [
    "#Este processo NORMALIZA as variáveis - ESCOLHER APENAS UM PROCESSO\n",
    "#escala = Normalizer().fit(df_notas)\n",
    "#df_notasN = escala.transform(df_notas)\n",
    "#df_notas = pd.DataFrame(Normalizer().fit_transform(df_notasN), columns=df_notas.columns, index=df_notas.index)"
   ]
  },
  {
   "cell_type": "markdown",
   "metadata": {},
   "source": [
    "### Construindo gráficos de demonstração de importância das variáveis"
   ]
  },
  {
   "cell_type": "code",
   "execution_count": null,
   "metadata": {},
   "outputs": [],
   "source": [
    "#X = df_notas.drop('G3', axis=1)\n",
    "#y = df_notas['G3']\n",
    "#print(X.shape)\n",
    "#print(y.shape)"
   ]
  },
  {
   "cell_type": "markdown",
   "metadata": {},
   "source": [
    "## Dados preparados para escolha do tipo de algoritmo\n",
    "O algoritmo escolhido após vários testes foi o ELastic Net"
   ]
  },
  {
   "cell_type": "markdown",
   "metadata": {},
   "source": [
    "### Gráficos Yellowbrick"
   ]
  },
  {
   "cell_type": "code",
   "execution_count": null,
   "metadata": {},
   "outputs": [],
   "source": [
    "#Gera um gráfico com a melhor quantidade de variáveis a ser considerada e quais são elas\n",
    "visualizer = RFECV(ElasticNet(alpha=0.0001,l1_ratio=0.1), cv=5, scoring='r2')\n",
    "visualizer.fit(X_train_std, y_train_std)\n",
    "visualizer.show()"
   ]
  },
  {
   "cell_type": "code",
   "execution_count": null,
   "metadata": {},
   "outputs": [],
   "source": [
    "df_notasTRAIN.loc[:, df_notasTRAIN.columns != 'IN_TREINEIRO'].columns[visualizer.support_] #colunas que ele retornou como importante"
   ]
  },
  {
   "cell_type": "markdown",
   "metadata": {},
   "source": [
    "### Depois de aplicar o Yellowbrick"
   ]
  },
  {
   "cell_type": "code",
   "execution_count": null,
   "metadata": {},
   "outputs": [],
   "source": [
    "#Cria planilha nova APENAS COM as features que o Yellowbrick considerou IMPORTANTES (drop nas demais)\n",
    "df_notas3 = df_notasTRAIN.loc[:, ['schoolsup', 'famrel', 'absences', 'G1', 'G2']]\n",
    "df_notas3test = df_notasTEST.loc[:, ['schoolsup', 'famrel', 'absences', 'G1', 'G2']]"
   ]
  },
  {
   "cell_type": "markdown",
   "metadata": {},
   "source": [
    "### Plot comparativo de variáveis indicadas no Yellowbrick + 3 escolhidas aleatoriamente"
   ]
  },
  {
   "cell_type": "code",
   "execution_count": null,
   "metadata": {},
   "outputs": [],
   "source": [
    "# Cria gráficos que demonstram as posições dos dados usando as variáveis indicadas no Yellowbrick, em uma matriz (2,4)\n",
    "fig, ax = plt.subplots(2, 4)\n",
    "ax[0,0].scatter(df_notasTRAIN.iloc[:,2],y_train_std);\n",
    "ax[0,0].set_xlabel('age');\n",
    "ax[0,0].set_ylabel('G3');\n",
    "\n",
    "ax[0,1].scatter(df_notasTRAIN.iloc[:,23],y_train_std);\n",
    "ax[0,1].set_xlabel('famrel');\n",
    "ax[0,1].set_ylabel('G3');\n",
    "\n",
    "ax[0,2].scatter(df_notasTRAIN.iloc[:,29],y_train_std);\n",
    "ax[0,2].set_xlabel('absences');\n",
    "ax[0,2].set_ylabel('G3');\n",
    "\n",
    "ax[0,3].scatter(df_notasTRAIN.iloc[:,15],y_train_std);\n",
    "ax[0,3].set_xlabel('schoolsup');\n",
    "ax[0,3].set_ylabel('G3');\n",
    "\n",
    "ax[1,0].scatter(df_notasTRAIN.iloc[:,30],y_train_std);\n",
    "ax[1,0].set_xlabel('G1');\n",
    "ax[1,0].set_ylabel('G3');\n",
    "\n",
    "ax[1,1].scatter(df_notasTRAIN.iloc[:,31],y_train_std);\n",
    "ax[1,1].set_xlabel('G2');\n",
    "ax[1,1].set_ylabel('G3');\n",
    "\n",
    "ax[1,2].scatter(df_notasTRAIN.iloc[:,24],y_train_std);\n",
    "ax[1,2].set_xlabel('freetime');\n",
    "ax[1,2].set_ylabel('G3');\n",
    "\n",
    "ax[1,3].scatter(df_notasTRAIN.iloc[:,6],y_train_std);\n",
    "ax[1,3].set_xlabel('Medu');\n",
    "ax[1,3].set_ylabel('G3');\n",
    "\n",
    "plt.tight_layout();"
   ]
  },
  {
   "cell_type": "markdown",
   "metadata": {},
   "source": [
    "# IGNORA TUDO DE ELASTIC NET (NÃO RODEI NADA DISSO DESSA VEZ)"
   ]
  },
  {
   "cell_type": "markdown",
   "metadata": {},
   "source": [
    "# Regressor ElasticNet\n",
    "De acordo com https://medium.com/turing-talks/turing-talks-20-regressão-de-ridge-e-lasso-a0fc467b5629 esse método pode ser melhor para o tipo de problema sugerido"
   ]
  },
  {
   "cell_type": "markdown",
   "metadata": {},
   "source": [
    "### Teste com planilha completa"
   ]
  },
  {
   "cell_type": "code",
   "execution_count": null,
   "metadata": {},
   "outputs": [],
   "source": [
    "#X = df_notas.drop('G3', axis=1)\n",
    "#y = df_notas['G3']\n",
    "#X = df_notas3\n",
    "alphas = [0.0001,0.001, 0.01, 0.1, 0.5, 1]\n",
    "l1s = [0.1,0.2,0.3,0.4,0.5,0.6,0.7,0.8,0.9]\n",
    "score = []"
   ]
  },
  {
   "cell_type": "code",
   "execution_count": null,
   "metadata": {},
   "outputs": [],
   "source": [
    "#Teste com diferentes alphas e l1_ratio\n",
    "for i in range(len(alphas)):\n",
    "    for j in range(len(l1s)):\n",
    "        teste_EN = ElasticNet(alpha=alphas[i],l1_ratio=l1s[j])\n",
    "        teste_EN.fit(X_train_std, y_train_std)\n",
    "        score = teste_EN.score(X_train_std, y_train_std)\n",
    "        print(\"alpha = \",alphas[i],\" l1_ratio = \",l1s[j],\" Score = \",score)"
   ]
  },
  {
   "cell_type": "markdown",
   "metadata": {},
   "source": [
    "### Aplicando o regressor"
   ]
  },
  {
   "cell_type": "code",
   "execution_count": null,
   "metadata": {},
   "outputs": [],
   "source": [
    "# Usando os dados da linha anterior, o melhor score\n",
    "notas_completa = ElasticNet(alpha=0.0001,l1_ratio=0.1)\n",
    "notas_completa.fit(X_train_std, y_train_std)"
   ]
  },
  {
   "cell_type": "code",
   "execution_count": null,
   "metadata": {},
   "outputs": [],
   "source": [
    "y_pred = notas_completa.predict(X_test_std)"
   ]
  },
  {
   "cell_type": "code",
   "execution_count": null,
   "metadata": {},
   "outputs": [],
   "source": [
    "# Cria gráficos que demonstram as posições dos dados usando as variáveis indicadas no Yellowbrick, em uma matriz (3,3)\n",
    "fig, ax = plt.subplots(2, 4)\n",
    "ax[0,0].scatter(df_notasTEST.iloc[:,2],y_test_std);\n",
    "ax[0,0].scatter(df_notasTEST.iloc[:,2],y_pred,color='red');\n",
    "ax[0,0].set_xlabel('age');\n",
    "ax[0,0].set_ylabel('G3');\n",
    "\n",
    "ax[0,1].scatter(df_notasTEST.iloc[:,23],y_test_std);\n",
    "ax[0,1].scatter(df_notasTEST.iloc[:,23],y_pred,color='red');\n",
    "ax[0,1].set_xlabel('famrel');\n",
    "ax[0,1].set_ylabel('G3');\n",
    "\n",
    "ax[0,2].scatter(df_notasTEST.iloc[:,29],y_test_std);\n",
    "ax[0,2].scatter(df_notasTEST.iloc[:,29],y_pred,color='red');\n",
    "ax[0,2].set_xlabel('absences');\n",
    "ax[0,2].set_ylabel('G3');\n",
    "\n",
    "ax[0,3].scatter(df_notasTEST.iloc[:,14],y_test_std);\n",
    "ax[0,3].scatter(df_notasTEST.iloc[:,14],y_pred,color='red');\n",
    "ax[0,3].set_xlabel('failures');\n",
    "ax[0,3].set_ylabel('G3');\n",
    "\n",
    "ax[1,0].scatter(df_notasTEST.iloc[:,30],y_test_std);\n",
    "ax[1,0].scatter(df_notasTEST.iloc[:,30],y_pred,color='red');\n",
    "ax[1,0].set_xlabel('G1');\n",
    "ax[1,0].set_ylabel('G3');\n",
    "\n",
    "ax[1,1].scatter(df_notasTEST.iloc[:,31],y_test_std);\n",
    "ax[1,1].scatter(df_notasTEST.iloc[:,31],y_pred,color='red');\n",
    "ax[1,1].set_xlabel('G2');\n",
    "ax[1,1].set_ylabel('G3');\n",
    "\n",
    "ax[1,2].scatter(df_notasTEST.iloc[:,24],y_test_std);\n",
    "ax[1,2].scatter(df_notasTEST.iloc[:,24],y_pred,color='red');\n",
    "ax[1,2].set_xlabel('freetime');\n",
    "ax[1,2].set_ylabel('G3');\n",
    "\n",
    "ax[1,3].scatter(df_notasTEST.iloc[:,6],y_test_std);\n",
    "ax[1,3].scatter(df_notasTEST.iloc[:,0],y_pred,color='red');\n",
    "ax[1,3].set_xlabel('Medu');\n",
    "ax[1,3].set_ylabel('G3');\n",
    "\n",
    "plt.tight_layout();"
   ]
  },
  {
   "cell_type": "markdown",
   "metadata": {},
   "source": [
    "### Métricas com planilha completa"
   ]
  },
  {
   "cell_type": "code",
   "execution_count": null,
   "metadata": {},
   "outputs": [],
   "source": [
    "#avaliação da qualidade do modelo\n",
    "score = notas_completa.score(X_test_std, y_test_std)\n",
    "print('Score:', score)\n",
    "print('Mean Absolute Error:', metrics.mean_absolute_error(y_test_std, y_pred)) #próx de 0, melhor\n",
    "print('Mean Squared Error:', metrics.mean_squared_error(y_test_std, y_pred))\n",
    "print('Root Mean Squared Error:', np.sqrt(metrics.mean_squared_error(y_test_std, y_pred))) #medida de dispersão"
   ]
  },
  {
   "cell_type": "markdown",
   "metadata": {},
   "source": [
    "## Teste apenas com as colunas marcadas como importantes no Yellowbrick"
   ]
  },
  {
   "cell_type": "code",
   "execution_count": null,
   "metadata": {},
   "outputs": [],
   "source": [
    "#X = df_notas.drop('G3', axis=1)\n",
    "#y = df_notas['G3']\n",
    "#X = df_notas3\n",
    "\n",
    "#Divide as variáveis em treino e teste\n",
    "#X_train, X_test, y_train, y_test = train_test_split(X, y, test_size=0.3, random_state=42)\n",
    "\n",
    "alphas_P = [0.0001,0.001, 0.01, 0.1, 0.5, 1]\n",
    "l1s_P = [0.1,0.2,0.3,0.4,0.5,0.6,0.7,0.8,0.9]\n",
    "score = []"
   ]
  },
  {
   "cell_type": "code",
   "execution_count": null,
   "metadata": {},
   "outputs": [],
   "source": [
    "#Teste com diferentes alphas e l1_ratio\n",
    "for i in range(len(alphas)):\n",
    "    for j in range(len(l1s)):\n",
    "        teste_EN = ElasticNet(alpha=alphas[i],l1_ratio=l1s[j])\n",
    "        teste_EN.fit(df_notas3, y_train_std)\n",
    "        score = teste_EN.score(df_notas3, y_train_std)\n",
    "        print(\"alpha = \",alphas[i],\" l1_ratio = \",l1s[j],\" Score = \",score)"
   ]
  },
  {
   "cell_type": "code",
   "execution_count": null,
   "metadata": {},
   "outputs": [],
   "source": []
  },
  {
   "cell_type": "code",
   "execution_count": null,
   "metadata": {},
   "outputs": [],
   "source": [
    "# Usando os dados da linha anterior, o melhor score\n",
    "notas_parcial = ElasticNet(alpha=0.0001,l1_ratio=0.1)\n",
    "notas_parcial.fit(df_notas3, y_train_std)"
   ]
  },
  {
   "cell_type": "code",
   "execution_count": null,
   "metadata": {},
   "outputs": [],
   "source": [
    "y_pred = notas_parcial.predict(df_notas3test)"
   ]
  },
  {
   "cell_type": "markdown",
   "metadata": {},
   "source": [
    "### Plot dos gráficos comparativos"
   ]
  },
  {
   "cell_type": "code",
   "execution_count": null,
   "metadata": {},
   "outputs": [],
   "source": [
    "# Cria gráficos que demonstram as posições dos dados usando as variáveis indicadas no Yellowbrick, em uma matriz (2,3)\n",
    "# acrescido do plot da predição\n",
    "fig, ax = plt.subplots(2, 3)\n",
    "ax[0,0].scatter(df_notas3test.iloc[:,0],y_test_std);\n",
    "ax[0,0].scatter(df_notas3test.iloc[:,0],y_pred,color='red');\n",
    "ax[0,0].set_xlabel('schoolsup');\n",
    "ax[0,0].set_ylabel('G3');\n",
    "\n",
    "ax[0,1].scatter(df_notas3test.iloc[:,1],y_test_std);\n",
    "ax[0,1].scatter(df_notas3test.iloc[:,1],y_pred,color='red');\n",
    "ax[0,1].set_xlabel('famrel');\n",
    "ax[0,1].set_ylabel('G3');\n",
    "\n",
    "ax[0,2].scatter(df_notas3test.iloc[:,2],y_test_std);\n",
    "ax[0,2].scatter(df_notas3test.iloc[:,2],y_pred,color='red');\n",
    "ax[0,2].set_xlabel('absenses');\n",
    "ax[0,2].set_ylabel('G3');\n",
    "\n",
    "ax[1,0].scatter(df_notas3test.iloc[:,3],y_test_std);\n",
    "ax[1,0].scatter(df_notas3test.iloc[:,3],y_pred,color='red');\n",
    "ax[1,0].set_xlabel('G1');\n",
    "ax[1,0].set_ylabel('G3');\n",
    "\n",
    "ax[1,1].scatter(df_notas3test.iloc[:,4],y_test_std);\n",
    "ax[1,1].scatter(df_notas3test.iloc[:,4],y_pred,color='red');\n",
    "ax[1,1].set_xlabel('G2');\n",
    "ax[1,1].set_ylabel('G3');\n",
    "\n",
    "plt.tight_layout();"
   ]
  },
  {
   "cell_type": "code",
   "execution_count": null,
   "metadata": {},
   "outputs": [],
   "source": [
    "df_notas3test.head()"
   ]
  },
  {
   "cell_type": "markdown",
   "metadata": {},
   "source": [
    "#### Métricas do Modelo só com as colunas indicadas no Yellowbrick como importantes "
   ]
  },
  {
   "cell_type": "code",
   "execution_count": null,
   "metadata": {},
   "outputs": [],
   "source": [
    "#avaliação da qualidade do modelo\n",
    "score = notas_parcial.score(df_notas3test, y_test_std)\n",
    "print('Score:', score)\n",
    "print('Mean Absolute Error:', metrics.mean_absolute_error(y_test_std, y_pred)) #próx de 0, melhor\n",
    "print('Mean Squared Error:', metrics.mean_squared_error(y_test_std, y_pred))\n",
    "print('Root Mean Squared Error:', np.sqrt(metrics.mean_squared_error(y_test_std, y_pred))) #medida de dispersão"
   ]
  },
  {
   "cell_type": "markdown",
   "metadata": {},
   "source": [
    "## Teste para verificar as variáveis que influenciam em G2"
   ]
  },
  {
   "cell_type": "code",
   "execution_count": null,
   "metadata": {},
   "outputs": [],
   "source": [
    "df_notas2 = df_notas.drop('G3', axis=1)\n",
    "#y = df_notas['G3']\n",
    "print(X.shape)\n",
    "print(y.shape)"
   ]
  },
  {
   "cell_type": "code",
   "execution_count": null,
   "metadata": {},
   "outputs": [],
   "source": [
    "X = df_notas2.drop('G2', axis=1)\n",
    "y = df_notas['G2']"
   ]
  },
  {
   "cell_type": "code",
   "execution_count": null,
   "metadata": {},
   "outputs": [],
   "source": [
    "X.columns"
   ]
  },
  {
   "cell_type": "code",
   "execution_count": null,
   "metadata": {},
   "outputs": [],
   "source": [
    "visualizer = RFECV(ElasticNet(alpha=0.0001,l1_ratio=0.1), cv=15, scoring='r2')\n",
    "visualizer.fit(X, y)\n",
    "visualizer.show()"
   ]
  },
  {
   "cell_type": "code",
   "execution_count": null,
   "metadata": {},
   "outputs": [],
   "source": [
    "#Divide as variáveis em treino e teste\n",
    "#X_train, X_test, y_train, y_test = train_test_split(X, y, test_size=0.3, random_state=42)\n",
    "\n",
    "alphas = [0.0001,0.001, 0.01, 0.1, 0.5, 1]\n",
    "l1s = [0.1,0.2,0.3,0.4,0.5,0.6,0.7,0.8,0.9]\n",
    "score = []"
   ]
  },
  {
   "cell_type": "code",
   "execution_count": null,
   "metadata": {},
   "outputs": [],
   "source": [
    "#Teste com diferentes alphas e l1_ratio\n",
    "for i in range(len(alphas)):\n",
    "    for j in range(len(l1s)):\n",
    "        teste_EN = ElasticNet(alpha=alphas[i],l1_ratio=l1s[j])\n",
    "        teste_EN.fit(X_train, y_train)\n",
    "        score = teste_EN.score(X_train, y_train)\n",
    "        print(\"alpha = \",alphas[i],\" l1_ratio = \",l1s[j],\" Score = \",score)"
   ]
  },
  {
   "cell_type": "code",
   "execution_count": null,
   "metadata": {},
   "outputs": [],
   "source": [
    "X.loc[:, X.columns != 'IN_TREINEIRO'].columns[visualizer.support_] #colunas"
   ]
  },
  {
   "cell_type": "markdown",
   "metadata": {},
   "source": [
    "## Testando o que influencia G1"
   ]
  },
  {
   "cell_type": "code",
   "execution_count": null,
   "metadata": {},
   "outputs": [],
   "source": [
    "df_notas4 = X"
   ]
  },
  {
   "cell_type": "code",
   "execution_count": null,
   "metadata": {},
   "outputs": [],
   "source": [
    "X = df_notas4.drop('G1', axis=1)\n",
    "y = df_notas['G1']"
   ]
  },
  {
   "cell_type": "code",
   "execution_count": null,
   "metadata": {},
   "outputs": [],
   "source": [
    "visualizer = RFECV(ElasticNet(alpha=0.0001,l1_ratio=0.1), cv=9, scoring='r2')\n",
    "visualizer.fit(X, y)\n",
    "visualizer.show()"
   ]
  },
  {
   "cell_type": "code",
   "execution_count": null,
   "metadata": {},
   "outputs": [],
   "source": [
    "X.loc[:, X.columns != 'IN_TREINEIRO'].columns[visualizer.support_] #colunas"
   ]
  },
  {
   "cell_type": "code",
   "execution_count": null,
   "metadata": {},
   "outputs": [],
   "source": [
    "#Divide as variáveis em treino e teste\n",
    "#X_train, X_test, y_train, y_test = train_test_split(X, y, test_size=0.3, random_state=42)\n",
    "\n",
    "alphas = [0.0001,0.001, 0.01, 0.1, 0.5, 1]\n",
    "l1s = [0.1,0.2,0.3,0.4,0.5,0.6,0.7,0.8,0.9]\n",
    "score = []"
   ]
  },
  {
   "cell_type": "code",
   "execution_count": null,
   "metadata": {},
   "outputs": [],
   "source": [
    "#Teste com diferentes alphas e l1_ratio\n",
    "for i in range(len(alphas)):\n",
    "    for j in range(len(l1s)):\n",
    "        teste_EN = ElasticNet(alpha=alphas[i],l1_ratio=l1s[j])\n",
    "        teste_EN.fit(X_train, y_train)\n",
    "        score = teste_EN.score(X_train, y_train)\n",
    "        print(\"alpha = \",alphas[i],\" l1_ratio = \",l1s[j],\" Score = \",score)"
   ]
  },
  {
   "cell_type": "markdown",
   "metadata": {},
   "source": [
    "## Teste sem G1 e G2, mas com target no G3 - GRUPO C"
   ]
  },
  {
   "cell_type": "code",
   "execution_count": null,
   "metadata": {},
   "outputs": [],
   "source": [
    "df_notas4.columns"
   ]
  },
  {
   "cell_type": "code",
   "execution_count": null,
   "metadata": {},
   "outputs": [],
   "source": [
    "X = df_notas4.drop('G1', axis=1)\n",
    "y = df_notas['G3']"
   ]
  },
  {
   "cell_type": "code",
   "execution_count": null,
   "metadata": {},
   "outputs": [],
   "source": [
    "visualizer = RFECV(ElasticNet(alpha=0.0001,l1_ratio=0.1), cv=10, scoring='r2')\n",
    "visualizer.fit(X, y)\n",
    "visualizer.show()"
   ]
  },
  {
   "cell_type": "code",
   "execution_count": null,
   "metadata": {},
   "outputs": [],
   "source": [
    "X.loc[:, X.columns != 'IN_TREINEIRO'].columns[visualizer.support_] #colunas"
   ]
  },
  {
   "cell_type": "code",
   "execution_count": null,
   "metadata": {},
   "outputs": [],
   "source": [
    "alphas = [0.0001,0.001, 0.01, 0.1, 0.5, 1]\n",
    "l1s = [0.1,0.2,0.3,0.4,0.5,0.6,0.7,0.8,0.9]\n",
    "score = []"
   ]
  },
  {
   "cell_type": "code",
   "execution_count": null,
   "metadata": {},
   "outputs": [],
   "source": [
    "#Teste com diferentes alphas e l1_ratio\n",
    "for i in range(len(alphas)):\n",
    "    for j in range(len(l1s)):\n",
    "        teste_C = ElasticNet(alpha=alphas[i],l1_ratio=l1s[j])\n",
    "        teste_C.fit(X_train, y_train)\n",
    "        score = teste_C.score(X_train, y_train)\n",
    "        print(\"alpha = \",alphas[i],\" l1_ratio = \",l1s[j],\" Score = \",score)"
   ]
  },
  {
   "cell_type": "markdown",
   "metadata": {},
   "source": [
    "# CÓDIGO RODADO A PARTIR DAQUI"
   ]
  },
  {
   "cell_type": "markdown",
   "metadata": {},
   "source": [
    "# Teste com RandomForest"
   ]
  },
  {
   "cell_type": "code",
   "execution_count": 12,
   "metadata": {},
   "outputs": [
    {
     "name": "stderr",
     "output_type": "stream",
     "text": [
      "C:\\python\\anaconda\\envs\\ai-girls-ML\\lib\\site-packages\\sklearn\\utils\\validation.py:63: DataConversionWarning: A column-vector y was passed when a 1d array was expected. Please change the shape of y to (n_samples, ), for example using ravel().\n",
      "  return f(*args, **kwargs)\n"
     ]
    },
    {
     "data": {
      "image/png": "[encoded data removed]",
      "text/plain": [
       "<Figure size 576x396 with 1 Axes>"
      ]
     },
     "metadata": {},
     "output_type": "display_data"
    },
    {
     "data": {
      "text/plain": [
       "<AxesSubplot:title={'center':'RFECV for RandomForestRegressor'}, xlabel='Number of Features Selected', ylabel='Score'>"
      ]
     },
     "execution_count": 12,
     "metadata": {},
     "output_type": "execute_result"
    }
   ],
   "source": [
    "visualizer = RFECV(RandomForestRegressor(), cv=10, scoring='r2')\n",
    "visualizer.fit(X_train_std, y_train_std)\n",
    "visualizer.show()"
   ]
  },
  {
   "cell_type": "code",
   "execution_count": 13,
   "metadata": {},
   "outputs": [
    {
     "data": {
      "text/plain": [
       "Index(['age', 'reason', 'famrel', 'absences', 'G2'], dtype='object')"
      ]
     },
     "execution_count": 13,
     "metadata": {},
     "output_type": "execute_result"
    }
   ],
   "source": [
    "df_notasTRAIN.loc[:, df_notasTRAIN.columns != 'IN_TREINEIRO'].columns[visualizer.support_] #colunas que ele retornou como importante"
   ]
  },
  {
   "cell_type": "markdown",
   "metadata": {},
   "source": [
    "### Aplicação do RFR somente com as features escolhidas"
   ]
  },
  {
   "cell_type": "code",
   "execution_count": 14,
   "metadata": {},
   "outputs": [],
   "source": [
    "#Cria planilha nova APENAS COM as features que o Yellowbrick considerou IMPORTANTES (drop nas demais)\n",
    "df_notasRFR = df_notasTRAIN.loc[:, ['age', 'reason', 'famrel', 'absences', 'G2']]\n",
    "df_notasRFRtest = df_notasTEST.loc[:, ['age', 'reason', 'famrel', 'absences', 'G2']]"
   ]
  },
  {
   "cell_type": "code",
   "execution_count": 18,
   "metadata": {},
   "outputs": [
    {
     "data": {
      "image/png": "[encoded data removed]",
      "text/plain": [
       "<Figure size 576x396 with 6 Axes>"
      ]
     },
     "metadata": {},
     "output_type": "display_data"
    }
   ],
   "source": [
    "# Cria gráficos que demonstram as posições dos dados usando as variáveis indicadas no Yellowbrick, em uma matriz (2,2)\n",
    "fig, ax = plt.subplots(2, 3)\n",
    "ax[0,0].scatter(df_notasRFR.iloc[:,0],y_train_std);\n",
    "ax[0,0].set_xlabel('age');\n",
    "ax[0,0].set_ylabel('G3');\n",
    "\n",
    "ax[0,1].scatter(df_notasRFR.iloc[:,1],y_train_std);\n",
    "ax[0,1].set_xlabel('reason');\n",
    "ax[0,1].set_ylabel('G3');\n",
    "\n",
    "ax[0,2].scatter(df_notasRFR.iloc[:,2],y_train_std);\n",
    "ax[0,2].set_xlabel('famrel');\n",
    "ax[0,2].set_ylabel('G3');\n",
    "\n",
    "ax[1,0].scatter(df_notasRFR.iloc[:,3],y_train_std);\n",
    "ax[1,0].set_xlabel('absences');\n",
    "ax[1,0].set_ylabel('G3');\n",
    "\n",
    "ax[1,1].scatter(df_notasRFR.iloc[:,4],y_train_std);\n",
    "ax[1,1].set_xlabel('G2');\n",
    "ax[1,1].set_ylabel('G3');\n",
    "\n",
    "plt.tight_layout();"
   ]
  },
  {
   "cell_type": "code",
   "execution_count": 19,
   "metadata": {},
   "outputs": [
    {
     "name": "stderr",
     "output_type": "stream",
     "text": [
      "<ipython-input-19-249754555163>:4: DataConversionWarning: A column-vector y was passed when a 1d array was expected. Please change the shape of y to (n_samples,), for example using ravel().\n",
      "  RFR_parcial.fit(df_notasRFR, y_train_std)\n"
     ]
    }
   ],
   "source": [
    "#Aplicação do RFR\n",
    "# Fit regression model\n",
    "RFR_parcial = RandomForestRegressor(max_depth=5)\n",
    "RFR_parcial.fit(df_notasRFR, y_train_std)\n",
    "\n",
    "# Predict\n",
    "y_pred = RFR_parcial.predict(df_notasRFRtest)"
   ]
  },
  {
   "cell_type": "code",
   "execution_count": 21,
   "metadata": {},
   "outputs": [
    {
     "data": {
      "image/png": "[encoded data removed]",
      "text/plain": [
       "<Figure size 576x396 with 6 Axes>"
      ]
     },
     "metadata": {},
     "output_type": "display_data"
    }
   ],
   "source": [
    "# Cria gráficos que demonstram as posições dos dados usando as variáveis indicadas no Yellowbrick, em uma matriz (2,3)\n",
    "# acrescido do plot da predição\n",
    "fig, ax = plt.subplots(2, 3)\n",
    "ax[0,0].scatter(df_notasRFRtest.iloc[:,0],y_test_std);\n",
    "ax[0,0].scatter(df_notasRFRtest.iloc[:,0],y_pred,color='red');\n",
    "ax[0,0].set_xlabel('age');\n",
    "ax[0,0].set_ylabel('G3');\n",
    "\n",
    "ax[0,1].scatter(df_notasRFRtest.iloc[:,1],y_test_std);\n",
    "ax[0,1].scatter(df_notasRFRtest.iloc[:,1],y_pred,color='red');\n",
    "ax[0,1].set_xlabel('reason');\n",
    "ax[0,1].set_ylabel('G3');\n",
    "\n",
    "ax[0,2].scatter(df_notasRFRtest.iloc[:,2],y_test_std);\n",
    "ax[0,2].scatter(df_notasRFRtest.iloc[:,2],y_pred,color='red');\n",
    "ax[0,2].set_xlabel('famrel');\n",
    "ax[0,2].set_ylabel('G3');\n",
    "\n",
    "ax[1,0].scatter(df_notasRFRtest.iloc[:,3],y_test_std);\n",
    "ax[1,0].scatter(df_notasRFRtest.iloc[:,3],y_pred,color='red');\n",
    "ax[1,0].set_xlabel('absences');\n",
    "ax[1,0].set_ylabel('G3');\n",
    "\n",
    "ax[1,1].scatter(df_notasRFRtest.iloc[:,4],y_test_std);\n",
    "ax[1,1].scatter(df_notasRFRtest.iloc[:,4],y_pred,color='red');\n",
    "ax[1,1].set_xlabel('G2');\n",
    "ax[1,1].set_ylabel('G3');\n",
    "\n",
    "plt.tight_layout();"
   ]
  },
  {
   "cell_type": "code",
   "execution_count": 22,
   "metadata": {},
   "outputs": [
    {
     "name": "stdout",
     "output_type": "stream",
     "text": [
      "Score: 0.873030321183278\n",
      "Mean Absolute Error: 0.22084375141349416\n",
      "Mean Squared Error: 0.13628205029754786\n",
      "Root Mean Squared Error: 0.3691639883541566\n"
     ]
    }
   ],
   "source": [
    "#avaliação da qualidade do modelo RFR apenas nas colunas indicadas no yellowbrick\n",
    "score = RFR_parcial.score(df_notasRFRtest, y_test_std)\n",
    "print('Score:', score)\n",
    "print('Mean Absolute Error:', metrics.mean_absolute_error(y_test_std, y_pred)) #próx de 0, melhor\n",
    "print('Mean Squared Error:', metrics.mean_squared_error(y_test_std, y_pred))\n",
    "print('Root Mean Squared Error:', np.sqrt(metrics.mean_squared_error(y_test_std, y_pred))) #medida de dispersão"
   ]
  },
  {
   "cell_type": "markdown",
   "metadata": {},
   "source": [
    "### Teste com Random Forest Regressor com a tabela toda"
   ]
  },
  {
   "cell_type": "code",
   "execution_count": 23,
   "metadata": {},
   "outputs": [
    {
     "name": "stderr",
     "output_type": "stream",
     "text": [
      "<ipython-input-23-96d76aba9af0>:4: DataConversionWarning: A column-vector y was passed when a 1d array was expected. Please change the shape of y to (n_samples,), for example using ravel().\n",
      "  RFR_completa.fit(X_train_std, y_train_std)\n"
     ]
    }
   ],
   "source": [
    "#Aplicação do RFR\n",
    "# Fit regression model\n",
    "RFR_completa = RandomForestRegressor(max_depth=5)\n",
    "RFR_completa.fit(X_train_std, y_train_std)\n",
    "\n",
    "# Predict\n",
    "y_pred = RFR_completa.predict(X_test_std)"
   ]
  },
  {
   "cell_type": "code",
   "execution_count": 25,
   "metadata": {},
   "outputs": [
    {
     "data": {
      "image/png": "[encoded data removed]",
      "text/plain": [
       "<Figure size 576x396 with 6 Axes>"
      ]
     },
     "metadata": {},
     "output_type": "display_data"
    }
   ],
   "source": [
    "# Cria gráficos que demonstram as posições dos dados usando as variáveis indicadas no Yellowbrick, em uma matriz (2,2)\n",
    "# acrescido do plot da predição\n",
    "fig, ax = plt.subplots(2, 3)\n",
    "ax[0,0].scatter(df_notasTEST.iloc[:,2],y_test_std);\n",
    "ax[0,0].scatter(df_notasTEST.iloc[:,2],y_pred,color='red');\n",
    "ax[0,0].set_xlabel('age');\n",
    "ax[0,0].set_ylabel('G3');\n",
    "\n",
    "ax[0,1].scatter(df_notasTEST.iloc[:,10],y_test_std);\n",
    "ax[0,1].scatter(df_notasTEST.iloc[:,10],y_pred,color='red');\n",
    "ax[0,1].set_xlabel('reason');\n",
    "ax[0,1].set_ylabel('G3');\n",
    "\n",
    "ax[0,2].scatter(df_notasTEST.iloc[:,23],y_test_std);\n",
    "ax[0,2].scatter(df_notasTEST.iloc[:,23],y_pred,color='red');\n",
    "ax[0,2].set_xlabel('famrel');\n",
    "ax[0,2].set_ylabel('G3');\n",
    "\n",
    "ax[1,0].scatter(df_notasTEST.iloc[:,29],y_test_std);\n",
    "ax[1,0].scatter(df_notasTEST.iloc[:,29],y_pred,color='red');\n",
    "ax[1,0].set_xlabel('absences');\n",
    "ax[1,0].set_ylabel('G3');\n",
    "\n",
    "ax[1,1].scatter(df_notasTEST.iloc[:,31],y_test_std);\n",
    "ax[1,1].scatter(df_notasTEST.iloc[:,31],y_pred,color='red');\n",
    "ax[1,1].set_xlabel('G2');\n",
    "ax[1,1].set_ylabel('G3');\n",
    "\n",
    "plt.tight_layout();"
   ]
  },
  {
   "cell_type": "code",
   "execution_count": 26,
   "metadata": {},
   "outputs": [
    {
     "name": "stdout",
     "output_type": "stream",
     "text": [
      "Score: 0.8698389586406976\n",
      "Mean Absolute Error: 0.2261099392786363\n",
      "Mean Squared Error: 0.13970747780590156\n",
      "Root Mean Squared Error: 0.3737746350488507\n"
     ]
    }
   ],
   "source": [
    "#avaliação da qualidade do modelo RFR apenas nas colunas indicadas no yellowbrick\n",
    "score = RFR_completa.score(X_test_std, y_test_std)\n",
    "print('Score:', score)\n",
    "print('Mean Absolute Error:', metrics.mean_absolute_error(y_test_std, y_pred)) #próx de 0, melhor\n",
    "print('Mean Squared Error:', metrics.mean_squared_error(y_test_std, y_pred))\n",
    "print('Root Mean Squared Error:', np.sqrt(metrics.mean_squared_error(y_test_std, y_pred))) #medida de dispersão"
   ]
  },
  {
   "cell_type": "markdown",
   "metadata": {},
   "source": [
    "# Conclusões?"
   ]
  },
  {
   "cell_type": "markdown",
   "metadata": {},
   "source": [
    "Comparação dos testes:\n",
    "\n",
    "##### Teste RFR apenas com colunas Yellowbrick\n",
    "Score: 0.873030321183278 \\\n",
    "Mean Absolute Error: 0.22084375141349416 \\\n",
    "Mean Squared Error: 0.13628205029754786 \\\n",
    "Root Mean Squared Error: 0.3691639883541566\n",
    "\n",
    "##### Teste RFR com planilha completa\n",
    "Score: 0.8698389586406976 \\\n",
    "Mean Absolute Error: 0.2261099392786363 \\\n",
    "Mean Squared Error: 0.13970747780590156 \\\n",
    "Root Mean Squared Error: 0.3737746350488507\n",
    "\n",
    "##### Teste Elastic Net apenas com colunas Yellowbrick\n",
    "Score: 0.8027525371495177 \\\n",
    "Mean Absolute Error: 0.27586846100386886 \\\n",
    "Mean Squared Error: 0.21171423684591412 \\\n",
    "Root Mean Squared Error: 0.4601241537301798 \\\n",
    "\n",
    "##### Teste Elastic Net com planilha completa\n",
    "Score: 0.794777899003827 \\\n",
    "Mean Absolute Error: 0.30925496208908265 \\\n",
    "Mean Squared Error: 0.22027376103313767 \\\n",
    "Root Mean Squared Error: 0.4693333154945829 \\"
   ]
  }
 ],
 "metadata": {
  "kernelspec": {
   "display_name": "Python 3",
   "language": "python",
   "name": "python3"
  },
  "language_info": {
   "codemirror_mode": {
    "name": "ipython",
    "version": 3
   },
   "file_extension": ".py",
   "mimetype": "text/x-python",
   "name": "python",
   "nbconvert_exporter": "python",
   "pygments_lexer": "ipython3",
   "version": "3.8.8"
  }
 },
 "nbformat": 4,
 "nbformat_minor": 4
}
