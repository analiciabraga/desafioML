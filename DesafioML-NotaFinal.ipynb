{
 "cells": [
  {
   "cell_type": "markdown",
   "metadata": {},
   "source": [
    "# Prevendo a nota final dos alunos da Escola Todos Unidos"
   ]
  },
  {
   "cell_type": "code",
   "execution_count": null,
   "metadata": {},
   "outputs": [],
   "source": [
    "pip install yellowbrick"
   ]
  },
  {
   "cell_type": "code",
   "execution_count": 1,
   "metadata": {},
   "outputs": [],
   "source": [
    "#Importações de bibliotecas\n",
    "import pandas as pd\n",
    "import numpy as np\n",
    "import matplotlib.pyplot as plt\n",
    "#Importação de funções das bibliotecas\n",
    "from matplotlib.font_manager import FontProperties\n",
    "from sklearn.preprocessing import LabelEncoder\n",
    "from sklearn.preprocessing import OrdinalEncoder\n",
    "from sklearn.preprocessing import StandardScaler\n",
    "from sklearn.preprocessing import Normalizer\n",
    "from sklearn.model_selection import cross_val_score\n",
    "from sklearn.tree import DecisionTreeRegressor\n",
    "from yellowbrick.model_selection import RFECV\n",
    "from sklearn.model_selection import StratifiedKFold\n",
    "from sklearn.ensemble import RandomForestClassifier\n",
    "from sklearn.ensemble import RandomForestRegressor\n",
    "from sklearn import metrics\n",
    "from sklearn.model_selection import train_test_split\n",
    "from sklearn.linear_model import ElasticNet"
   ]
  },
  {
   "cell_type": "code",
   "execution_count": 2,
   "metadata": {},
   "outputs": [
    {
     "data": {
      "text/plain": [
       "(395, 33)"
      ]
     },
     "execution_count": 2,
     "metadata": {},
     "output_type": "execute_result"
    }
   ],
   "source": [
    "df_notas = pd.read_csv('student-mat.csv')\n",
    "df_notas.shape"
   ]
  },
  {
   "cell_type": "code",
   "execution_count": 3,
   "metadata": {},
   "outputs": [],
   "source": [
    "#Verificação de dados faltantes\n",
    "def missing_values_table(df):\n",
    "        mis_val = df.isnull().sum() # conta a quantidade de missing\n",
    "        mis_val_percent = 100 * df.isnull().sum() / len(df) # calcula a porcentagem\n",
    "        mis_val_table = pd.concat([mis_val, mis_val_percent], axis=1) # cria uma tabela\n",
    "        mis_val_table_ren_columns = mis_val_table.rename(\n",
    "        columns = {0 : 'Valores faltantes', 1 : '% do total'}) # renomeia as colunas\n",
    "        mis_val_table_ren_columns = mis_val_table_ren_columns[\n",
    "            mis_val_table_ren_columns.iloc[:,1] != 0].sort_values(\n",
    "        '% do total', ascending=False).round(1) # ordena os valores\n",
    "        print (\"Você selecionou um dataframe que tem \" + str(df.shape[1]) + \" colunas.\\n\"      \n",
    "            \"E há \" + str(mis_val_table_ren_columns.shape[0]) +\n",
    "              \" colunas com valores faltantes\")\n",
    "        return mis_val_table_ren_columns"
   ]
  },
  {
   "cell_type": "code",
   "execution_count": 4,
   "metadata": {},
   "outputs": [
    {
     "name": "stdout",
     "output_type": "stream",
     "text": [
      "Você selecionou um dataframe que tem 33 colunas.\n",
      "E há 0 colunas com valores faltantes\n"
     ]
    },
    {
     "data": {
      "text/html": [
       "<div>\n",
       "<style scoped>\n",
       "    .dataframe tbody tr th:only-of-type {\n",
       "        vertical-align: middle;\n",
       "    }\n",
       "\n",
       "    .dataframe tbody tr th {\n",
       "        vertical-align: top;\n",
       "    }\n",
       "\n",
       "    .dataframe thead th {\n",
       "        text-align: right;\n",
       "    }\n",
       "</style>\n",
       "<table border=\"1\" class=\"dataframe\">\n",
       "  <thead>\n",
       "    <tr style=\"text-align: right;\">\n",
       "      <th></th>\n",
       "      <th>Valores faltantes</th>\n",
       "      <th>% do total</th>\n",
       "    </tr>\n",
       "  </thead>\n",
       "  <tbody>\n",
       "  </tbody>\n",
       "</table>\n",
       "</div>"
      ],
      "text/plain": [
       "Empty DataFrame\n",
       "Columns: [Valores faltantes, % do total]\n",
       "Index: []"
      ]
     },
     "execution_count": 4,
     "metadata": {},
     "output_type": "execute_result"
    }
   ],
   "source": [
    "missing_df = missing_values_table(df_notas)\n",
    "missing_df.tail()"
   ]
  },
  {
   "cell_type": "markdown",
   "metadata": {},
   "source": [
    "## Preparação da planilha"
   ]
  },
  {
   "cell_type": "markdown",
   "metadata": {},
   "source": [
    "### TRATANDO DADOS CATEGÓRICOS: Transformar variáveis categóricas em numéricas\n",
    "Para análise comparativa das variáveis, precisamos que todas fiquem numéricas"
   ]
  },
  {
   "cell_type": "code",
   "execution_count": 5,
   "metadata": {},
   "outputs": [],
   "source": [
    "#categorias com strings\n",
    "categoricas = ['school',\\\n",
    "               'sex',\\\n",
    "              'address',\\\n",
    "              'famsize',\\\n",
    "               'Pstatus',\\\n",
    "               'Mjob',\\\n",
    "               'Fjob',\\\n",
    "               'reason',\\\n",
    "               'guardian',\\\n",
    "               'schoolsup',\\\n",
    "               'famsup',\\\n",
    "               'paid',\\\n",
    "               'activities',\\\n",
    "               'nursery',\\\n",
    "               'higher',\\\n",
    "               'internet',\\\n",
    "               'romantic',\n",
    "                ]"
   ]
  },
  {
   "cell_type": "code",
   "execution_count": 6,
   "metadata": {},
   "outputs": [
    {
     "data": {
      "text/html": [
       "<div>\n",
       "<style scoped>\n",
       "    .dataframe tbody tr th:only-of-type {\n",
       "        vertical-align: middle;\n",
       "    }\n",
       "\n",
       "    .dataframe tbody tr th {\n",
       "        vertical-align: top;\n",
       "    }\n",
       "\n",
       "    .dataframe thead th {\n",
       "        text-align: right;\n",
       "    }\n",
       "</style>\n",
       "<table border=\"1\" class=\"dataframe\">\n",
       "  <thead>\n",
       "    <tr style=\"text-align: right;\">\n",
       "      <th></th>\n",
       "      <th>school</th>\n",
       "      <th>sex</th>\n",
       "      <th>address</th>\n",
       "      <th>famsize</th>\n",
       "      <th>Pstatus</th>\n",
       "      <th>Mjob</th>\n",
       "      <th>Fjob</th>\n",
       "      <th>reason</th>\n",
       "      <th>guardian</th>\n",
       "      <th>schoolsup</th>\n",
       "      <th>famsup</th>\n",
       "      <th>paid</th>\n",
       "      <th>activities</th>\n",
       "      <th>nursery</th>\n",
       "      <th>higher</th>\n",
       "      <th>internet</th>\n",
       "      <th>romantic</th>\n",
       "    </tr>\n",
       "  </thead>\n",
       "  <tbody>\n",
       "    <tr>\n",
       "      <th>0</th>\n",
       "      <td>0</td>\n",
       "      <td>0</td>\n",
       "      <td>1</td>\n",
       "      <td>0</td>\n",
       "      <td>0</td>\n",
       "      <td>0</td>\n",
       "      <td>4</td>\n",
       "      <td>0</td>\n",
       "      <td>1</td>\n",
       "      <td>1</td>\n",
       "      <td>0</td>\n",
       "      <td>0</td>\n",
       "      <td>0</td>\n",
       "      <td>1</td>\n",
       "      <td>1</td>\n",
       "      <td>0</td>\n",
       "      <td>0</td>\n",
       "    </tr>\n",
       "    <tr>\n",
       "      <th>1</th>\n",
       "      <td>0</td>\n",
       "      <td>0</td>\n",
       "      <td>1</td>\n",
       "      <td>0</td>\n",
       "      <td>1</td>\n",
       "      <td>0</td>\n",
       "      <td>2</td>\n",
       "      <td>0</td>\n",
       "      <td>0</td>\n",
       "      <td>0</td>\n",
       "      <td>1</td>\n",
       "      <td>0</td>\n",
       "      <td>0</td>\n",
       "      <td>0</td>\n",
       "      <td>1</td>\n",
       "      <td>1</td>\n",
       "      <td>0</td>\n",
       "    </tr>\n",
       "    <tr>\n",
       "      <th>2</th>\n",
       "      <td>0</td>\n",
       "      <td>0</td>\n",
       "      <td>1</td>\n",
       "      <td>1</td>\n",
       "      <td>1</td>\n",
       "      <td>0</td>\n",
       "      <td>2</td>\n",
       "      <td>2</td>\n",
       "      <td>1</td>\n",
       "      <td>1</td>\n",
       "      <td>0</td>\n",
       "      <td>1</td>\n",
       "      <td>0</td>\n",
       "      <td>1</td>\n",
       "      <td>1</td>\n",
       "      <td>1</td>\n",
       "      <td>0</td>\n",
       "    </tr>\n",
       "    <tr>\n",
       "      <th>3</th>\n",
       "      <td>0</td>\n",
       "      <td>0</td>\n",
       "      <td>1</td>\n",
       "      <td>0</td>\n",
       "      <td>1</td>\n",
       "      <td>1</td>\n",
       "      <td>3</td>\n",
       "      <td>1</td>\n",
       "      <td>1</td>\n",
       "      <td>0</td>\n",
       "      <td>1</td>\n",
       "      <td>1</td>\n",
       "      <td>1</td>\n",
       "      <td>1</td>\n",
       "      <td>1</td>\n",
       "      <td>1</td>\n",
       "      <td>1</td>\n",
       "    </tr>\n",
       "    <tr>\n",
       "      <th>4</th>\n",
       "      <td>0</td>\n",
       "      <td>0</td>\n",
       "      <td>1</td>\n",
       "      <td>0</td>\n",
       "      <td>1</td>\n",
       "      <td>2</td>\n",
       "      <td>2</td>\n",
       "      <td>1</td>\n",
       "      <td>0</td>\n",
       "      <td>0</td>\n",
       "      <td>1</td>\n",
       "      <td>1</td>\n",
       "      <td>0</td>\n",
       "      <td>1</td>\n",
       "      <td>1</td>\n",
       "      <td>0</td>\n",
       "      <td>0</td>\n",
       "    </tr>\n",
       "  </tbody>\n",
       "</table>\n",
       "</div>"
      ],
      "text/plain": [
       "   school  sex  address  famsize  Pstatus  Mjob  Fjob  reason  guardian  \\\n",
       "0       0    0        1        0        0     0     4       0         1   \n",
       "1       0    0        1        0        1     0     2       0         0   \n",
       "2       0    0        1        1        1     0     2       2         1   \n",
       "3       0    0        1        0        1     1     3       1         1   \n",
       "4       0    0        1        0        1     2     2       1         0   \n",
       "\n",
       "   schoolsup  famsup  paid  activities  nursery  higher  internet  romantic  \n",
       "0          1       0     0           0        1       1         0         0  \n",
       "1          0       1     0           0        0       1         1         0  \n",
       "2          1       0     1           0        1       1         1         0  \n",
       "3          0       1     1           1        1       1         1         1  \n",
       "4          0       1     1           0        1       1         0         0  "
      ]
     },
     "execution_count": 6,
     "metadata": {},
     "output_type": "execute_result"
    }
   ],
   "source": [
    "# Escolher o melhor método (um ficará comentado)\n",
    "le = LabelEncoder()\n",
    "# apply le on categorical feature columns\n",
    "df_notas[categoricas] = df_notas[categoricas].apply(lambda col: le.fit_transform(col))\n",
    "df_notas[categoricas].head( )"
   ]
  },
  {
   "cell_type": "code",
   "execution_count": null,
   "metadata": {},
   "outputs": [],
   "source": [
    "#oe = OrdinalEncoder()\n",
    "#categorical = df_notas[categoricas]\n",
    "#oe.fit(categorical)\n",
    "#numerical = oe.transform(categorical)\n",
    "\n",
    "#for n, feat in enumerate(categoricas):\n",
    "#    df_notas[feat] = numerical[:, n]\n",
    "#df_notas.head( )"
   ]
  },
  {
   "cell_type": "markdown",
   "metadata": {},
   "source": [
    "### Normalização dos dados\n",
    "A normalização dos dados coloca-os na mesma ordem de grandeza"
   ]
  },
  {
   "cell_type": "code",
   "execution_count": 7,
   "metadata": {},
   "outputs": [
    {
     "data": {
      "text/html": [
       "<div>\n",
       "<style scoped>\n",
       "    .dataframe tbody tr th:only-of-type {\n",
       "        vertical-align: middle;\n",
       "    }\n",
       "\n",
       "    .dataframe tbody tr th {\n",
       "        vertical-align: top;\n",
       "    }\n",
       "\n",
       "    .dataframe thead th {\n",
       "        text-align: right;\n",
       "    }\n",
       "</style>\n",
       "<table border=\"1\" class=\"dataframe\">\n",
       "  <thead>\n",
       "    <tr style=\"text-align: right;\">\n",
       "      <th></th>\n",
       "      <th>school</th>\n",
       "      <th>sex</th>\n",
       "      <th>age</th>\n",
       "      <th>address</th>\n",
       "      <th>famsize</th>\n",
       "      <th>Pstatus</th>\n",
       "      <th>Medu</th>\n",
       "      <th>Fedu</th>\n",
       "      <th>Mjob</th>\n",
       "      <th>Fjob</th>\n",
       "      <th>...</th>\n",
       "      <th>famrel</th>\n",
       "      <th>freetime</th>\n",
       "      <th>goout</th>\n",
       "      <th>Dalc</th>\n",
       "      <th>Walc</th>\n",
       "      <th>health</th>\n",
       "      <th>absences</th>\n",
       "      <th>G1</th>\n",
       "      <th>G2</th>\n",
       "      <th>G3</th>\n",
       "    </tr>\n",
       "  </thead>\n",
       "  <tbody>\n",
       "    <tr>\n",
       "      <th>0</th>\n",
       "      <td>-0.36305</td>\n",
       "      <td>-0.948176</td>\n",
       "      <td>1.023046</td>\n",
       "      <td>0.535392</td>\n",
       "      <td>-0.636941</td>\n",
       "      <td>-2.938392</td>\n",
       "      <td>1.143856</td>\n",
       "      <td>1.360371</td>\n",
       "      <td>-1.769793</td>\n",
       "      <td>1.993149</td>\n",
       "      <td>...</td>\n",
       "      <td>0.062194</td>\n",
       "      <td>-0.236010</td>\n",
       "      <td>0.801479</td>\n",
       "      <td>-0.540699</td>\n",
       "      <td>-1.003789</td>\n",
       "      <td>-0.399289</td>\n",
       "      <td>0.036424</td>\n",
       "      <td>-1.782467</td>\n",
       "      <td>-1.254791</td>\n",
       "      <td>-0.964934</td>\n",
       "    </tr>\n",
       "    <tr>\n",
       "      <th>1</th>\n",
       "      <td>-0.36305</td>\n",
       "      <td>-0.948176</td>\n",
       "      <td>0.238380</td>\n",
       "      <td>0.535392</td>\n",
       "      <td>-0.636941</td>\n",
       "      <td>0.340322</td>\n",
       "      <td>-1.600009</td>\n",
       "      <td>-1.399970</td>\n",
       "      <td>-1.769793</td>\n",
       "      <td>-0.325831</td>\n",
       "      <td>...</td>\n",
       "      <td>1.178860</td>\n",
       "      <td>-0.236010</td>\n",
       "      <td>-0.097908</td>\n",
       "      <td>-0.540699</td>\n",
       "      <td>-1.003789</td>\n",
       "      <td>-0.399289</td>\n",
       "      <td>-0.213796</td>\n",
       "      <td>-1.782467</td>\n",
       "      <td>-1.520979</td>\n",
       "      <td>-0.964934</td>\n",
       "    </tr>\n",
       "    <tr>\n",
       "      <th>2</th>\n",
       "      <td>-0.36305</td>\n",
       "      <td>-0.948176</td>\n",
       "      <td>-1.330954</td>\n",
       "      <td>0.535392</td>\n",
       "      <td>1.570004</td>\n",
       "      <td>0.340322</td>\n",
       "      <td>-1.600009</td>\n",
       "      <td>-1.399970</td>\n",
       "      <td>-1.769793</td>\n",
       "      <td>-0.325831</td>\n",
       "      <td>...</td>\n",
       "      <td>0.062194</td>\n",
       "      <td>-0.236010</td>\n",
       "      <td>-0.997295</td>\n",
       "      <td>0.583385</td>\n",
       "      <td>0.551100</td>\n",
       "      <td>-0.399289</td>\n",
       "      <td>0.536865</td>\n",
       "      <td>-1.179147</td>\n",
       "      <td>-0.722415</td>\n",
       "      <td>-0.090739</td>\n",
       "    </tr>\n",
       "    <tr>\n",
       "      <th>3</th>\n",
       "      <td>-0.36305</td>\n",
       "      <td>-0.948176</td>\n",
       "      <td>-1.330954</td>\n",
       "      <td>0.535392</td>\n",
       "      <td>-0.636941</td>\n",
       "      <td>0.340322</td>\n",
       "      <td>1.143856</td>\n",
       "      <td>-0.479857</td>\n",
       "      <td>-0.954077</td>\n",
       "      <td>0.833659</td>\n",
       "      <td>...</td>\n",
       "      <td>-1.054472</td>\n",
       "      <td>-1.238419</td>\n",
       "      <td>-0.997295</td>\n",
       "      <td>-0.540699</td>\n",
       "      <td>-1.003789</td>\n",
       "      <td>1.041070</td>\n",
       "      <td>-0.464016</td>\n",
       "      <td>1.234133</td>\n",
       "      <td>0.874715</td>\n",
       "      <td>1.002004</td>\n",
       "    </tr>\n",
       "    <tr>\n",
       "      <th>4</th>\n",
       "      <td>-0.36305</td>\n",
       "      <td>-0.948176</td>\n",
       "      <td>-0.546287</td>\n",
       "      <td>0.535392</td>\n",
       "      <td>-0.636941</td>\n",
       "      <td>0.340322</td>\n",
       "      <td>0.229234</td>\n",
       "      <td>0.440257</td>\n",
       "      <td>-0.138362</td>\n",
       "      <td>-0.325831</td>\n",
       "      <td>...</td>\n",
       "      <td>0.062194</td>\n",
       "      <td>-0.236010</td>\n",
       "      <td>-0.997295</td>\n",
       "      <td>-0.540699</td>\n",
       "      <td>-0.226345</td>\n",
       "      <td>1.041070</td>\n",
       "      <td>-0.213796</td>\n",
       "      <td>-1.480807</td>\n",
       "      <td>-0.190038</td>\n",
       "      <td>-0.090739</td>\n",
       "    </tr>\n",
       "  </tbody>\n",
       "</table>\n",
       "<p>5 rows × 33 columns</p>\n",
       "</div>"
      ],
      "text/plain": [
       "    school       sex       age   address   famsize   Pstatus      Medu  \\\n",
       "0 -0.36305 -0.948176  1.023046  0.535392 -0.636941 -2.938392  1.143856   \n",
       "1 -0.36305 -0.948176  0.238380  0.535392 -0.636941  0.340322 -1.600009   \n",
       "2 -0.36305 -0.948176 -1.330954  0.535392  1.570004  0.340322 -1.600009   \n",
       "3 -0.36305 -0.948176 -1.330954  0.535392 -0.636941  0.340322  1.143856   \n",
       "4 -0.36305 -0.948176 -0.546287  0.535392 -0.636941  0.340322  0.229234   \n",
       "\n",
       "       Fedu      Mjob      Fjob  ...    famrel  freetime     goout      Dalc  \\\n",
       "0  1.360371 -1.769793  1.993149  ...  0.062194 -0.236010  0.801479 -0.540699   \n",
       "1 -1.399970 -1.769793 -0.325831  ...  1.178860 -0.236010 -0.097908 -0.540699   \n",
       "2 -1.399970 -1.769793 -0.325831  ...  0.062194 -0.236010 -0.997295  0.583385   \n",
       "3 -0.479857 -0.954077  0.833659  ... -1.054472 -1.238419 -0.997295 -0.540699   \n",
       "4  0.440257 -0.138362 -0.325831  ...  0.062194 -0.236010 -0.997295 -0.540699   \n",
       "\n",
       "       Walc    health  absences        G1        G2        G3  \n",
       "0 -1.003789 -0.399289  0.036424 -1.782467 -1.254791 -0.964934  \n",
       "1 -1.003789 -0.399289 -0.213796 -1.782467 -1.520979 -0.964934  \n",
       "2  0.551100 -0.399289  0.536865 -1.179147 -0.722415 -0.090739  \n",
       "3 -1.003789  1.041070 -0.464016  1.234133  0.874715  1.002004  \n",
       "4 -0.226345  1.041070 -0.213796 -1.480807 -0.190038 -0.090739  \n",
       "\n",
       "[5 rows x 33 columns]"
      ]
     },
     "execution_count": 7,
     "metadata": {},
     "output_type": "execute_result"
    }
   ],
   "source": [
    "#Este processo PADRONIZA as variáveis\n",
    "escala = StandardScaler().fit(df_notas)\n",
    "df_notasN = escala.transform(df_notas)\n",
    "df_notas = pd.DataFrame(StandardScaler().fit_transform(df_notasN), columns=df_notas.columns, index=df_notas.index)\n",
    "df_notas.head( )"
   ]
  },
  {
   "cell_type": "code",
   "execution_count": null,
   "metadata": {},
   "outputs": [],
   "source": [
    "#Este processo NORMALIZA as variáveis - ESCOLHER APENAS UM PROCESSO\n",
    "#escala = Normalizer().fit(df_notas)\n",
    "#df_notasN = escala.transform(df_notas)\n",
    "#df_notas = pd.DataFrame(Normalizer().fit_transform(df_notasN), columns=df_notas.columns, index=df_notas.index)"
   ]
  },
  {
   "cell_type": "markdown",
   "metadata": {},
   "source": [
    "### Construindo gráficos de demonstração de importância das variáveis"
   ]
  },
  {
   "cell_type": "code",
   "execution_count": 8,
   "metadata": {},
   "outputs": [
    {
     "name": "stdout",
     "output_type": "stream",
     "text": [
      "(395, 32)\n",
      "(395,)\n"
     ]
    }
   ],
   "source": [
    "X = df_notas.drop('G3', axis=1)\n",
    "y = df_notas['G3']\n",
    "print(X.shape)\n",
    "print(y.shape)"
   ]
  },
  {
   "cell_type": "markdown",
   "metadata": {},
   "source": [
    "## Dados preparados para escolha do tipo de algoritmo\n",
    "O algoritmo escolhido após vários testes foi o ELastic Net"
   ]
  },
  {
   "cell_type": "markdown",
   "metadata": {},
   "source": [
    "### Gráficos Yellowbrick"
   ]
  },
  {
   "cell_type": "code",
   "execution_count": 9,
   "metadata": {},
   "outputs": [
    {
     "data": {
      "image/png": "[encoded data removed]",
      "text/plain": [
       "<Figure size 576x396 with 1 Axes>"
      ]
     },
     "metadata": {},
     "output_type": "display_data"
    },
    {
     "data": {
      "text/plain": [
       "<AxesSubplot:title={'center':'RFECV for RandomForestRegressor'}, xlabel='Number of Features Selected', ylabel='Score'>"
      ]
     },
     "execution_count": 9,
     "metadata": {},
     "output_type": "execute_result"
    }
   ],
   "source": [
    "#Gera um gráfico com a melhor quantidade de variáveis a ser considerada e quais são elas\n",
    "#cv = StratifiedKFold(5) - LINHA COMENTADA PQ O CROSSVALIDATION ESTAVA DANDO ERRO DE VARIÁVEL TIPO CONTINUOUS\n",
    "visualizer = RFECV(RandomForestRegressor(), cv=5, scoring='r2')\n",
    "visualizer.fit(X, y)\n",
    "visualizer.show()"
   ]
  },
  {
   "cell_type": "code",
   "execution_count": 10,
   "metadata": {},
   "outputs": [
    {
     "data": {
      "text/plain": [
       "Index(['age', 'Mjob', 'reason', 'studytime', 'famrel', 'health', 'absences',\n",
       "       'G1', 'G2'],\n",
       "      dtype='object')"
      ]
     },
     "execution_count": 10,
     "metadata": {},
     "output_type": "execute_result"
    }
   ],
   "source": [
    "X.loc[:, X.columns != 'IN_TREINEIRO'].columns[visualizer.support_] #pegar as colunas que ele retornou como importante"
   ]
  },
  {
   "cell_type": "markdown",
   "metadata": {},
   "source": [
    "### Depois de aplicar o Yellowbrick"
   ]
  },
  {
   "cell_type": "code",
   "execution_count": 11,
   "metadata": {},
   "outputs": [],
   "source": [
    "#Cria planilha nova APENAS COM as features que o Yellowbrick considerou IMPORTANTES (drop nas demais)\n",
    "#df_notas3 = df_notas.drop(['school', 'sex', 'address', 'famsize', 'Pstatus', 'guardian', 'schoolsup', 'famsup', 'paid', \n",
    "#                           'nursery', 'higher', 'internet', 'romantic', 'Dalc', 'G3'], axis=1)\n",
    "df_notas3 = df_notas.loc[:, ['age', 'Mjob', 'reason', 'studytime', 'famrel', 'health', 'absences',\n",
    "       'G1', 'G2']]"
   ]
  },
  {
   "cell_type": "markdown",
   "metadata": {},
   "source": [
    "### Plot das variáveis indicadas no Yellowbrick"
   ]
  },
  {
   "cell_type": "code",
   "execution_count": 12,
   "metadata": {},
   "outputs": [
    {
     "data": {
      "image/png": "[encoded data removed]",
      "text/plain": [
       "<Figure size 576x396 with 9 Axes>"
      ]
     },
     "metadata": {},
     "output_type": "display_data"
    }
   ],
   "source": [
    "# Cria gráficos que demonstram as posições dos dados usando as variáveis indicadas no Yellowbrick, em uma matriz (3,3)\n",
    "fig, ax = plt.subplots(3, 3)\n",
    "ax[0,0].scatter(X.iloc[:,2],y);\n",
    "ax[0,0].set_xlabel('age');\n",
    "ax[0,0].set_ylabel('G3');\n",
    "\n",
    "ax[0,1].scatter(X.iloc[:,8],y);\n",
    "ax[0,1].set_xlabel('Mjob');\n",
    "ax[0,1].set_ylabel('G3');\n",
    "\n",
    "ax[0,2].scatter(X.iloc[:,10],y);\n",
    "ax[0,2].set_xlabel('reason');\n",
    "ax[0,2].set_ylabel('G3');\n",
    "\n",
    "ax[1,0].scatter(X.iloc[:,13],y);\n",
    "ax[1,0].set_xlabel('studytime');\n",
    "ax[1,0].set_ylabel('G3');\n",
    "\n",
    "ax[1,1].scatter(X.iloc[:,23],y);\n",
    "ax[1,1].set_xlabel('famrel');\n",
    "ax[1,1].set_ylabel('G3');\n",
    "\n",
    "ax[1,2].scatter(X.iloc[:,28],y);\n",
    "ax[1,2].set_xlabel('health');\n",
    "ax[1,2].set_ylabel('G3');\n",
    "\n",
    "ax[2,0].scatter(X.iloc[:,29],y);\n",
    "ax[2,0].set_xlabel('absences');\n",
    "ax[2,0].set_ylabel('G3');\n",
    "\n",
    "ax[2,1].scatter(X.iloc[:,30],y);\n",
    "ax[2,1].set_xlabel('G1');\n",
    "ax[2,1].set_ylabel('G3');\n",
    "\n",
    "ax[2,2].scatter(X.iloc[:,31],y);\n",
    "ax[2,2].set_xlabel('G2');\n",
    "ax[2,2].set_ylabel('G3');\n",
    "\n",
    "plt.tight_layout();"
   ]
  },
  {
   "cell_type": "markdown",
   "metadata": {},
   "source": [
    "# Regressor ElasticNet\n",
    "De acordo com https://medium.com/turing-talks/turing-talks-20-regressão-de-ridge-e-lasso-a0fc467b5629 esse método pode ser melhor para o tipo de problema sugerido"
   ]
  },
  {
   "cell_type": "code",
   "execution_count": 13,
   "metadata": {},
   "outputs": [],
   "source": [
    "from sklearn.linear_model import ElasticNet"
   ]
  },
  {
   "cell_type": "markdown",
   "metadata": {},
   "source": [
    "### Teste com planilha completa"
   ]
  },
  {
   "cell_type": "code",
   "execution_count": 14,
   "metadata": {},
   "outputs": [],
   "source": [
    "X = df_notas.drop('G3', axis=1)\n",
    "y = df_notas['G3']\n",
    "\n",
    "#Divide as variáveis em treino e teste\n",
    "X_train, X_test, y_train, y_test = train_test_split(X, y, test_size=0.3, random_state=42)\n",
    "\n",
    "alphas = [0.0001,0.001, 0.01, 0.1, 0.5, 1]\n",
    "l1s = [0.1,0.2,0.3,0.4,0.5,0.6,0.7,0.8,0.9]\n",
    "score = []"
   ]
  },
  {
   "cell_type": "code",
   "execution_count": 15,
   "metadata": {},
   "outputs": [
    {
     "name": "stdout",
     "output_type": "stream",
     "text": [
      "alpha =  0.0001  l1_ratio =  0.1  Score =  0.8606895672202296\n",
      "alpha =  0.0001  l1_ratio =  0.2  Score =  0.8606895548806817\n",
      "alpha =  0.0001  l1_ratio =  0.3  Score =  0.8606895334120126\n",
      "alpha =  0.0001  l1_ratio =  0.4  Score =  0.8606895027638097\n",
      "alpha =  0.0001  l1_ratio =  0.5  Score =  0.8606894631438942\n",
      "alpha =  0.0001  l1_ratio =  0.6  Score =  0.8606894148415771\n",
      "alpha =  0.0001  l1_ratio =  0.7  Score =  0.8606893562231206\n",
      "alpha =  0.0001  l1_ratio =  0.8  Score =  0.860689290654955\n",
      "alpha =  0.0001  l1_ratio =  0.9  Score =  0.860689213451511\n",
      "alpha =  0.001  l1_ratio =  0.1  Score =  0.8606876290498802\n",
      "alpha =  0.001  l1_ratio =  0.2  Score =  0.8606863933961443\n",
      "alpha =  0.001  l1_ratio =  0.3  Score =  0.8606842476407408\n",
      "alpha =  0.001  l1_ratio =  0.4  Score =  0.8606811439964501\n",
      "alpha =  0.001  l1_ratio =  0.5  Score =  0.8606770809665173\n",
      "alpha =  0.001  l1_ratio =  0.6  Score =  0.8606720570496726\n",
      "alpha =  0.001  l1_ratio =  0.7  Score =  0.8606660707405904\n",
      "alpha =  0.001  l1_ratio =  0.8  Score =  0.8606596155133245\n",
      "alpha =  0.001  l1_ratio =  0.9  Score =  0.8606522941936844\n",
      "alpha =  0.01  l1_ratio =  0.1  Score =  0.8605087305761829\n",
      "alpha =  0.01  l1_ratio =  0.2  Score =  0.8603897893647128\n",
      "alpha =  0.01  l1_ratio =  0.3  Score =  0.8601861929070983\n",
      "alpha =  0.01  l1_ratio =  0.4  Score =  0.8598957570613689\n",
      "alpha =  0.01  l1_ratio =  0.5  Score =  0.8595618426442374\n",
      "alpha =  0.01  l1_ratio =  0.6  Score =  0.8591837107414053\n",
      "alpha =  0.01  l1_ratio =  0.7  Score =  0.8587476364635604\n",
      "alpha =  0.01  l1_ratio =  0.8  Score =  0.8582701978501386\n",
      "alpha =  0.01  l1_ratio =  0.9  Score =  0.8577533164653375\n",
      "alpha =  0.1  l1_ratio =  0.1  Score =  0.8498093452856859\n",
      "alpha =  0.1  l1_ratio =  0.2  Score =  0.8444290093643639\n",
      "alpha =  0.1  l1_ratio =  0.3  Score =  0.8404048958075109\n",
      "alpha =  0.1  l1_ratio =  0.4  Score =  0.8359161404215745\n",
      "alpha =  0.1  l1_ratio =  0.5  Score =  0.8309448105484077\n",
      "alpha =  0.1  l1_ratio =  0.6  Score =  0.8264847291474532\n",
      "alpha =  0.1  l1_ratio =  0.7  Score =  0.8242875734985\n",
      "alpha =  0.1  l1_ratio =  0.8  Score =  0.8228104362178965\n",
      "alpha =  0.1  l1_ratio =  0.9  Score =  0.8212138664868568\n",
      "alpha =  0.5  l1_ratio =  0.1  Score =  0.770735950487541\n",
      "alpha =  0.5  l1_ratio =  0.2  Score =  0.7509680418166212\n",
      "alpha =  0.5  l1_ratio =  0.3  Score =  0.733335507779803\n",
      "alpha =  0.5  l1_ratio =  0.4  Score =  0.7165113413065722\n",
      "alpha =  0.5  l1_ratio =  0.5  Score =  0.6969544122915075\n",
      "alpha =  0.5  l1_ratio =  0.6  Score =  0.6742618020650153\n",
      "alpha =  0.5  l1_ratio =  0.7  Score =  0.6479646709926095\n",
      "alpha =  0.5  l1_ratio =  0.8  Score =  0.6197059052765673\n",
      "alpha =  0.5  l1_ratio =  0.9  Score =  0.5948198846389734\n",
      "alpha =  1  l1_ratio =  0.1  Score =  0.6704000730111235\n",
      "alpha =  1  l1_ratio =  0.2  Score =  0.6210346507968916\n",
      "alpha =  1  l1_ratio =  0.3  Score =  0.5689631378549287\n",
      "alpha =  1  l1_ratio =  0.4  Score =  0.505091221621853\n",
      "alpha =  1  l1_ratio =  0.5  Score =  0.4266365161716059\n",
      "alpha =  1  l1_ratio =  0.6  Score =  0.3379626508965333\n",
      "alpha =  1  l1_ratio =  0.7  Score =  0.24769573956516167\n",
      "alpha =  1  l1_ratio =  0.8  Score =  0.1324076093026859\n",
      "alpha =  1  l1_ratio =  0.9  Score =  0.0\n"
     ]
    }
   ],
   "source": [
    "#Teste com diferentes alphas e l1_ratio\n",
    "for i in range(len(alphas)):\n",
    "    for j in range(len(l1s)):\n",
    "        teste_EN = ElasticNet(alpha=alphas[i],l1_ratio=l1s[j])\n",
    "        teste_EN.fit(X_train, y_train)\n",
    "        score = teste_EN.score(X_train, y_train)\n",
    "        print(\"alpha = \",alphas[i],\" l1_ratio = \",l1s[j],\" Score = \",score)"
   ]
  },
  {
   "cell_type": "markdown",
   "metadata": {},
   "source": [
    "### Aplicando o regressor"
   ]
  },
  {
   "cell_type": "code",
   "execution_count": 16,
   "metadata": {},
   "outputs": [
    {
     "data": {
      "text/plain": [
       "ElasticNet(alpha=0.0001, l1_ratio=0.9)"
      ]
     },
     "execution_count": 16,
     "metadata": {},
     "output_type": "execute_result"
    }
   ],
   "source": [
    "# Usando os dados da linha anterior, o melhor score\n",
    "notas_final = ElasticNet(alpha=0.0001,l1_ratio=0.9)\n",
    "notas_final.fit(X_train, y_train)"
   ]
  },
  {
   "cell_type": "code",
   "execution_count": 19,
   "metadata": {},
   "outputs": [],
   "source": [
    "y_pred = notas_final.predict(X)"
   ]
  },
  {
   "cell_type": "markdown",
   "metadata": {},
   "source": [
    "### Plot dos gráficos comparativos"
   ]
  },
  {
   "cell_type": "code",
   "execution_count": 20,
   "metadata": {},
   "outputs": [
    {
     "data": {
      "image/png": "[encoded data removed]",
      "text/plain": [
       "<Figure size 576x396 with 9 Axes>"
      ]
     },
     "metadata": {},
     "output_type": "display_data"
    }
   ],
   "source": [
    "# Cria gráficos que demonstram as posições dos dados usando as variáveis indicadas no Yellowbrick, em uma matriz (3,3)\n",
    "# acrescido do plot da predição\n",
    "fig, ax = plt.subplots(3, 3)\n",
    "ax[0,0].scatter(X.iloc[:,2],y);\n",
    "ax[0,0].scatter(X.iloc[:,2],y_pred,color='red');\n",
    "ax[0,0].set_xlabel('age');\n",
    "ax[0,0].set_ylabel('G3');\n",
    "\n",
    "ax[0,1].scatter(X.iloc[:,8],y);\n",
    "ax[0,1].scatter(X.iloc[:,8],y_pred,color='red');\n",
    "ax[0,1].set_xlabel('Mjob');\n",
    "ax[0,1].set_ylabel('G3');\n",
    "\n",
    "ax[0,2].scatter(X.iloc[:,10],y);\n",
    "ax[0,2].scatter(X.iloc[:,10],y_pred,color='red');\n",
    "ax[0,2].set_xlabel('reason');\n",
    "ax[0,2].set_ylabel('G3');\n",
    "\n",
    "ax[1,0].scatter(X.iloc[:,13],y);\n",
    "ax[1,0].scatter(X.iloc[:,13],y_pred,color='red');\n",
    "ax[1,0].set_xlabel('studytime');\n",
    "ax[1,0].set_ylabel('G3');\n",
    "\n",
    "ax[1,1].scatter(X.iloc[:,23],y);\n",
    "ax[1,1].scatter(X.iloc[:,23],y_pred,color='red');\n",
    "ax[1,1].set_xlabel('famrel');\n",
    "ax[1,1].set_ylabel('G3');\n",
    "\n",
    "ax[1,2].scatter(X.iloc[:,28],y);\n",
    "ax[1,2].scatter(X.iloc[:,28],y_pred,color='red');\n",
    "ax[1,2].set_xlabel('health');\n",
    "ax[1,2].set_ylabel('G3');\n",
    "\n",
    "ax[2,0].scatter(X.iloc[:,29],y);\n",
    "ax[2,0].scatter(X.iloc[:,29],y_pred,color='red');\n",
    "ax[2,0].set_xlabel('absences');\n",
    "ax[2,0].set_ylabel('G3');\n",
    "\n",
    "ax[2,1].scatter(X.iloc[:,30],y);\n",
    "ax[2,1].scatter(X.iloc[:,30],y_pred,color='red');\n",
    "ax[2,1].set_xlabel('G1');\n",
    "ax[2,1].set_ylabel('G3');\n",
    "\n",
    "ax[2,2].scatter(X.iloc[:,31],y);\n",
    "ax[2,2].scatter(X.iloc[:,31],y_pred,color='red');\n",
    "ax[2,2].set_xlabel('G2');\n",
    "ax[2,2].set_ylabel('G3');\n",
    "\n",
    "plt.tight_layout();"
   ]
  },
  {
   "cell_type": "markdown",
   "metadata": {},
   "source": [
    "# A PARTIR DAQUI ESTÁ UMA ZONA, DESCONSIDEREM"
   ]
  },
  {
   "cell_type": "markdown",
   "metadata": {},
   "source": [
    "#### Métricas do Modelo só com as colunas indicadas no Yellowbrick como importantes "
   ]
  },
  {
   "cell_type": "code",
   "execution_count": 21,
   "metadata": {},
   "outputs": [
    {
     "name": "stdout",
     "output_type": "stream",
     "text": [
      "Score: 0.7948269374503454\n"
     ]
    },
    {
     "ename": "ValueError",
     "evalue": "Found input variables with inconsistent numbers of samples: [119, 395]",
     "output_type": "error",
     "traceback": [
      "\u001b[1;31m---------------------------------------------------------------------------\u001b[0m",
      "\u001b[1;31mValueError\u001b[0m                                Traceback (most recent call last)",
      "\u001b[1;32m<ipython-input-21-23b4714b489c>\u001b[0m in \u001b[0;36m<module>\u001b[1;34m\u001b[0m\n\u001b[0;32m      2\u001b[0m \u001b[0mscore\u001b[0m \u001b[1;33m=\u001b[0m \u001b[0mnotas_final\u001b[0m\u001b[1;33m.\u001b[0m\u001b[0mscore\u001b[0m\u001b[1;33m(\u001b[0m\u001b[0mX_test\u001b[0m\u001b[1;33m,\u001b[0m \u001b[0my_test\u001b[0m\u001b[1;33m)\u001b[0m\u001b[1;33m\u001b[0m\u001b[1;33m\u001b[0m\u001b[0m\n\u001b[0;32m      3\u001b[0m \u001b[0mprint\u001b[0m\u001b[1;33m(\u001b[0m\u001b[1;34m'Score:'\u001b[0m\u001b[1;33m,\u001b[0m \u001b[0mscore\u001b[0m\u001b[1;33m)\u001b[0m\u001b[1;33m\u001b[0m\u001b[1;33m\u001b[0m\u001b[0m\n\u001b[1;32m----> 4\u001b[1;33m \u001b[0mprint\u001b[0m\u001b[1;33m(\u001b[0m\u001b[1;34m'Mean Absolute Error:'\u001b[0m\u001b[1;33m,\u001b[0m \u001b[0mmetrics\u001b[0m\u001b[1;33m.\u001b[0m\u001b[0mmean_absolute_error\u001b[0m\u001b[1;33m(\u001b[0m\u001b[0my_test\u001b[0m\u001b[1;33m,\u001b[0m \u001b[0my_pred\u001b[0m\u001b[1;33m)\u001b[0m\u001b[1;33m)\u001b[0m \u001b[1;31m#próx de 0, melhor\u001b[0m\u001b[1;33m\u001b[0m\u001b[1;33m\u001b[0m\u001b[0m\n\u001b[0m\u001b[0;32m      5\u001b[0m \u001b[0mprint\u001b[0m\u001b[1;33m(\u001b[0m\u001b[1;34m'Mean Squared Error:'\u001b[0m\u001b[1;33m,\u001b[0m \u001b[0mmetrics\u001b[0m\u001b[1;33m.\u001b[0m\u001b[0mmean_squared_error\u001b[0m\u001b[1;33m(\u001b[0m\u001b[0my_test\u001b[0m\u001b[1;33m,\u001b[0m \u001b[0my_pred\u001b[0m\u001b[1;33m)\u001b[0m\u001b[1;33m)\u001b[0m\u001b[1;33m\u001b[0m\u001b[1;33m\u001b[0m\u001b[0m\n\u001b[0;32m      6\u001b[0m \u001b[0mprint\u001b[0m\u001b[1;33m(\u001b[0m\u001b[1;34m'Root Mean Squared Error:'\u001b[0m\u001b[1;33m,\u001b[0m \u001b[0mnp\u001b[0m\u001b[1;33m.\u001b[0m\u001b[0msqrt\u001b[0m\u001b[1;33m(\u001b[0m\u001b[0mmetrics\u001b[0m\u001b[1;33m.\u001b[0m\u001b[0mmean_squared_error\u001b[0m\u001b[1;33m(\u001b[0m\u001b[0my_test\u001b[0m\u001b[1;33m,\u001b[0m \u001b[0my_pred\u001b[0m\u001b[1;33m)\u001b[0m\u001b[1;33m)\u001b[0m\u001b[1;33m)\u001b[0m \u001b[1;31m#medida de dispersão\u001b[0m\u001b[1;33m\u001b[0m\u001b[1;33m\u001b[0m\u001b[0m\n",
      "\u001b[1;32mC:\\python\\anaconda\\lib\\site-packages\\sklearn\\utils\\validation.py\u001b[0m in \u001b[0;36minner_f\u001b[1;34m(*args, **kwargs)\u001b[0m\n\u001b[0;32m     70\u001b[0m                           FutureWarning)\n\u001b[0;32m     71\u001b[0m         \u001b[0mkwargs\u001b[0m\u001b[1;33m.\u001b[0m\u001b[0mupdate\u001b[0m\u001b[1;33m(\u001b[0m\u001b[1;33m{\u001b[0m\u001b[0mk\u001b[0m\u001b[1;33m:\u001b[0m \u001b[0marg\u001b[0m \u001b[1;32mfor\u001b[0m \u001b[0mk\u001b[0m\u001b[1;33m,\u001b[0m \u001b[0marg\u001b[0m \u001b[1;32min\u001b[0m \u001b[0mzip\u001b[0m\u001b[1;33m(\u001b[0m\u001b[0msig\u001b[0m\u001b[1;33m.\u001b[0m\u001b[0mparameters\u001b[0m\u001b[1;33m,\u001b[0m \u001b[0margs\u001b[0m\u001b[1;33m)\u001b[0m\u001b[1;33m}\u001b[0m\u001b[1;33m)\u001b[0m\u001b[1;33m\u001b[0m\u001b[1;33m\u001b[0m\u001b[0m\n\u001b[1;32m---> 72\u001b[1;33m         \u001b[1;32mreturn\u001b[0m \u001b[0mf\u001b[0m\u001b[1;33m(\u001b[0m\u001b[1;33m**\u001b[0m\u001b[0mkwargs\u001b[0m\u001b[1;33m)\u001b[0m\u001b[1;33m\u001b[0m\u001b[1;33m\u001b[0m\u001b[0m\n\u001b[0m\u001b[0;32m     73\u001b[0m     \u001b[1;32mreturn\u001b[0m \u001b[0minner_f\u001b[0m\u001b[1;33m\u001b[0m\u001b[1;33m\u001b[0m\u001b[0m\n\u001b[0;32m     74\u001b[0m \u001b[1;33m\u001b[0m\u001b[0m\n",
      "\u001b[1;32mC:\\python\\anaconda\\lib\\site-packages\\sklearn\\metrics\\_regression.py\u001b[0m in \u001b[0;36mmean_absolute_error\u001b[1;34m(y_true, y_pred, sample_weight, multioutput)\u001b[0m\n\u001b[0;32m    176\u001b[0m     \u001b[1;36m0.85\u001b[0m\u001b[1;33m...\u001b[0m\u001b[1;33m\u001b[0m\u001b[1;33m\u001b[0m\u001b[0m\n\u001b[0;32m    177\u001b[0m     \"\"\"\n\u001b[1;32m--> 178\u001b[1;33m     y_type, y_true, y_pred, multioutput = _check_reg_targets(\n\u001b[0m\u001b[0;32m    179\u001b[0m         y_true, y_pred, multioutput)\n\u001b[0;32m    180\u001b[0m     \u001b[0mcheck_consistent_length\u001b[0m\u001b[1;33m(\u001b[0m\u001b[0my_true\u001b[0m\u001b[1;33m,\u001b[0m \u001b[0my_pred\u001b[0m\u001b[1;33m,\u001b[0m \u001b[0msample_weight\u001b[0m\u001b[1;33m)\u001b[0m\u001b[1;33m\u001b[0m\u001b[1;33m\u001b[0m\u001b[0m\n",
      "\u001b[1;32mC:\\python\\anaconda\\lib\\site-packages\\sklearn\\metrics\\_regression.py\u001b[0m in \u001b[0;36m_check_reg_targets\u001b[1;34m(y_true, y_pred, multioutput, dtype)\u001b[0m\n\u001b[0;32m     82\u001b[0m \u001b[1;33m\u001b[0m\u001b[0m\n\u001b[0;32m     83\u001b[0m     \"\"\"\n\u001b[1;32m---> 84\u001b[1;33m     \u001b[0mcheck_consistent_length\u001b[0m\u001b[1;33m(\u001b[0m\u001b[0my_true\u001b[0m\u001b[1;33m,\u001b[0m \u001b[0my_pred\u001b[0m\u001b[1;33m)\u001b[0m\u001b[1;33m\u001b[0m\u001b[1;33m\u001b[0m\u001b[0m\n\u001b[0m\u001b[0;32m     85\u001b[0m     \u001b[0my_true\u001b[0m \u001b[1;33m=\u001b[0m \u001b[0mcheck_array\u001b[0m\u001b[1;33m(\u001b[0m\u001b[0my_true\u001b[0m\u001b[1;33m,\u001b[0m \u001b[0mensure_2d\u001b[0m\u001b[1;33m=\u001b[0m\u001b[1;32mFalse\u001b[0m\u001b[1;33m,\u001b[0m \u001b[0mdtype\u001b[0m\u001b[1;33m=\u001b[0m\u001b[0mdtype\u001b[0m\u001b[1;33m)\u001b[0m\u001b[1;33m\u001b[0m\u001b[1;33m\u001b[0m\u001b[0m\n\u001b[0;32m     86\u001b[0m     \u001b[0my_pred\u001b[0m \u001b[1;33m=\u001b[0m \u001b[0mcheck_array\u001b[0m\u001b[1;33m(\u001b[0m\u001b[0my_pred\u001b[0m\u001b[1;33m,\u001b[0m \u001b[0mensure_2d\u001b[0m\u001b[1;33m=\u001b[0m\u001b[1;32mFalse\u001b[0m\u001b[1;33m,\u001b[0m \u001b[0mdtype\u001b[0m\u001b[1;33m=\u001b[0m\u001b[0mdtype\u001b[0m\u001b[1;33m)\u001b[0m\u001b[1;33m\u001b[0m\u001b[1;33m\u001b[0m\u001b[0m\n",
      "\u001b[1;32mC:\\python\\anaconda\\lib\\site-packages\\sklearn\\utils\\validation.py\u001b[0m in \u001b[0;36mcheck_consistent_length\u001b[1;34m(*arrays)\u001b[0m\n\u001b[0;32m    253\u001b[0m     \u001b[0muniques\u001b[0m \u001b[1;33m=\u001b[0m \u001b[0mnp\u001b[0m\u001b[1;33m.\u001b[0m\u001b[0munique\u001b[0m\u001b[1;33m(\u001b[0m\u001b[0mlengths\u001b[0m\u001b[1;33m)\u001b[0m\u001b[1;33m\u001b[0m\u001b[1;33m\u001b[0m\u001b[0m\n\u001b[0;32m    254\u001b[0m     \u001b[1;32mif\u001b[0m \u001b[0mlen\u001b[0m\u001b[1;33m(\u001b[0m\u001b[0muniques\u001b[0m\u001b[1;33m)\u001b[0m \u001b[1;33m>\u001b[0m \u001b[1;36m1\u001b[0m\u001b[1;33m:\u001b[0m\u001b[1;33m\u001b[0m\u001b[1;33m\u001b[0m\u001b[0m\n\u001b[1;32m--> 255\u001b[1;33m         raise ValueError(\"Found input variables with inconsistent numbers of\"\n\u001b[0m\u001b[0;32m    256\u001b[0m                          \" samples: %r\" % [int(l) for l in lengths])\n\u001b[0;32m    257\u001b[0m \u001b[1;33m\u001b[0m\u001b[0m\n",
      "\u001b[1;31mValueError\u001b[0m: Found input variables with inconsistent numbers of samples: [119, 395]"
     ]
    }
   ],
   "source": [
    "#avaliação da qualidade do modelo\n",
    "score = notas_final.score(X_test, y_test)\n",
    "print('Score:', score)\n",
    "print('Mean Absolute Error:', metrics.mean_absolute_error(y_test, y_pred)) #próx de 0, melhor\n",
    "print('Mean Squared Error:', metrics.mean_squared_error(y_test, y_pred))\n",
    "print('Root Mean Squared Error:', np.sqrt(metrics.mean_squared_error(y_test, y_pred))) #medida de dispersão"
   ]
  },
  {
   "cell_type": "code",
   "execution_count": null,
   "metadata": {},
   "outputs": [],
   "source": [
    "features_n = X.columns\n",
    "regr_2 = DecisionTreeRegressor()\n",
    "regr_2.fit(X, y)\n",
    "DTR_teste = regr_2.feature_importances_\n",
    "# plot feature importance\n",
    "plt.bar([x for x in range(len(DTR_teste))], DTR_teste)\n",
    "plt.xticks([x for x in range(len(DTR_teste))], features_n, rotation='vertical')\n",
    "plt.show()"
   ]
  },
  {
   "cell_type": "code",
   "execution_count": null,
   "metadata": {},
   "outputs": [],
   "source": []
  },
  {
   "cell_type": "markdown",
   "metadata": {},
   "source": [
    "## Planilha completa - DecisionTreeRegressor"
   ]
  },
  {
   "cell_type": "code",
   "execution_count": null,
   "metadata": {},
   "outputs": [],
   "source": [
    "X = df_notas.drop('G3', axis=1)\n",
    "y = df_notas['G3']\n",
    "regressor2= DecisionTreeRegressor(random_state = 0)\n",
    "\n",
    "#Variável teste\n",
    "X_train, X_test, y_train, y_test = train_test_split(X, y, test_size=0.3, random_state=42)\n",
    "\n",
    "#fit tregressor with X and y data\n",
    "regressor2.fit(X_train, y_train)"
   ]
  },
  {
   "cell_type": "code",
   "execution_count": null,
   "metadata": {},
   "outputs": [],
   "source": [
    "y_pred = regressor2.predict(X_test)"
   ]
  },
  {
   "cell_type": "markdown",
   "metadata": {},
   "source": [
    "### Aplicando o regressor"
   ]
  },
  {
   "cell_type": "markdown",
   "metadata": {},
   "source": [
    "# Teste de análise de Overfitting\n",
    "Neste teste:\n",
    "X = df_notas3\n",
    "y = df_notas['G3']\n",
    "Considera apenas as colunas indicadas no Yellowbrick"
   ]
  }
 ],
 "metadata": {
  "kernelspec": {
   "display_name": "Python 3",
   "language": "python",
   "name": "python3"
  },
  "language_info": {
   "codemirror_mode": {
    "name": "ipython",
    "version": 3
   },
   "file_extension": ".py",
   "mimetype": "text/x-python",
   "name": "python",
   "nbconvert_exporter": "python",
   "pygments_lexer": "ipython3",
   "version": "3.8.5"
  }
 },
 "nbformat": 4,
 "nbformat_minor": 4
}
